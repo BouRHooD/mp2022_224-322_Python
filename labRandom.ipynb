{
 "cells": [
  {
   "cell_type": "code",
   "execution_count": 11,
   "metadata": {},
   "outputs": [
    {
     "name": "stdout",
     "output_type": "stream",
     "text": [
      "5\n"
     ]
    }
   ],
   "source": [
    "print(2 + 3)"
   ]
  },
  {
   "cell_type": "markdown",
   "metadata": {},
   "source": [
    "# random - Генератор случайных чисел"
   ]
  },
  {
   "cell_type": "code",
   "execution_count": 12,
   "metadata": {},
   "outputs": [],
   "source": [
    "import random"
   ]
  },
  {
   "cell_type": "code",
   "execution_count": 13,
   "metadata": {},
   "outputs": [
    {
     "name": "stdout",
     "output_type": "stream",
     "text": [
      "0.7417869892607294\n"
     ]
    }
   ],
   "source": [
    "# Вернуть псевдослучайное дробное число в интервале [0.0, 1.0)\n",
    "print(random.random())"
   ]
  },
  {
   "cell_type": "code",
   "execution_count": 14,
   "metadata": {},
   "outputs": [
    {
     "name": "stdout",
     "output_type": "stream",
     "text": [
      "914\n",
      "900\n"
     ]
    }
   ],
   "source": [
    "# Вернуть целое число в диапазоне от <начала> до <конца>\n",
    "print(random.randint(100, 999))\n",
    "print(random.randrange(100, 999, 100))"
   ]
  },
  {
   "cell_type": "code",
   "execution_count": 15,
   "metadata": {},
   "outputs": [
    {
     "name": "stdout",
     "output_type": "stream",
     "text": [
      "[0, 1, 2, 3, 4, 5, 6, 7, 8, 9]\n",
      "[8, 2, 4, 6, 1, 9, 5, 3, 7, 0]\n"
     ]
    }
   ],
   "source": [
    "# Перемешать последовательность (список)\n",
    "numbers = list(range(10))\n",
    "print(numbers)\n",
    "random.shuffle(numbers)\n",
    "print(numbers)"
   ]
  },
  {
   "cell_type": "code",
   "execution_count": 16,
   "metadata": {},
   "outputs": [
    {
     "name": "stdout",
     "output_type": "stream",
     "text": [
      "['Т']\n",
      "['И', 'П', 'Р', 'Е', 'И', 'Р', 'Т', 'И', 'Е', 'П', 'В', 'И', 'П', 'Т', 'П', 'Е', 'Т', 'П', 'П', 'Р']\n",
      "[1, 8, 6, 1, 9, 1, 9, 3, 0, 4, 9, 2, 3, 8, 5, 5, 7, 0, 3, 3]\n"
     ]
    }
   ],
   "source": [
    "# Вернуть случайный элемент из последовотельности (строки, списка, ...) \n",
    "print(random.choices(\"ПРИВЕТ\"))\n",
    "print(random.choices(\"ПРИВЕТ\", k=20))\n",
    "print(random.choices(list(range(10)), k=20))"
   ]
  },
  {
   "cell_type": "markdown",
   "metadata": {},
   "source": [
    "# HW:\n",
    "- Добавить использование других методов из random "
   ]
  },
  {
   "cell_type": "code",
   "execution_count": 20,
   "metadata": {},
   "outputs": [
    {
     "name": "stdout",
     "output_type": "stream",
     "text": [
      "Случайное число с семенем  0.6229016948897019\n",
      "Случайное число с семенем  0.6229016948897019\n"
     ]
    }
   ],
   "source": [
    "# ***** Генератор псевдослучайных чисел —  seed() модуль random\n",
    "# Модуль random использует значение из seed, или отправной точки как основу для генерации случайного числа. \n",
    "# Если значения seed нет в наличии, тогда система будет отталкиваться от текущего времени.\n",
    "# Пример: https://python-scripts.com/random#seed\n",
    "# (1)\n",
    "random.seed(5)\n",
    "print(\"Случайное число с семенем \", random.random())\n",
    "random.seed(5)\n",
    "print(\"Случайное число с семенем \", random.random())"
   ]
  }
 ],
 "metadata": {
  "kernelspec": {
   "display_name": "Python 3.10.7 64-bit",
   "language": "python",
   "name": "python3"
  },
  "language_info": {
   "codemirror_mode": {
    "name": "ipython",
    "version": 3
   },
   "file_extension": ".py",
   "mimetype": "text/x-python",
   "name": "python",
   "nbconvert_exporter": "python",
   "pygments_lexer": "ipython3",
   "version": "3.10.7"
  },
  "orig_nbformat": 4,
  "vscode": {
   "interpreter": {
    "hash": "943c6ee01c10f5cc3c57caccbb7ab83aef6e579cc7a0aa252d51d555fb6a6bce"
   }
  }
 },
 "nbformat": 4,
 "nbformat_minor": 2
}
