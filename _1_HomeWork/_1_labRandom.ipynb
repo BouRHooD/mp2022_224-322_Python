{
 "cells": [
  {
   "cell_type": "markdown",
   "metadata": {},
   "source": [
    "# random - Генератор случайных чисел"
   ]
  },
  {
   "cell_type": "code",
   "execution_count": 1,
   "metadata": {},
   "outputs": [],
   "source": [
    "import random"
   ]
  },
  {
   "cell_type": "markdown",
   "metadata": {},
   "source": [
    "# HW:\n",
    "- Добавить использование других методов из random "
   ]
  },
  {
   "cell_type": "code",
   "execution_count": 2,
   "metadata": {},
   "outputs": [
    {
     "name": "stdout",
     "output_type": "stream",
     "text": [
      "Случайное число с семенем  0.6229016948897019\n",
      "Случайное число с семенем  0.6229016948897019\n"
     ]
    }
   ],
   "source": [
    "# ***** Генератор псевдослучайных чисел —  seed() модуль random\n",
    "# Модуль random использует значение из seed, или отправной точки как основу для генерации случайного числа. \n",
    "# Если значения seed нет в наличии, тогда система будет отталкиваться от текущего времени.\n",
    "# Пример: https://python-scripts.com/random#seed\n",
    "# (1)\n",
    "random.seed(5)\n",
    "print(\"Случайное число с семенем \", random.random())\n",
    "random.seed(5)\n",
    "print(\"Случайное число с семенем \", random.random())"
   ]
  },
  {
   "cell_type": "code",
   "execution_count": 3,
   "metadata": {},
   "outputs": [
    {
     "name": "stdout",
     "output_type": "stream",
     "text": [
      "random.sample()  [8, 2, 5]\n"
     ]
    }
   ],
   "source": [
    "# ***** Метод sample(population, k) из модуля random\n",
    "# Метод random.sample() используется, когда требуется выбрать несколько элементов из заданной последовательности population\n",
    "# Пример: https://python-scripts.com/random#sample\n",
    "# (2)\n",
    "list = [2, 5, 8, 9, 12]\n",
    "print (\"random.sample() \", random.sample(list, 3))\n"
   ]
  },
  {
   "cell_type": "code",
   "execution_count": 4,
   "metadata": {},
   "outputs": [
    {
     "name": "stdout",
     "output_type": "stream",
     "text": [
      "Первая выборка  [12, 3, 9, 27, 24]\n",
      "Вторая выборка  [24, 12, 21, 15, 3]\n",
      "Третья выборка  [24, 12, 21, 15, 3]\n",
      "Четвертая выборка  [24, 12, 21, 15, 3]\n"
     ]
    }
   ],
   "source": [
    "# ***** Зачем нужны функции getstate() и setstate()\n",
    "# Функция setstate() восстанавливает внутреннее состояние генератора и передает его состоянию объекта. \n",
    "# Это значит, что вновь будет использован тот же параметр состояния state. \n",
    "# Объект state может быть получен при помощи вызова функции getstate().\n",
    "# Пример: https://python-scripts.com/random#for-what-get-set\n",
    "# (3)\n",
    "number_list = [3, 6, 9, 12, 15, 18, 21, 24, 27, 30]         # Список цифр\n",
    "print(\"Первая выборка \", random.sample(number_list,k=5))    # Случайная выборка\n",
    "\n",
    "state = random.getstate()                                   # Хранит текущее состояние в объекте state\n",
    "print(\"Вторая выборка \", random.sample(number_list,k=5))    # Случайная выборка\n",
    " \n",
    "random.setstate(state)                                      # Восстанавливает состояние state, используя setstate\n",
    "print(\"Третья выборка \", random.sample(number_list,k=5))    #Теперь будет выведен тот же список второй выборки\n",
    " \n",
    "random.setstate(state)                                      # Восстанавливает текущее состояние state\n",
    "print(\"Четвертая выборка \", random.sample(number_list,k=5)) # Вновь будет выведен тот же список второй выборки"
   ]
  },
  {
   "cell_type": "code",
   "execution_count": 5,
   "metadata": {},
   "outputs": [
    {
     "name": "stdout",
     "output_type": "stream",
     "text": [
      "2.935880788152246\n",
      "0.0040353057731035615\n",
      "2.48105852502906\n",
      "7.256307838738146\n",
      "5.804234300998788\n",
      "0.0008253464385441087\n",
      "5.029854516225632\n",
      "1.7661349988602362\n",
      "1.2644676217925666\n",
      "1.277168019178548\n"
     ]
    }
   ],
   "source": [
    "# ***** Разные основы для генератора\n",
    "# (4)\n",
    "print(random.triangular     (1, 5, 2.5))        # Возвращает случайное вещественное число в промежутке между двумя заданными параметрами. Также можно использовать параметр mode для уточнения середины между указанными параметрами\n",
    "print(random.betavariate    (alpha=1, beta=5))  # Возвращает случайное вещественное число в промежутке между 0 и 1, основываясь на Бета-распределении, которое используется в статистике\n",
    "print(random.expovariate    (lambd=1))          # Возвращает случайное вещественное число из экспоненциального (показательного) распределения\n",
    "print(random.gammavariate   (alpha=1, beta=5))  # Возвращает случайное вещественное число из гамма-распределения\n",
    "print(random.gauss          (mu=1, sigma=5))    # Возвращает случайное вещественное число из распределения Гауса. По сути, выполняет то же самое что и random.normalvariate(), но немного быстрее\n",
    "print(random.lognormvariate (mu=1, sigma=5))    # Возвращает случайное вещественное число из логнормального распределения.Аргумент mu - может быть любым, а вот sigma - должна быть строго больше 0.\n",
    "print(random.normalvariate  (mu=1, sigma=5))    # Возвращает случайное вещественное число из нормального распределения\n",
    "print(random.vonmisesvariate(mu=1, kappa=5))    # Возвращает случайный угол из интервала [0, 2*pi] значение которого подчиняется закону распределения фон Мизеса. Аргумент mu - средний угол выраженный в радианах из интервала [0, 2*pi], kappa должен быть больше либо равен 0.\n",
    "print(random.paretovariate  (alpha=5))          # Возвращает случайное вещественное число из распределения Парето\n",
    "print(random.weibullvariate (alpha=1, beta=5))  # Возвращает случайное вещественное число из распределения Вейбулла\n",
    "\n",
    "\n"
   ]
  },
  {
   "cell_type": "code",
   "execution_count": 6,
   "metadata": {},
   "outputs": [
    {
     "name": "stdout",
     "output_type": "stream",
     "text": [
      "28\n"
     ]
    }
   ],
   "source": [
    "# ***** getrandbits() Возвращает число, которое представляет собой случайные биты\n",
    "# (5)\n",
    "print(random.getrandbits(5))"
   ]
  }
 ],
 "metadata": {
  "kernelspec": {
   "display_name": "Python 3.10.7 64-bit",
   "language": "python",
   "name": "python3"
  },
  "language_info": {
   "codemirror_mode": {
    "name": "ipython",
    "version": 3
   },
   "file_extension": ".py",
   "mimetype": "text/x-python",
   "name": "python",
   "nbconvert_exporter": "python",
   "pygments_lexer": "ipython3",
   "version": "3.10.7"
  },
  "orig_nbformat": 4,
  "vscode": {
   "interpreter": {
    "hash": "943c6ee01c10f5cc3c57caccbb7ab83aef6e579cc7a0aa252d51d555fb6a6bce"
   }
  }
 },
 "nbformat": 4,
 "nbformat_minor": 2
}
