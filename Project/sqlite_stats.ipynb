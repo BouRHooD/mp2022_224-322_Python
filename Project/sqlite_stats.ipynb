{
 "cells": [
  {
   "attachments": {},
   "cell_type": "markdown",
   "metadata": {},
   "source": [
    "# ipynb-файл:\n",
    "- Создать несколько типичных запросов к БД, на которых можно было бы увидеть основные возможности выборки данных, желательно с использованием NumPy, Pandas, Matplotlib и т.п..\n",
    "Например:\n",
    "- статистика ссылок по доменам\n",
    "- поиск дубликатов ссылок"
   ]
  },
  {
   "cell_type": "code",
   "execution_count": 3,
   "metadata": {},
   "outputs": [
    {
     "data": {
      "text/html": [
       "<table>\n",
       "    <thead>\n",
       "        <tr>\n",
       "            <th>id</th>\n",
       "            <th>filename</th>\n",
       "            <th>url_domain</th>\n",
       "        </tr>\n",
       "    </thead>\n",
       "    <tbody>\n",
       "        <tr>\n",
       "            <td>1</td>\n",
       "            <td>test_file_1.txt</td>\n",
       "            <td>vk.com</td>\n",
       "        </tr>\n",
       "        <tr>\n",
       "            <td>2</td>\n",
       "            <td>test_file_2.txt</td>\n",
       "            <td>D:\\</td>\n",
       "        </tr>\n",
       "        <tr>\n",
       "            <td>3</td>\n",
       "            <td>test_file_3.txt</td>\n",
       "            <td>github.com</td>\n",
       "        </tr>\n",
       "        <tr>\n",
       "            <td>4</td>\n",
       "            <td>test_file_1.txt</td>\n",
       "            <td>github.com</td>\n",
       "        </tr>\n",
       "        <tr>\n",
       "            <td>5</td>\n",
       "            <td>test_file_1.txt</td>\n",
       "            <td>github.com</td>\n",
       "        </tr>\n",
       "    </tbody>\n",
       "</table>"
      ],
      "text/plain": [
       "+----+-----------------+------------+\n",
       "| id |     filename    | url_domain |\n",
       "+----+-----------------+------------+\n",
       "| 1  | test_file_1.txt |   vk.com   |\n",
       "| 2  | test_file_2.txt |    D:\\     |\n",
       "| 3  | test_file_3.txt | github.com |\n",
       "| 4  | test_file_1.txt | github.com |\n",
       "| 5  | test_file_1.txt | github.com |\n",
       "+----+-----------------+------------+"
      ]
     },
     "execution_count": 3,
     "metadata": {},
     "output_type": "execute_result"
    }
   ],
   "source": [
    "# Создаем пример БД\n",
    "import os\n",
    "import sqlite3\n",
    "from prettytable import from_db_cursor\n",
    "\n",
    "TEMP_DIR = \"temp\"\n",
    "if not os.path.exists(TEMP_DIR):\n",
    "    os.mkdir(TEMP_DIR)\n",
    "\n",
    "db_name = os.path.join(TEMP_DIR, 'temp_SQLite.db')\n",
    "\n",
    "db = sqlite3.connect(db_name)\n",
    "cur = db.cursor()\n",
    "\n",
    "# Пытаемся создать БД\n",
    "try:\n",
    "    cur.execute(\"CREATE TABLE data (id integer primary key AUTOINCREMENT NOT NULL, filename varchar(100), url_domain varchar(100))\")\n",
    "    db.commit()\n",
    "except:\n",
    "    pass\n",
    "\n",
    "# Пытаемся заполнить таблицу БД\n",
    "try:\n",
    "    filenames = \"test_file_1.txt, test_file_2.txt, test_file_3.txt, test_file_1.txt, test_file_1.txt\".split(', ')\n",
    "    cur.executemany(\"INSERT INTO data (filename) VALUES (?)\", [(i,) for i in filenames])\n",
    "    cur.execute('UPDATE data SET url_domain = \"vk.com\" WHERE id = 1')\n",
    "    cur.execute('UPDATE data SET url_domain = \"D:\\\\\" WHERE id = 2')\n",
    "    cur.execute('UPDATE data SET url_domain = \"github.com\" WHERE id = 3')\n",
    "    cur.execute('UPDATE data SET url_domain = \"github.com\" WHERE id = 4')\n",
    "    cur.execute('UPDATE data SET url_domain = \"github.com\" WHERE id = 5')\n",
    "except Exception as ex:\n",
    "    print(ex)\n",
    "\n",
    "# Выводим данные БД\n",
    "cur.execute(\"SELECT * FROM data\")\n",
    "from_db_cursor(cur)"
   ]
  },
  {
   "cell_type": "code",
   "execution_count": 4,
   "metadata": {},
   "outputs": [
    {
     "data": {
      "text/html": [
       "<div>\n",
       "<style scoped>\n",
       "    .dataframe tbody tr th:only-of-type {\n",
       "        vertical-align: middle;\n",
       "    }\n",
       "\n",
       "    .dataframe tbody tr th {\n",
       "        vertical-align: top;\n",
       "    }\n",
       "\n",
       "    .dataframe thead th {\n",
       "        text-align: right;\n",
       "    }\n",
       "</style>\n",
       "<table border=\"1\" class=\"dataframe\">\n",
       "  <thead>\n",
       "    <tr style=\"text-align: right;\">\n",
       "      <th></th>\n",
       "      <th>id</th>\n",
       "      <th>filename</th>\n",
       "      <th>url_domain</th>\n",
       "    </tr>\n",
       "  </thead>\n",
       "  <tbody>\n",
       "    <tr>\n",
       "      <th>0</th>\n",
       "      <td>1</td>\n",
       "      <td>test_file_1.txt</td>\n",
       "      <td>vk.com</td>\n",
       "    </tr>\n",
       "    <tr>\n",
       "      <th>1</th>\n",
       "      <td>2</td>\n",
       "      <td>test_file_2.txt</td>\n",
       "      <td>D:\\</td>\n",
       "    </tr>\n",
       "    <tr>\n",
       "      <th>2</th>\n",
       "      <td>3</td>\n",
       "      <td>test_file_3.txt</td>\n",
       "      <td>github.com</td>\n",
       "    </tr>\n",
       "    <tr>\n",
       "      <th>3</th>\n",
       "      <td>4</td>\n",
       "      <td>test_file_1.txt</td>\n",
       "      <td>github.com</td>\n",
       "    </tr>\n",
       "    <tr>\n",
       "      <th>4</th>\n",
       "      <td>5</td>\n",
       "      <td>test_file_1.txt</td>\n",
       "      <td>github.com</td>\n",
       "    </tr>\n",
       "  </tbody>\n",
       "</table>\n",
       "</div>"
      ],
      "text/plain": [
       "   id         filename  url_domain\n",
       "0   1  test_file_1.txt      vk.com\n",
       "1   2  test_file_2.txt         D:\\\n",
       "2   3  test_file_3.txt  github.com\n",
       "3   4  test_file_1.txt  github.com\n",
       "4   5  test_file_1.txt  github.com"
      ]
     },
     "execution_count": 4,
     "metadata": {},
     "output_type": "execute_result"
    }
   ],
   "source": [
    "# Статистика ссылок по доменам\n",
    "import numpy\n",
    "import pandas\n",
    "import matplotlib\n",
    "\n",
    "df = pandas.read_sql_query(\"SELECT * FROM data\", db)\n",
    "df.head()"
   ]
  },
  {
   "cell_type": "code",
   "execution_count": 5,
   "metadata": {},
   "outputs": [
    {
     "name": "stdout",
     "output_type": "stream",
     "text": [
      "<class 'pandas.core.frame.DataFrame'>\n",
      "RangeIndex: 5 entries, 0 to 4\n",
      "Data columns (total 3 columns):\n",
      " #   Column      Non-Null Count  Dtype \n",
      "---  ------      --------------  ----- \n",
      " 0   id          5 non-null      int64 \n",
      " 1   filename    5 non-null      object\n",
      " 2   url_domain  5 non-null      object\n",
      "dtypes: int64(1), object(2)\n",
      "memory usage: 248.0+ bytes\n"
     ]
    }
   ],
   "source": [
    "df.info()"
   ]
  },
  {
   "cell_type": "code",
   "execution_count": 6,
   "metadata": {},
   "outputs": [
    {
     "name": "stdout",
     "output_type": "stream",
     "text": [
      "id            5\n",
      "filename      5\n",
      "url_domain    5\n",
      "dtype: int64\n"
     ]
    }
   ],
   "source": [
    "print(df.count())"
   ]
  },
  {
   "cell_type": "code",
   "execution_count": 7,
   "metadata": {},
   "outputs": [
    {
     "data": {
      "text/plain": [
       "github.com    3\n",
       "vk.com        1\n",
       "D:\\           1\n",
       "Name: url_domain, dtype: int64"
      ]
     },
     "execution_count": 7,
     "metadata": {},
     "output_type": "execute_result"
    }
   ],
   "source": [
    "df.url_domain.value_counts()"
   ]
  },
  {
   "cell_type": "code",
   "execution_count": 8,
   "metadata": {},
   "outputs": [
    {
     "data": {
      "image/png": "[encoded data removed]",
      "text/plain": [
       "<Figure size 640x480 with 1 Axes>"
      ]
     },
     "metadata": {},
     "output_type": "display_data"
    }
   ],
   "source": [
    "import matplotlib.pyplot as plt\n",
    "\n",
    "dict_df = dict(df.url_domain.value_counts())\n",
    "\n",
    "labels = dict_df.keys()\n",
    "values = dict_df.values()\n",
    "\n",
    "fig, ax = plt.subplots()\n",
    "fig.set_facecolor('lightgreen')\n",
    "ax.set_title('Мои расходы')\n",
    "ax.pie(values, labels=labels, wedgeprops={\"linewidth\": 5, \"edgecolor\":'white'})\n",
    "plt.show()"
   ]
  },
  {
   "cell_type": "code",
   "execution_count": 9,
   "metadata": {},
   "outputs": [
    {
     "data": {
      "text/html": [
       "<div>\n",
       "<style scoped>\n",
       "    .dataframe tbody tr th:only-of-type {\n",
       "        vertical-align: middle;\n",
       "    }\n",
       "\n",
       "    .dataframe tbody tr th {\n",
       "        vertical-align: top;\n",
       "    }\n",
       "\n",
       "    .dataframe thead th {\n",
       "        text-align: right;\n",
       "    }\n",
       "</style>\n",
       "<table border=\"1\" class=\"dataframe\">\n",
       "  <thead>\n",
       "    <tr style=\"text-align: right;\">\n",
       "      <th></th>\n",
       "      <th>id</th>\n",
       "      <th>filename</th>\n",
       "      <th>url_domain</th>\n",
       "    </tr>\n",
       "  </thead>\n",
       "  <tbody>\n",
       "    <tr>\n",
       "      <th>3</th>\n",
       "      <td>4</td>\n",
       "      <td>test_file_1.txt</td>\n",
       "      <td>github.com</td>\n",
       "    </tr>\n",
       "    <tr>\n",
       "      <th>4</th>\n",
       "      <td>5</td>\n",
       "      <td>test_file_1.txt</td>\n",
       "      <td>github.com</td>\n",
       "    </tr>\n",
       "  </tbody>\n",
       "</table>\n",
       "</div>"
      ],
      "text/plain": [
       "   id         filename  url_domain\n",
       "3   4  test_file_1.txt  github.com\n",
       "4   5  test_file_1.txt  github.com"
      ]
     },
     "execution_count": 9,
     "metadata": {},
     "output_type": "execute_result"
    }
   ],
   "source": [
    "# Поиск дубликатов ссылок\n",
    "df[df.url_domain.duplicated()]\n"
   ]
  },
  {
   "cell_type": "code",
   "execution_count": 10,
   "metadata": {},
   "outputs": [],
   "source": [
    "db.close()"
   ]
  }
 ],
 "metadata": {
  "kernelspec": {
   "display_name": "Python 3",
   "language": "python",
   "name": "python3"
  },
  "language_info": {
   "codemirror_mode": {
    "name": "ipython",
    "version": 3
   },
   "file_extension": ".py",
   "mimetype": "text/x-python",
   "name": "python",
   "nbconvert_exporter": "python",
   "pygments_lexer": "ipython3",
   "version": "3.10.7 (tags/v3.10.7:6cc6b13, Sep  5 2022, 14:08:36) [MSC v.1933 64 bit (AMD64)]"
  },
  "orig_nbformat": 4,
  "vscode": {
   "interpreter": {
    "hash": "943c6ee01c10f5cc3c57caccbb7ab83aef6e579cc7a0aa252d51d555fb6a6bce"
   }
  }
 },
 "nbformat": 4,
 "nbformat_minor": 2
}
