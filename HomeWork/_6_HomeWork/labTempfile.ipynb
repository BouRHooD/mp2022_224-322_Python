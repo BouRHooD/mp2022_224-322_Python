{
 "cells": [
  {
   "attachments": {},
   "cell_type": "markdown",
   "metadata": {},
   "source": [
    "# tempfile - Временные файлы и каталоги"
   ]
  },
  {
   "cell_type": "code",
   "execution_count": 14,
   "metadata": {},
   "outputs": [],
   "source": [
    "import tempfile"
   ]
  },
  {
   "cell_type": "code",
   "execution_count": 15,
   "metadata": {},
   "outputs": [
    {
     "data": {
      "text/plain": [
       "'C:\\\\Users\\\\Surflay\\\\AppData\\\\Local\\\\Temp'"
      ]
     },
     "execution_count": 15,
     "metadata": {},
     "output_type": "execute_result"
    }
   ],
   "source": [
    "tempfile.gettempdir()"
   ]
  },
  {
   "cell_type": "code",
   "execution_count": 16,
   "metadata": {},
   "outputs": [
    {
     "name": "stdout",
     "output_type": "stream",
     "text": [
      "rb+\n",
      "C:\\Users\\Surflay\\AppData\\Local\\Temp\\tmp27yq5yv6\n"
     ]
    }
   ],
   "source": [
    "with tempfile.TemporaryFile() as f:\n",
    "    print(f.mode)\n",
    "    print(f.name)"
   ]
  },
  {
   "cell_type": "code",
   "execution_count": 17,
   "metadata": {},
   "outputs": [
    {
     "name": "stdout",
     "output_type": "stream",
     "text": [
      "C:\\Users\\Surflay\\AppData\\Local\\Temp\\tmp5draxvkb\n"
     ]
    }
   ],
   "source": [
    "with tempfile.TemporaryDirectory() as tempPath:\n",
    "    print(tempPath)"
   ]
  },
  {
   "cell_type": "code",
   "execution_count": 18,
   "metadata": {},
   "outputs": [
    {
     "name": "stdout",
     "output_type": "stream",
     "text": [
      "C:\\Users\\Surflay\\AppData\\Local\\Temp\\___gpfp9d5ozzz\n"
     ]
    }
   ],
   "source": [
    "with tempfile.TemporaryDirectory(prefix='___', suffix='zzz') as tempPath:\n",
    "    print(tempPath)"
   ]
  },
  {
   "cell_type": "code",
   "execution_count": 19,
   "metadata": {},
   "outputs": [
    {
     "name": "stdout",
     "output_type": "stream",
     "text": [
      "Файл: C:\\Users\\Surflay\\AppData\\Local\\Temp\\tmpl7kdicyu\n",
      "{'Город': 'Омск', 'Регион': 'Омская область', 'Федеральный округ': 'Сибирский', 'lat': '54,989342', 'lng': '73,368212'}\n",
      "{'Город': 'Печора', 'Регион': 'Коми', 'Федеральный округ': 'Северо-Западный', 'lat': '65,148602', 'lng': '57,223977'}\n",
      "{'Город': 'Карабулак', 'Регион': 'Ингушетия', 'Федеральный округ': 'Северо-Кавказский', 'lat': '43,305594', 'lng': '44,909404'}\n",
      "{'Город': 'КрасныйХолм', 'Регион': 'Тверская область', 'Федеральный округ': 'Центральный', 'lat': '56,010563', 'lng': '92,852572'}\n",
      "{'Город': 'Буйнакск', 'Регион': 'Дагестан', 'Федеральный округ': 'Северо-Кавказский', 'lat': '42,821749', 'lng': '47,115927'}\n",
      "{'Город': 'Скопин', 'Регион': 'Рязанская область', 'Федеральный округ': 'Центральный', 'lat': '53,82359', 'lng': '39,549328'}\n",
      "{'Город': 'Тейково', 'Регион': 'Ивановская область', 'Федеральный округ': 'Центральный', 'lat': '56,85436', 'lng': '40,535471'}\n",
      "{'Город': 'Сусуман', 'Регион': 'Магаданская область', 'Федеральный округ': 'Дальневосточный', 'lat': '62,780464', 'lng': '148,153687'}\n",
      "{'Город': 'Берёзовский', 'Регион': 'Кемеровская область', 'Федеральный округ': 'Сибирский', 'lat': '56,910173', 'lng': '60,798203'}\n",
      "{'Город': 'Рузаевка', 'Регион': 'Мордовия', 'Федеральный округ': 'Приволжский', 'lat': '54,058268', 'lng': '44,94911'}\n",
      "Файл: C:\\Users\\Surflay\\AppData\\Local\\Temp\\tmpfv935jp5\n",
      "{'Город': 'Тейково', 'Регион': 'Ивановская область', 'Федеральный округ': 'Центральный', 'lat': '56,85436', 'lng': '40,535471'}\n",
      "{'Город': 'Сусуман', 'Регион': 'Магаданская область', 'Федеральный округ': 'Дальневосточный', 'lat': '62,780464', 'lng': '148,153687'}\n",
      "{'Город': 'Скопин', 'Регион': 'Рязанская область', 'Федеральный округ': 'Центральный', 'lat': '53,82359', 'lng': '39,549328'}\n",
      "{'Город': 'Рузаевка', 'Регион': 'Мордовия', 'Федеральный округ': 'Приволжский', 'lat': '54,058268', 'lng': '44,94911'}\n",
      "{'Город': 'Печора', 'Регион': 'Коми', 'Федеральный округ': 'Северо-Западный', 'lat': '65,148602', 'lng': '57,223977'}\n",
      "{'Город': 'Омск', 'Регион': 'Омская область', 'Федеральный округ': 'Сибирский', 'lat': '54,989342', 'lng': '73,368212'}\n",
      "{'Город': 'КрасныйХолм', 'Регион': 'Тверская область', 'Федеральный округ': 'Центральный', 'lat': '56,010563', 'lng': '92,852572'}\n",
      "{'Город': 'Карабулак', 'Регион': 'Ингушетия', 'Федеральный округ': 'Северо-Кавказский', 'lat': '43,305594', 'lng': '44,909404'}\n",
      "{'Город': 'Буйнакск', 'Регион': 'Дагестан', 'Федеральный округ': 'Северо-Кавказский', 'lat': '42,821749', 'lng': '47,115927'}\n",
      "{'Город': 'Берёзовский', 'Регион': 'Кемеровская область', 'Федеральный округ': 'Сибирский', 'lat': '56,910173', 'lng': '60,798203'}\n"
     ]
    }
   ],
   "source": [
    "import tempfile\n",
    "import csv, random\n",
    "\n",
    "count_of_cities = 10\n",
    "# Выборка из 10 случайных городов\n",
    "cities = []\n",
    "with open(\"koord_russia.csv\") as f:\n",
    "    reader = csv.DictReader(f, delimiter=';') \n",
    "    full = list(reader)\n",
    "    for i in range(count_of_cities):\n",
    "        cities.append(random.choice(full))\n",
    "\n",
    "\n",
    "# tempfile сохраняется в папке TEMP - в конце удалить в ручную!!!\n",
    "# Сохранение в файл\n",
    "with tempfile.NamedTemporaryFile(mode='w', delete=False) as csvfile:\n",
    "    writer = csv.DictWriter(csvfile, fieldnames=['Город', 'Регион', 'Федеральный округ', 'lat', 'lng'])\n",
    "    writer.writeheader()\n",
    "    print(\"Файл: \" + csvfile.name)\n",
    "    for i in range(len(cities)):\n",
    "        writer.writerow(cities[i])\n",
    "        print(cities[i])\n",
    "\n",
    "# Чтение из файла\n",
    "full = []\n",
    "with open(csvfile.name) as csvfile:\n",
    "    reader = csv.DictReader(csvfile)\n",
    "    full = list(reader)\n",
    "\n",
    "# Сортировка в обратном алфавитном порядке\n",
    "sorted_values = []\n",
    "for i in range(len(full)):\n",
    "    sorted_values.append(list(full[i].values())[0])\n",
    "\n",
    "sorted_values.sort(reverse=True)\n",
    "sorted = []\n",
    "\n",
    "for i in sorted_values:\n",
    "    for j in full:\n",
    "        if j[list(j.keys())[0]] == i:\n",
    "            sorted.append(j)\n",
    "            break\n",
    "\n",
    "# Сохранение нового файла\n",
    "with tempfile.NamedTemporaryFile(mode='w', delete=False) as csvfile:\n",
    "    writer = csv.DictWriter(csvfile, fieldnames=['Город', 'Регион', 'Федеральный округ', 'lat', 'lng'])\n",
    "    writer.writeheader()\n",
    "    print(\"Файл: \" + csvfile.name)\n",
    "    for i in range(len(sorted)):\n",
    "        writer.writerow(sorted[i])\n",
    "        print(sorted[i])"
   ]
  },
  {
   "cell_type": "code",
   "execution_count": 20,
   "metadata": {},
   "outputs": [
    {
     "name": "stdout",
     "output_type": "stream",
     "text": [
      "C:\\Users\\Surflay\\AppData\\Local\\Temp\\tmp_60k2hwa\\Златоуст.txt\n",
      "C:\\Users\\Surflay\\AppData\\Local\\Temp\\tmp_60k2hwa\\Ардатов.txt\n",
      "Кол-во файлов: 2\n",
      "['Ардатов.txt', 'Златоуст.txt']\n"
     ]
    }
   ],
   "source": [
    "import os\n",
    "N = int(input(\"Введите кол-во файлов\"))\n",
    "\n",
    "temp_dir = tempfile.TemporaryDirectory()\n",
    "\n",
    "# Выборка из 10 случайных городов\n",
    "cities = []\n",
    "with open(\"koord_russia.csv\") as f:\n",
    "    reader = csv.DictReader(f, delimiter=';') \n",
    "    full = list(reader)\n",
    "    for i in range(N):\n",
    "        cities.append(random.choice(full))\n",
    "        path = temp_dir.name + \"\\\\\" + list(cities[i].values())[0] + \".txt\"\n",
    "        print(path)\n",
    "        text_file = open(path, \"w\")\n",
    "        text_file.write(str(cities[i]))\n",
    "        text_file.close()\n",
    "\n",
    "# Проверка\n",
    "_, _, files = next(os.walk(temp_dir.name))\n",
    "print(\"Кол-во файлов: \" + str(len(files)))\n",
    "print(files)"
   ]
  }
 ],
 "metadata": {
  "kernelspec": {
   "display_name": "Python 3",
   "language": "python",
   "name": "python3"
  },
  "language_info": {
   "codemirror_mode": {
    "name": "ipython",
    "version": 3
   },
   "file_extension": ".py",
   "mimetype": "text/x-python",
   "name": "python",
   "nbconvert_exporter": "python",
   "pygments_lexer": "ipython3",
   "version": "3.10.7"
  },
  "orig_nbformat": 4,
  "vscode": {
   "interpreter": {
    "hash": "943c6ee01c10f5cc3c57caccbb7ab83aef6e579cc7a0aa252d51d555fb6a6bce"
   }
  }
 },
 "nbformat": 4,
 "nbformat_minor": 2
}
