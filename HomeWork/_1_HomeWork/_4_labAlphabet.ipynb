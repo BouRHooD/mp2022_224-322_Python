{
 "cells": [
  {
   "cell_type": "markdown",
   "metadata": {},
   "source": [
    "# Алфавит RU и EN\n",
    "\n",
    "HW: \n",
    "- Вывести алфавит в прямом и обратном порядке через пробелы, несколькими способами"
   ]
  },
  {
   "cell_type": "markdown",
   "metadata": {},
   "source": [
    "Способ №1 - Range and List comprehension"
   ]
  },
  {
   "cell_type": "code",
   "execution_count": 55,
   "metadata": {},
   "outputs": [
    {
     "name": "stdout",
     "output_type": "stream",
     "text": [
      "а б в г д е ж з и й к л м н о п р с т у ф х ц ч ш щ ъ ы ь э ю я \n",
      "я ю э ь ы ъ щ ш ч ц х ф у т с р п о н м л к й и з ж е д г в б а \n",
      "a b c d e f g h i j k l m n o p q r s t u v w x y z \n",
      "z y x w v u t s r q p o n m l k j i h g f e d c b a \n"
     ]
    }
   ],
   "source": [
    "alphabet_list_ru = list(range(ord(\"а\"), ord(\"я\") + 1))\n",
    "[print(chr(i), end=' ') for i in alphabet_list_ru];           print()\n",
    "[print(chr(i), end=' ') for i in reversed(alphabet_list_ru)]; print()\n",
    "\n",
    "alphabet_list_en = list(range(ord(\"a\"), ord(\"z\") + 1))\n",
    "[print(chr(i), end=' ') for i in alphabet_list_en];           print()\n",
    "[print(chr(i), end=' ') for i in reversed(alphabet_list_en)]; print()"
   ]
  },
  {
   "cell_type": "markdown",
   "metadata": {},
   "source": [
    "Способ №2 - Range, map(is basically equivalent to [f(x) for x in iterable]) and Unpacking the sequence (*) (Распаковка последовательности)"
   ]
  },
  {
   "cell_type": "code",
   "execution_count": 56,
   "metadata": {},
   "outputs": [
    {
     "name": "stdout",
     "output_type": "stream",
     "text": [
      "а б в г д е ж з и й к л м н о п р с т у ф х ц ч ш щ ъ ы ь э ю я\n",
      "я ю э ь ы ъ щ ш ч ц х ф у т с р п о н м л к й и з ж е д г в б а\n",
      "a b c d e f g h i j k l m n o p q r s t u v w x y z\n",
      "z y x w v u t s r q p o n m l k j i h g f e d c b a\n"
     ]
    }
   ],
   "source": [
    "alphabet_list_ru = list(map(chr, range(ord('а'), ord('я')+1)))\n",
    "print(*alphabet_list_ru)\n",
    "print(*reversed(alphabet_list_ru))\n",
    "\n",
    "alphabet_list_en = list(map(chr, range(ord('a'), ord('z')+1)))\n",
    "print(*alphabet_list_en)\n",
    "print(*reversed(alphabet_list_en))"
   ]
  },
  {
   "cell_type": "markdown",
   "metadata": {},
   "source": [
    "Способ №3 - Import list "
   ]
  },
  {
   "cell_type": "code",
   "execution_count": 60,
   "metadata": {},
   "outputs": [
    {
     "name": "stdout",
     "output_type": "stream",
     "text": [
      "а б в г д е ё ж з и й к л м н о п р с т у ф х ц ч ш щ ъ ы ь э ю я\n",
      "я ю э ь ы ъ щ ш ч ц х ф у т с р п о н м л к й и з ж ё е д г в б а\n",
      "a b c d e f g h i j k l m n o p q r s t u v w x y z\n",
      "z y x w v u t s r q p o n m l k j i h g f e d c b a\n"
     ]
    }
   ],
   "source": [
    "# Для кирилицы ничего испортировать не смог\n",
    "cyrillic_lower_letters = 'абвгдеёжзийклмнопрстуфхцчшщъыьэюя'\n",
    "print(*cyrillic_lower_letters)\n",
    "print(*reversed(cyrillic_lower_letters))\n",
    "\n",
    "# Для англйскийх символов можно испортировать уже готовый список букв\n",
    "from string import ascii_lowercase\n",
    "print(*ascii_lowercase)\n",
    "print(*reversed(ascii_lowercase))"
   ]
  }
 ],
 "metadata": {
  "kernelspec": {
   "display_name": "Python 3.10.7 64-bit",
   "language": "python",
   "name": "python3"
  },
  "language_info": {
   "codemirror_mode": {
    "name": "ipython",
    "version": 3
   },
   "file_extension": ".py",
   "mimetype": "text/x-python",
   "name": "python",
   "nbconvert_exporter": "python",
   "pygments_lexer": "ipython3",
   "version": "3.10.7 (tags/v3.10.7:6cc6b13, Sep  5 2022, 14:08:36) [MSC v.1933 64 bit (AMD64)]"
  },
  "orig_nbformat": 4,
  "vscode": {
   "interpreter": {
    "hash": "943c6ee01c10f5cc3c57caccbb7ab83aef6e579cc7a0aa252d51d555fb6a6bce"
   }
  }
 },
 "nbformat": 4,
 "nbformat_minor": 2
}
