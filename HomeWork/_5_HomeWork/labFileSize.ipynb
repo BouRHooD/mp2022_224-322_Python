{
 "cells": [
  {
   "attachments": {},
   "cell_type": "markdown",
   "metadata": {},
   "source": [
    "# HW:\n",
    "- Создать функцию pretty_size(...), с помощью которой можно будет построить таблицу с данными\n",
    "\n",
    "(название файла, размер файла в байтах, размер файла автоматически(т.е. в байтах, КБ, МБ, ТБ в зависимости от размера файла), и т.п.)\n",
    "Возможный пример вывода"
   ]
  },
  {
   "cell_type": "code",
   "execution_count": 11,
   "metadata": {},
   "outputs": [
    {
     "name": "stdout",
     "output_type": "stream",
     "text": [
      "C:\\\\Users\\Surflay\n"
     ]
    }
   ],
   "source": [
    "import sys\n",
    "import os \n",
    "\n",
    "path = f\"{os.environ.get('HOMEDRIVE')}\\{os.environ.get('HOMEPATH')}\"\n",
    "print(path)"
   ]
  },
  {
   "cell_type": "code",
   "execution_count": 3,
   "metadata": {},
   "outputs": [],
   "source": [
    "def convert_unit(size_in_bytes: int)->str:\n",
    "    unit = ''\n",
    "    if size_in_bytes / 1024 > 1:\n",
    "        if size_in_bytes/ 1024**2 > 1:\n",
    "            if size_in_bytes/ 1024**3 > 1:\n",
    "                unit = str(round(size_in_bytes/1024**3,2)) + ' GB'\n",
    "            else:\n",
    "                unit = str(round(size_in_bytes/1024**2,2)) + ' MB'\n",
    "        else:\n",
    "            unit = str(round(size_in_bytes/1024,2)) + ' KB'\n",
    "    else: \n",
    "          unit = str(size_in_bytes)   + ' Bytes' \n",
    "   \n",
    "    return unit"
   ]
  },
  {
   "cell_type": "code",
   "execution_count": 4,
   "metadata": {},
   "outputs": [],
   "source": [
    "def pretty_size(path: str) -> None:\n",
    "    files = os.listdir(path) # получить файлы по пути \n",
    "    files_info =[]\n",
    "    max_len_name = -1\n",
    "    max_len_byte = -1\n",
    "\n",
    "    for file in  files:\n",
    "        if len(file)>max_len_name:\n",
    "            max_len_name=len(file)\n",
    "        size_file = os.path.getsize(os.path.join(path, file))\n",
    "        if len(str(size_file))> max_len_byte:\n",
    "            max_len_byte=len(str(size_file))\n",
    "\n",
    "        files_info.append([file, size_file, convert_unit(size_file)])\n",
    "    \n",
    "    print(path + ' ...')\n",
    "    for file_info in files_info:\n",
    "        print(file_info[0]+ (' ' * (max_len_name - len(file_info[0])  )) +' |'+ (' ' * ( max_len_byte - len(str(file_info[1])) ))+ str(file_info[1])+ ' | ' + file_info[2])\n",
    "   "
   ]
  },
  {
   "cell_type": "code",
   "execution_count": 12,
   "metadata": {},
   "outputs": [
    {
     "name": "stdout",
     "output_type": "stream",
     "text": [
      "C:\\\\Users\\Surflay ...\n",
      ".arduinoIDE                                                                                  |   4096 | 4.0 KB\n",
      ".dotnet                                                                                      |   4096 | 4.0 KB\n",
      ".fcc                                                                                         |   4096 | 4.0 KB\n",
      ".gitconfig                                                                                   |    143 | 143 Bytes\n",
      ".ipython                                                                                     |      0 | 0 Bytes\n",
      ".matplotlib                                                                                  |      0 | 0 Bytes\n",
      ".ms-ad                                                                                       |      0 | 0 Bytes\n",
      ".node_repl_history                                                                           |      0 | 0 Bytes\n",
      ".nuget                                                                                       |      0 | 0 Bytes\n",
      ".templateengine                                                                              |      0 | 0 Bytes\n",
      ".VirtualBox                                                                                  |   4096 | 4.0 KB\n",
      ".vscode                                                                                      |      0 | 0 Bytes\n",
      "ansel                                                                                        |      0 | 0 Bytes\n",
      "AppData                                                                                      |      0 | 0 Bytes\n",
      "Application Data                                                                             |  12288 | 12.0 KB\n",
      "Contacts                                                                                     |      0 | 0 Bytes\n",
      "Cookies                                                                                      |   4096 | 4.0 KB\n",
      "Desktop                                                                                      |  16384 | 16.0 KB\n",
      "Doctor Web                                                                                   |      0 | 0 Bytes\n",
      "Documents                                                                                    |   8192 | 8.0 KB\n",
      "Downloads                                                                                    | 196608 | 192.0 KB\n",
      "Favorites                                                                                    |      0 | 0 Bytes\n",
      "Links                                                                                        |      0 | 0 Bytes\n",
      "Local Settings                                                                               |  24576 | 24.0 KB\n",
      "mechvibes_custom                                                                             |      0 | 0 Bytes\n",
      "Music                                                                                        |      0 | 0 Bytes\n",
      "NetHood                                                                                      |      0 | 0 Bytes\n",
      "NTUSER.DAT                                                                                   |6029312 | 5.75 MB\n",
      "ntuser.dat.LOG1                                                                              |1422336 | 1.36 MB\n",
      "ntuser.dat.LOG2                                                                              | 917504 | 896.0 KB\n",
      "NTUSER.DAT{1c2b59c6-c5f5-11eb-bacb-000d3a96488e}.TM.blf                                      |  65536 | 64.0 KB\n",
      "NTUSER.DAT{1c2b59c6-c5f5-11eb-bacb-000d3a96488e}.TMContainer00000000000000000001.regtrans-ms | 524288 | 512.0 KB\n",
      "NTUSER.DAT{1c2b59c6-c5f5-11eb-bacb-000d3a96488e}.TMContainer00000000000000000002.regtrans-ms | 524288 | 512.0 KB\n",
      "ntuser.ini                                                                                   |     20 | 20 Bytes\n",
      "OneDrive                                                                                     |   4096 | 4.0 KB\n",
      "Pictures                                                                                     |      0 | 0 Bytes\n",
      "PrintHood                                                                                    |      0 | 0 Bytes\n",
      "PycharmProjects                                                                              |      0 | 0 Bytes\n",
      "Recent                                                                                       | 327680 | 320.0 KB\n",
      "Saved Games                                                                                  |      0 | 0 Bytes\n",
      "Searches                                                                                     |   4096 | 4.0 KB\n",
      "SendTo                                                                                       |   4096 | 4.0 KB\n",
      "source                                                                                       |      0 | 0 Bytes\n",
      "Videos                                                                                       |   8192 | 8.0 KB\n",
      "VirtualBox VMs                                                                               |      0 | 0 Bytes\n",
      "главное меню                                                                                 |   4096 | 4.0 KB\n",
      "Мои документы                                                                                |   8192 | 8.0 KB\n",
      "Шаблоны                                                                                      |      0 | 0 Bytes\n"
     ]
    }
   ],
   "source": [
    "pretty_size(path)"
   ]
  }
 ],
 "metadata": {
  "kernelspec": {
   "display_name": "Python 3",
   "language": "python",
   "name": "python3"
  },
  "language_info": {
   "codemirror_mode": {
    "name": "ipython",
    "version": 3
   },
   "file_extension": ".py",
   "mimetype": "text/x-python",
   "name": "python",
   "nbconvert_exporter": "python",
   "pygments_lexer": "ipython3",
   "version": "3.10.7"
  },
  "orig_nbformat": 4,
  "vscode": {
   "interpreter": {
    "hash": "943c6ee01c10f5cc3c57caccbb7ab83aef6e579cc7a0aa252d51d555fb6a6bce"
   }
  }
 },
 "nbformat": 4,
 "nbformat_minor": 2
}
