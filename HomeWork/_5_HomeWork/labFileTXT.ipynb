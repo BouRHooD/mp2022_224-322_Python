{
 "cells": [
  {
   "attachments": {},
   "cell_type": "markdown",
   "metadata": {},
   "source": [
    "# HW:\n",
    "- пример работы с несколькими файлами\n",
    "- примеры с бинарными файлами '_b'"
   ]
  },
  {
   "cell_type": "code",
   "execution_count": 2,
   "metadata": {},
   "outputs": [
    {
     "name": "stdout",
     "output_type": "stream",
     "text": [
      "Processing Message from fileinput.input() *****fsgdg.habrdgh\n",
      "*****\n",
      "Processing Message from fileinput.input() *****decghds\n",
      "*****\n",
      "Processing Message from fileinput.input() *****habrxvzb\n",
      "*****\n",
      "Processing Message from fileinput.input() *****df\n",
      "*****\n",
      "Processing Message from fileinput.input() *****game_converterg\n",
      "*****\n",
      "Processing Message from fileinput.input() *****\n",
      "*****\n",
      "Processing Message from fileinput.input() *****defhe\n",
      "*****\n",
      "Processing Message from fileinput.input() *****game_converterge\n",
      "*****\n",
      "Processing Message from fileinput.input() *****entries\n",
      "*****\n",
      "Processing Message from fileinput.input() *****fgfdfbxc*****\n",
      "Processing Message from fileinput.input() *****1 egg\n",
      "*****\n",
      "Processing Message from fileinput.input() *****2 egg\n",
      "*****\n",
      "Processing Message from fileinput.input() *****3 egg\n",
      "*****\n",
      "Processing Message from fileinput.input() *****4 egg\n",
      "*****\n",
      "Processing Message from fileinput.input() *****5 egg\n",
      "*****\n",
      "Processing Message from fileinput.input() *****Final*****\n",
      "Done\n"
     ]
    }
   ],
   "source": [
    "# Пример работы с несколькими файлами - Считываем последовательно строки из файлов\n",
    "import fileinput\n",
    "with fileinput.input(files=('labFileTXT_test/spam.txt', 'labFileTXT_test/eggs.txt')) as f:\n",
    "    for fileinput_line in f: \n",
    "        print(f'Processing Message from fileinput.input() *****{fileinput_line}*****') \n",
    "    print(\"Done\")"
   ]
  },
  {
   "cell_type": "code",
   "execution_count": 7,
   "metadata": {},
   "outputs": [
    {
     "name": "stdout",
     "output_type": "stream",
     "text": [
      "d =  b'\\\\x80\\\\x03]q\\\\x00(K\\\\x01\\\\x88G@\\\\x07\\\\n=p\\\\xa3\\\\xd7\\\\ne.'\n",
      "d[5] =  120\n",
      "d[0] =  92\n",
      "0b111000\n"
     ]
    }
   ],
   "source": [
    "# Python. Работа с бинарными файлами\n",
    "\n",
    "# Открыть бинарный файл для чтения\n",
    "f = open('labFileTXT_test/myfile1.bin', 'rb')\n",
    "\n",
    "# Получить одну строку из бинарного файла\n",
    "d = f.read()\n",
    "\n",
    "# Вывести эту строку.\n",
    "# Будет получен вывод в виде строки символов\n",
    "print(\"d = \", d) # d = b'\\x80\\x03]q\\x00(K\\x01\\x88G@\\x07\\n=p\\xa3\\xd7\\ne.'\n",
    "\n",
    "# Если вывести как отдельный символ,\n",
    "# то будет выведен код символа - как целое число\n",
    "print(\"d[5] = \", d[5]) \n",
    "print(\"d[0] = \", d[0]) \n",
    "\n",
    "# Использовать функцию bin для отдельного символа\n",
    "print(bin(d[2]))\n",
    "f.close()"
   ]
  }
 ],
 "metadata": {
  "kernelspec": {
   "display_name": "Python 3",
   "language": "python",
   "name": "python3"
  },
  "language_info": {
   "codemirror_mode": {
    "name": "ipython",
    "version": 3
   },
   "file_extension": ".py",
   "mimetype": "text/x-python",
   "name": "python",
   "nbconvert_exporter": "python",
   "pygments_lexer": "ipython3",
   "version": "3.10.7"
  },
  "orig_nbformat": 4,
  "vscode": {
   "interpreter": {
    "hash": "943c6ee01c10f5cc3c57caccbb7ab83aef6e579cc7a0aa252d51d555fb6a6bce"
   }
  }
 },
 "nbformat": 4,
 "nbformat_minor": 2
}
