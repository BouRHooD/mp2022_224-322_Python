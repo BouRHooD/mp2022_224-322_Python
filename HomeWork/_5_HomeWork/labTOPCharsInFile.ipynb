{
 "cells": [
  {
   "attachments": {},
   "cell_type": "markdown",
   "metadata": {},
   "source": [
    "# Чтение файла"
   ]
  },
  {
   "cell_type": "code",
   "execution_count": 3,
   "metadata": {},
   "outputs": [
    {
     "name": "stdout",
     "output_type": "stream",
     "text": [
      "Wherefore rejoice? What conquest brings he home?\n",
      "What tributaries follow him to Rome,\n",
      "To grace in captive bonds his chariot-wheels?\n",
      "You blocks, you stones, you worse than senseless things!\n",
      "O you hard hearts, you cruel men of Rome,\n",
      "Knew you not Pompey? Many a time and oft\n",
      "Have you climb'd up to walls and battlements,\n",
      "To towers and windows, yea, to chimney-tops,\n",
      "Your infants in your arms, and there have sat\n",
      "The livelong day, with patient expectation,\n",
      "To see great Pompey pass the streets of Rome:\n",
      "And when you saw his chariot but appear,\n",
      "Have you not made an universal shout,\n",
      "That Tiber trembled underneath her banks,\n",
      "To hear the replication of your sounds\n",
      "Made in her concave shores?\n",
      "And do you now put on your best attire?\n",
      "And do you now cull out a holiday?\n",
      "And do you now strew flowers in his way\n",
      "That comes in triumph over Pompey's blood? Be gone!\n",
      "Run to your houses, fall upon your knees,\n",
      "Pray to the gods to intermit the plague\n",
      "That needs must light on this ingratitude.\n",
      "\n",
      "80066963133993048037740980867355533667363294409650448836143499205854151746511473536715311141840220\n",
      "06380083607015711217450701382315454461905461001914688948723397756956851843478793693810905423277899\n",
      "67082780564331409542001771012729162562337935009787086344806425753660699864586384421681922115455712\n",
      "31120341314182806823255160519817618912433006464058655115244328894442949566264375731998049182727618\n",
      "87738604455211983273418776216011888127722494344872499773216312988509716783673919606213084363990945\n",
      "49910644273509144717088764188028714506606175301652507202438557992791308746839614226328034342804652\n",
      "50624477634416180748344234811636438077932409115984557111287101575730196442923792574647165690177406\n",
      "23483615425205897812559925576629888720578009405760376958136700428973416614345933397113215014105771\n",
      "25945191879159538614788933119949125987386372405282446387076126110753972042890370224028594781372640\n",
      "36655793506627953023682664542757547373732456784314696550818354696430325185637857617667725162680262\n",
      "06876496397992542588\n",
      "\n",
      "Били копыта. Пели будто:\n",
      "— Гриб.\n",
      "Грабь.\n",
      "Гроб.\n",
      "Груб. —\n",
      "\n",
      "Ветром опита,\n",
      "льдом обута,\n",
      "улица скользила.\n",
      "Лошадь на круп\n",
      "грохнулась,\n",
      "и сразу\n",
      "за зевакой зевака,\n",
      "штаны пришедшие Кузнецким клёшить,\n",
      "сгрудились,\n",
      "смех зазвенел и зазвякал:\n",
      "— Лошадь упала! —\n",
      "— Упала лошадь! —\n",
      "Смеялся Кузнецкий.\n",
      "Лишь один я\n",
      "голос свой не вмешивал в вой ему.\n",
      "Подошел\n",
      "и вижу\n",
      "глаза лошадиные…"
     ]
    }
   ],
   "source": [
    "import os\n",
    "\n",
    "TEMP_DIR = \"labTopCharsInFile_test\"\n",
    "all_symbols = []\n",
    "words = []\n",
    "stats = {}\n",
    "\n",
    "with open(os.path.join(TEMP_DIR, \"test_text.txt\"), encoding=\"utf-8\") as f:\n",
    "    for line in f.readlines():\n",
    "        words += line.replace('\\n', '').split(\" \")\n",
    "        for symbol in line:\n",
    "            print(symbol, end='')\n",
    "            all_symbols.append(symbol)\n",
    "\n",
    "    unique_symbols = set(all_symbols)\n",
    "    for i in unique_symbols:\n",
    "        count = all_symbols.count(i)\n",
    "        stats.update({i:count})"
   ]
  },
  {
   "attachments": {},
   "cell_type": "markdown",
   "metadata": {},
   "source": [
    "# Статистика всех символов"
   ]
  },
  {
   "cell_type": "code",
   "execution_count": 4,
   "metadata": {},
   "outputs": [
    {
     "name": "stdout",
     "output_type": "stream",
     "text": [
      "{'ы': 3, 'У': 1, ',': 23, '!': 4, '8': 97, '0': 91, 'ж': 1, 'я': 4, 'п': 6, 'е': 17, 'w': 17, 'R': 4, 'u': 37, 'H': 2, 'ш': 11, 'К': 2, '…': 1, 'h': 40, 'b': 12, 'о': 21, '?': 8, 'p': 16, 't': 64, 'Г': 4, 'и': 22, 'g': 10, 'K': 1, 'ц': 3, 'O': 1, 'д': 10, 'р': 10, 'j': 1, '7': 107, 'q': 1, 'd': 26, 'n': 54, 'б': 6, 'С': 1, 'M': 2, '9': 87, 'r': 42, 'c': 16, '\\n': 59, 'Y': 2, 'Л': 3, '-': 2, 'i': 39, '6': 106, 'у': 13, 'k': 3, 'a': 53, 'а': 28, 'й': 4, \"'\": 2, 'з': 12, ' ': 190, '2': 92, 'м': 7, '5': 96, '.': 9, 'х': 2, 'e': 85, 'к': 9, '4': 113, 'f': 9, 'П': 2, '3': 101, 'т': 7, 'A': 4, 'x': 1, 'T': 9, 'o': 81, 'l': 24, 'В': 1, 'v': 8, 'Б': 1, 'm': 20, 'г': 4, 'W': 3, 's': 51, 'в': 10, 'ь': 10, 'с': 9, ':': 3, 'y': 26, 'P': 4, 'B': 1, 'л': 20, '1': 110, 'ё': 1, '—': 6, 'н': 9}\n"
     ]
    }
   ],
   "source": [
    "print(stats)"
   ]
  },
  {
   "attachments": {},
   "cell_type": "markdown",
   "metadata": {},
   "source": [
    "# Статистика всех символов по значению по убыванию"
   ]
  },
  {
   "cell_type": "code",
   "execution_count": 5,
   "metadata": {},
   "outputs": [
    {
     "name": "stdout",
     "output_type": "stream",
     "text": [
      "{'…': 1, '—': 6, 'ё': 1, 'я': 4, 'ь': 10, 'ы': 3, 'ш': 11, 'ц': 3, 'х': 2, 'у': 13, 'т': 7, 'с': 9, 'р': 10, 'п': 6, 'о': 21, 'н': 9, 'м': 7, 'л': 20, 'к': 9, 'й': 4, 'и': 22, 'з': 12, 'ж': 1, 'е': 17, 'д': 10, 'г': 4, 'в': 10, 'б': 6, 'а': 28, 'У': 1, 'С': 1, 'П': 2, 'Л': 3, 'К': 2, 'Г': 4, 'В': 1, 'Б': 1, 'y': 26, 'x': 1, 'w': 17, 'v': 8, 'u': 37, 't': 64, 's': 51, 'r': 42, 'q': 1, 'p': 16, 'o': 81, 'n': 54, 'm': 20, 'l': 24, 'k': 3, 'j': 1, 'i': 39, 'h': 40, 'g': 10, 'f': 9, 'e': 85, 'd': 26, 'c': 16, 'b': 12, 'a': 53, 'Y': 2, 'W': 3, 'T': 9, 'R': 4, 'P': 4, 'O': 1, 'M': 2, 'K': 1, 'H': 2, 'B': 1, 'A': 4, '?': 8, ':': 3, '9': 87, '8': 97, '7': 107, '6': 106, '5': 96, '4': 113, '3': 101, '2': 92, '1': 110, '0': 91, '.': 9, '-': 2, ',': 23, \"'\": 2, '!': 4, ' ': 190, '\\n': 59}\n"
     ]
    }
   ],
   "source": [
    "stats = dict(sorted(stats.items(), reverse=True))\n",
    "print(stats)"
   ]
  },
  {
   "attachments": {},
   "cell_type": "markdown",
   "metadata": {},
   "source": [
    "# Статистика всех цифр по значению по убыванию"
   ]
  },
  {
   "cell_type": "code",
   "execution_count": 6,
   "metadata": {},
   "outputs": [
    {
     "name": "stdout",
     "output_type": "stream",
     "text": [
      "'9': 87\n",
      "'8': 97\n",
      "'7': 107\n",
      "'6': 106\n",
      "'5': 96\n",
      "'4': 113\n",
      "'3': 101\n",
      "'2': 92\n",
      "'1': 110\n",
      "'0': 91\n"
     ]
    }
   ],
   "source": [
    "for i in stats.items():\n",
    "    try:\n",
    "        int(i[0])\n",
    "        print(f\"'{i[0]}': {i[1]}\")\n",
    "    except ValueError:\n",
    "        do_nothing = None"
   ]
  },
  {
   "attachments": {},
   "cell_type": "markdown",
   "metadata": {},
   "source": [
    "# Статистика всех англ. букв по алфавиту по убыванию"
   ]
  },
  {
   "cell_type": "code",
   "execution_count": 7,
   "metadata": {},
   "outputs": [
    {
     "name": "stdout",
     "output_type": "stream",
     "text": [
      "'y': 26\n",
      "'x': 1\n",
      "'w': 17\n",
      "'v': 8\n",
      "'u': 37\n",
      "'t': 64\n",
      "'s': 51\n",
      "'r': 42\n",
      "'q': 1\n",
      "'p': 16\n",
      "'o': 81\n",
      "'n': 54\n",
      "'m': 20\n",
      "'l': 24\n",
      "'k': 3\n",
      "'j': 1\n",
      "'i': 39\n",
      "'h': 40\n",
      "'g': 10\n",
      "'f': 9\n",
      "'e': 85\n",
      "'d': 26\n",
      "'c': 16\n",
      "'b': 12\n",
      "'a': 53\n"
     ]
    }
   ],
   "source": [
    "for i in stats.items():\n",
    "    if ord(i[0]) in range(97, 123):\n",
    "        print(f\"'{i[0]}': {i[1]}\")"
   ]
  },
  {
   "attachments": {},
   "cell_type": "markdown",
   "metadata": {},
   "source": [
    "# Статистика всех слов по значению по убыванию"
   ]
  },
  {
   "cell_type": "code",
   "execution_count": 8,
   "metadata": {},
   "outputs": [
    {
     "name": "stdout",
     "output_type": "stream",
     "text": [
      "{'я': 1, 'штаны': 1, 'упала!': 1, 'улица': 1, 'сразу': 1, 'смех': 1, 'скользила.': 1, 'сгрудились,': 1, 'свой': 1, 'пришедшие': 1, 'опита,': 1, 'один': 1, 'обута,': 1, 'не': 1, 'на': 1, 'льдом': 1, 'лошадь!': 1, 'лошадиные…': 1, 'круп': 1, 'копыта.': 1, 'клёшить,': 1, 'и': 3, 'зевакой': 1, 'зевака,': 1, 'зазвякал:': 1, 'зазвенел': 1, 'за': 1, 'ему.': 1, 'грохнулась,': 1, 'голос': 1, 'глаза': 1, 'вой': 1, 'вмешивал': 1, 'вижу': 1, 'в': 1, 'будто:': 1, 'Упала': 1, 'Смеялся': 1, 'Подошел': 1, 'Пели': 1, 'Лошадь': 2, 'Лишь': 1, 'Кузнецким': 1, 'Кузнецкий.': 1, 'Груб.': 1, 'Гроб.': 1, 'Гриб.': 1, 'Грабь.': 1, 'Ветром': 1, 'Били': 1, 'your': 5, 'you': 11, 'yea,': 1, 'worse': 1, 'with': 1, 'windows,': 1, 'when': 1, 'way': 1, 'walls': 1, 'upon': 1, 'up': 1, 'universal': 1, 'underneath': 1, 'triumph': 1, 'tributaries': 1, 'trembled': 1, 'towers': 1, 'to': 6, 'time': 1, 'this': 1, 'things!': 1, 'there': 1, 'the': 4, 'than': 1, 'strew': 1, 'streets': 1, 'stones,': 1, 'sounds': 1, 'shout,': 1, 'shores?': 1, 'senseless': 1, 'see': 1, 'saw': 1, 'sat': 1, 'replication': 1, 'rejoice?': 1, 'put': 1, 'plague': 1, 'patient': 1, 'pass': 1, 'over': 1, 'out': 1, 'on': 2, 'oft': 1, 'of': 3, 'now': 3, 'not': 2, 'needs': 1, 'must': 1, 'men': 1, 'made': 1, 'livelong': 1, 'light': 1, 'knees,': 1, 'intermit': 1, 'ingratitude.': 1, 'infants': 1, 'in': 5, 'houses,': 1, 'home?': 1, 'holiday?': 1, 'his': 3, 'him': 1, 'her': 2, 'hearts,': 1, 'hear': 1, 'he': 1, 'have': 1, 'hard': 1, 'great': 1, 'grace': 1, 'gone!': 1, 'gods': 1, 'follow': 1, 'flowers': 1, 'fall': 1, 'expectation,': 1, 'do': 3, 'day,': 1, 'cull': 1, 'cruel': 1, 'conquest': 1, 'concave': 1, 'comes': 1, \"climb'd\": 1, 'chimney-tops,': 1, 'chariot-wheels?': 1, 'chariot': 1, 'captive': 1, 'but': 1, 'brings': 1, 'bonds': 1, 'blood?': 1, 'blocks,': 1, 'best': 1, 'battlements,': 1, 'banks,': 1, 'attire?': 1, 'arms,': 1, 'appear,': 1, 'and': 4, 'an': 1, 'a': 2, 'Your': 1, 'You': 1, 'Wherefore': 1, 'What': 2, 'To': 4, 'Tiber': 1, 'The': 1, 'That': 3, 'Run': 1, 'Rome:': 1, 'Rome,': 2, 'Pray': 1, 'Pompey?': 1, \"Pompey's\": 1, 'Pompey': 1, 'O': 1, 'Many': 1, 'Made': 1, 'Knew': 1, 'Have': 2, 'Be': 1, 'And': 4}\n"
     ]
    }
   ],
   "source": [
    "words_stats = {}\n",
    "words = list(filter(lambda a: a != '' and a != '—', words))\n",
    "unique_words = set(words)\n",
    "\n",
    "for i in unique_words:\n",
    "    try:\n",
    "        int(i)\n",
    "    except ValueError:\n",
    "        count = words.count(i)\n",
    "        words_stats.update({i:count})\n",
    "\n",
    "words_stats = dict(sorted(words_stats.items(), reverse=True))\n",
    "print(words_stats)"
   ]
  }
 ],
 "metadata": {
  "kernelspec": {
   "display_name": "Python 3",
   "language": "python",
   "name": "python3"
  },
  "language_info": {
   "codemirror_mode": {
    "name": "ipython",
    "version": 3
   },
   "file_extension": ".py",
   "mimetype": "text/x-python",
   "name": "python",
   "nbconvert_exporter": "python",
   "pygments_lexer": "ipython3",
   "version": "3.10.7 (tags/v3.10.7:6cc6b13, Sep  5 2022, 14:08:36) [MSC v.1933 64 bit (AMD64)]"
  },
  "orig_nbformat": 4,
  "vscode": {
   "interpreter": {
    "hash": "943c6ee01c10f5cc3c57caccbb7ab83aef6e579cc7a0aa252d51d555fb6a6bce"
   }
  }
 },
 "nbformat": 4,
 "nbformat_minor": 2
}
