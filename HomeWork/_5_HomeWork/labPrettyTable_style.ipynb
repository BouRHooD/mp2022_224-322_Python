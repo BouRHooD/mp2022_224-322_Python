{
 "cells": [
  {
   "attachments": {},
   "cell_type": "markdown",
   "metadata": {},
   "source": [
    "# Одиночная рамка"
   ]
  },
  {
   "cell_type": "code",
   "execution_count": 1,
   "metadata": {},
   "outputs": [
    {
     "name": "stdout",
     "output_type": "stream",
     "text": [
      "+■■■■■■■■■■■■■■■■■■■■■■■■■■■■■■■■■■■+\n",
      "■ Фамилия ■ Имя  ■ Возраст ■   ЗП   ■\n",
      "+■■■■■■■■■+■■■■■■+■■■■■■■■■+■■■■■■■■+\n",
      "■  Иванов ■ Иван ■    19   ■ 50000  ■\n",
      "■  Петров ■ Пётр ■    27   ■ 120000 ■\n",
      "■ Сидоров ■  Ян  ■    16   ■  100   ■\n",
      "+■■■■■■■■■■■■■■■■■■■■■■■■■■■■■■■■■■■+\n"
     ]
    }
   ],
   "source": [
    "import prettytable\n",
    "from prettytable import PrettyTable\n",
    "\n",
    "ta = PrettyTable()\n",
    "ta.field_names = [\"Фамилия\", \"Имя\", \"Возраст\", \"ЗП\"]\n",
    "ta.add_rows(\n",
    "    [\n",
    "        [\"Иванов\", \"Иван\", 19, 50000],\n",
    "        [\"Петров\", \"Пётр\", 27, 120000],\n",
    "        [\"Сидоров\", \"Ян\", 16, 100],\n",
    "    ]\n",
    ")\n",
    "ta.set_style(prettytable.DEFAULT)\n",
    "ta.top_junction_char = '■'\n",
    "ta.bottom_junction_char = '■'\n",
    "ta.horizontal_char = '■'\n",
    "ta.vertical_char = '■'\n",
    "print(ta)\n"
   ]
  },
  {
   "attachments": {},
   "cell_type": "markdown",
   "metadata": {},
   "source": [
    "# Двойная рамка"
   ]
  },
  {
   "cell_type": "code",
   "execution_count": 7,
   "metadata": {},
   "outputs": [
    {
     "name": "stdout",
     "output_type": "stream",
     "text": [
      "+===================================+\n",
      "■ Фамилия ■ Имя  ■ Возраст ■   ЗП   ■\n",
      "+=========+======+=========+========+\n",
      "■  Иванов ■ Иван ■    19   ■ 50000  ■\n",
      "■  Петров ■ Пётр ■    27   ■ 120000 ■\n",
      "■ Сидоров ■  Ян  ■    16   ■  100   ■\n",
      "+===================================+\n"
     ]
    }
   ],
   "source": [
    "import prettytable\n",
    "from prettytable import PrettyTable\n",
    "\n",
    "ta = PrettyTable()\n",
    "ta.field_names = [\"Фамилия\", \"Имя\", \"Возраст\", \"ЗП\"]\n",
    "ta.add_rows(\n",
    "    [\n",
    "        [\"Иванов\", \"Иван\", 19, 50000],\n",
    "        [\"Петров\", \"Пётр\", 27, 120000],\n",
    "        [\"Сидоров\", \"Ян\", 16, 100],\n",
    "    ]\n",
    ")\n",
    "ta.set_style(prettytable.DEFAULT)\n",
    "ta.top_junction_char = '='\n",
    "ta.bottom_junction_char = '='\n",
    "ta.horizontal_char = '='\n",
    "ta.vertical_char = '■'\n",
    "print(ta)"
   ]
  }
 ],
 "metadata": {
  "kernelspec": {
   "display_name": "Python 3",
   "language": "python",
   "name": "python3"
  },
  "language_info": {
   "codemirror_mode": {
    "name": "ipython",
    "version": 3
   },
   "file_extension": ".py",
   "mimetype": "text/x-python",
   "name": "python",
   "nbconvert_exporter": "python",
   "pygments_lexer": "ipython3",
   "version": "3.10.7 (tags/v3.10.7:6cc6b13, Sep  5 2022, 14:08:36) [MSC v.1933 64 bit (AMD64)]"
  },
  "orig_nbformat": 4,
  "vscode": {
   "interpreter": {
    "hash": "943c6ee01c10f5cc3c57caccbb7ab83aef6e579cc7a0aa252d51d555fb6a6bce"
   }
  }
 },
 "nbformat": 4,
 "nbformat_minor": 2
}
