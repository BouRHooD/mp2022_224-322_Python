{
 "cells": [
  {
   "attachments": {},
   "cell_type": "markdown",
   "metadata": {},
   "source": [
    "Самостоятельно изучать работу Python с PostgreSQL, например с модулем psycopg2.\n",
    "# HW:\n",
    "- создание БД, запросы в БД, добавление, обновление и тп.\n"
   ]
  },
  {
   "cell_type": "code",
   "execution_count": 1,
   "metadata": {},
   "outputs": [
    {
     "name": "stdout",
     "output_type": "stream",
     "text": [
      "Collecting psycopg2\n",
      "  Downloading psycopg2-2.9.5-cp310-cp310-win_amd64.whl (1.2 MB)\n",
      "     ---------------------------------------- 1.2/1.2 MB 6.8 MB/s eta 0:00:00\n",
      "Installing collected packages: psycopg2\n",
      "Successfully installed psycopg2-2.9.5\n"
     ]
    }
   ],
   "source": [
    "# (1) Устанавливаем библиотеку\n",
    "# ! pip install psycopg2\n",
    "\n",
    "# (2) Устанавливаем на ПК \n",
    "# ! https://www.postgresql.org/download/"
   ]
  },
  {
   "cell_type": "code",
   "execution_count": 15,
   "metadata": {},
   "outputs": [],
   "source": [
    "import psycopg2\n",
    "from psycopg2 import Error"
   ]
  },
  {
   "cell_type": "code",
   "execution_count": 16,
   "metadata": {},
   "outputs": [
    {
     "name": "stdout",
     "output_type": "stream",
     "text": [
      "{'user': 'postgres', 'channel_binding': 'prefer', 'dbname': 'lab_postgres_db', 'host': '127.0.0.1', 'port': '5432', 'options': '', 'sslmode': 'prefer', 'sslcompression': '0', 'sslsni': '1', 'ssl_min_protocol_version': 'TLSv1.2', 'gssencmode': 'disable', 'krbsrvname': 'postgres', 'target_session_attrs': 'any'} \n",
      "\n",
      "Вы подключены к -  ('PostgreSQL 15.1, compiled by Visual C++ build 1914, 64-bit',) \n",
      "\n"
     ]
    }
   ],
   "source": [
    "# подключение к БД \n",
    "try:\n",
    "    # Подключение к существующей базе данных\n",
    "    connection = psycopg2.connect(\n",
    "        # postgres - superuser\n",
    "        user=\"postgres\",\n",
    "        # пароль, который указали при установке PostgreSQL\n",
    "        password=\"bourhood\",\n",
    "        host=\"127.0.0.1\",\n",
    "        port=\"5432\"\n",
    "    )\n",
    "\n",
    "    # Создаем Базу Данных \n",
    "    try:\n",
    "        from psycopg2.extensions import ISOLATION_LEVEL_AUTOCOMMIT\n",
    "        connection.set_isolation_level(ISOLATION_LEVEL_AUTOCOMMIT)\n",
    "        cursor = connection.cursor()\n",
    "        sql_create_database = 'create database lab_postgres_db'\n",
    "        cursor.execute(sql_create_database)\n",
    "    except (Exception, Error) as ex:\n",
    "        pass\n",
    "\n",
    "    connection = psycopg2.connect(user=\"postgres\",\n",
    "                                  # пароль, который указали при установке PostgreSQL\n",
    "                                  password=\"bourhood\",\n",
    "                                  host=\"127.0.0.1\",\n",
    "                                  port=\"5432\",\n",
    "                                  database=\"lab_postgres_db\")\n",
    "    cursor = connection.cursor()\n",
    "\n",
    "    # Курсор для выполнения операций с базой данных\n",
    "    print(connection.get_dsn_parameters(), \"\\n\")\n",
    "    # Выполнение SQL-запроса\n",
    "    cursor.execute(\"SELECT version();\")\n",
    "    # Получить результат\n",
    "    record = cursor.fetchone()\n",
    "    print(\"Вы подключены к - \", record, \"\\n\")\n",
    "except Exception as error:\n",
    "    print(\"Ошибка при работе с PostgreSQL\")\n",
    "    print(error)"
   ]
  },
  {
   "cell_type": "code",
   "execution_count": 17,
   "metadata": {},
   "outputs": [
    {
     "name": "stdout",
     "output_type": "stream",
     "text": [
      "Таблица успешно создана в PostgreSQL\n"
     ]
    }
   ],
   "source": [
    "# Создание таблицы \n",
    "# SQL-запрос для создания новой таблицы\n",
    "create_table_query = '''CREATE TABLE mobile\n",
    "                        (ID INT PRIMARY KEY     NOT NULL,\n",
    "                        MODEL           TEXT    NOT NULL,\n",
    "                        PRICE         REAL); '''\n",
    "# Выполнение команды: это создает новую таблицу\n",
    "cursor.execute(create_table_query)\n",
    "connection.commit()\n",
    "print(\"Таблица успешно создана в PostgreSQL\")"
   ]
  },
  {
   "cell_type": "code",
   "execution_count": 18,
   "metadata": {},
   "outputs": [],
   "source": [
    "# Вставка в таблицу \n",
    " # Выполнение SQL-запроса для вставки данных в таблицу\n",
    "insert_query = \"\"\" INSERT INTO mobile (ID, MODEL, PRICE) VALUES (1, 'Iphone12', 1100)\"\"\"\n",
    "cursor.execute(insert_query)\n",
    "connection.commit()"
   ]
  },
  {
   "cell_type": "code",
   "execution_count": 19,
   "metadata": {},
   "outputs": [
    {
     "name": "stdout",
     "output_type": "stream",
     "text": [
      "[(1, 'Iphone12', 1100.0)]\n"
     ]
    }
   ],
   "source": [
    "# Получить результат из таблицы \n",
    "cursor.execute(\"SELECT * from mobile\")\n",
    "record = cursor.fetchall()\n",
    "print(record)"
   ]
  },
  {
   "cell_type": "code",
   "execution_count": 20,
   "metadata": {},
   "outputs": [
    {
     "name": "stdout",
     "output_type": "stream",
     "text": [
      "[(1, 'Iphone12', 1500.0)]\n"
     ]
    }
   ],
   "source": [
    "# Обновление таблицы\n",
    "update_query = \"\"\"Update mobile set price = 1500 where id = 1\"\"\"\n",
    "cursor.execute(update_query)\n",
    "connection.commit()\n",
    "count = cursor.rowcount\n",
    "cursor.execute(\"SELECT * from mobile\")\n",
    "print(cursor.fetchall())"
   ]
  },
  {
   "cell_type": "code",
   "execution_count": 21,
   "metadata": {},
   "outputs": [
    {
     "name": "stdout",
     "output_type": "stream",
     "text": [
      "[]\n"
     ]
    }
   ],
   "source": [
    "# Удаление из таблицы \n",
    "delete_query = \"\"\"Delete from mobile where id = 1\"\"\"\n",
    "cursor.execute(delete_query)\n",
    "connection.commit()\n",
    "count = cursor.rowcount\n",
    "cursor.execute(\"SELECT * from mobile\")\n",
    "print(cursor.fetchall())"
   ]
  }
 ],
 "metadata": {
  "kernelspec": {
   "display_name": "Python 3",
   "language": "python",
   "name": "python3"
  },
  "language_info": {
   "codemirror_mode": {
    "name": "ipython",
    "version": 3
   },
   "file_extension": ".py",
   "mimetype": "text/x-python",
   "name": "python",
   "nbconvert_exporter": "python",
   "pygments_lexer": "ipython3",
   "version": "3.10.7"
  },
  "orig_nbformat": 4,
  "vscode": {
   "interpreter": {
    "hash": "943c6ee01c10f5cc3c57caccbb7ab83aef6e579cc7a0aa252d51d555fb6a6bce"
   }
  }
 },
 "nbformat": 4,
 "nbformat_minor": 2
}
