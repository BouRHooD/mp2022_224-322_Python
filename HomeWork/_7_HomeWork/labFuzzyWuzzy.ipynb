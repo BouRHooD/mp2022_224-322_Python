{
 "cells": [
  {
   "attachments": {},
   "cell_type": "markdown",
   "metadata": {},
   "source": [
    "# Сравнение строк"
   ]
  },
  {
   "cell_type": "code",
   "execution_count": 18,
   "metadata": {},
   "outputs": [
    {
     "name": "stdout",
     "output_type": "stream",
     "text": [
      "60\n",
      "95\n",
      "75\n",
      "100\n",
      "60\n"
     ]
    }
   ],
   "source": [
    "from fuzzywuzzy import fuzz\n",
    "\n",
    "s1 = \"Сравнение строк\"\n",
    "s2 = \"строк Сравнение\"\n",
    "\n",
    "print(fuzz.ratio(s1, s2))\n",
    "print(fuzz.WRatio(s1, s2))\n",
    "print(fuzz.partial_ratio(s1, s2))\n",
    "print(fuzz.token_sort_ratio(s1, s2))\n",
    "print(fuzz.UQRatio(s1, s2))"
   ]
  },
  {
   "attachments": {},
   "cell_type": "markdown",
   "metadata": {},
   "source": [
    "# Сравнение со списком"
   ]
  },
  {
   "cell_type": "code",
   "execution_count": 22,
   "metadata": {},
   "outputs": [
    {
     "name": "stdout",
     "output_type": "stream",
     "text": [
      "[(' Владимир', 100), (' Владикавказ', 53), (' Владивосток', 53), (' Вологда', 40)]\n",
      "(' Владимир', 86)\n"
     ]
    }
   ],
   "source": [
    "from fuzzywuzzy import process\n",
    "\n",
    "cities = \"Москва, Воронеж, Владимир, Вологда, Владикавказ, Владивосток, Смоленск\".split(',')\n",
    "\n",
    "print(process.extract(\"Владимир\", cities, limit=4))\n",
    "print(process.extractOne(\"Владим\", cities))"
   ]
  },
  {
   "cell_type": "code",
   "execution_count": 19,
   "metadata": {},
   "outputs": [
    {
     "data": {
      "text/plain": [
       "[('Терминатор', 90),\n",
       " ('Терминатор 2: Судный день', 90),\n",
       " ('Терминатор 3: Восстание машин', 90),\n",
       " ('Терминатор (сериал)', 90)]"
      ]
     },
     "execution_count": 19,
     "metadata": {},
     "output_type": "execute_result"
    }
   ],
   "source": [
    "movies = [\"Терминатор\", \"Терминатор 2: Судный день\", \"Терминатор 3: Восстание машин\", \"Терминатор (сериал)\", \"Терминал\", \"Троял\"]\n",
    "\n",
    "process.extract(\"Терм\", movies, limit=4)"
   ]
  },
  {
   "cell_type": "code",
   "execution_count": 24,
   "metadata": {},
   "outputs": [
    {
     "name": "stdout",
     "output_type": "stream",
     "text": [
      "dict_keys(['гайка 4 ГОСТ-1828 оцинкованная ...', 'Болты на 10', 'БОЛТ'])\n"
     ]
    }
   ],
   "source": [
    "arr = ['Гайка на 4', 'гайка 4 ГОСТ-1828 оцинкованная', 'Болты на 10', 'гайка 4 ГОСТ-1828 оцинкованная ...', 'БОЛТ']\n",
    "print(process.dedupe(arr))"
   ]
  }
 ],
 "metadata": {
  "kernelspec": {
   "display_name": "Python 3",
   "language": "python",
   "name": "python3"
  },
  "language_info": {
   "codemirror_mode": {
    "name": "ipython",
    "version": 3
   },
   "file_extension": ".py",
   "mimetype": "text/x-python",
   "name": "python",
   "nbconvert_exporter": "python",
   "pygments_lexer": "ipython3",
   "version": "3.8.0 (tags/v3.8.0:fa919fd, Oct 14 2019, 19:37:50) [MSC v.1916 64 bit (AMD64)]"
  },
  "orig_nbformat": 4,
  "vscode": {
   "interpreter": {
    "hash": "25d775a05cd5ef828ac55111e2d25fe7a8cdee116904ae28746ef0f2500c8ec5"
   }
  }
 },
 "nbformat": 4,
 "nbformat_minor": 2
}
