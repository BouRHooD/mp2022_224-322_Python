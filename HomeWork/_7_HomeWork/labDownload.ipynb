{
 "cells": [
  {
   "attachments": {},
   "cell_type": "markdown",
   "metadata": {},
   "source": [
    "# Загрузка файлов из интернета\n"
   ]
  },
  {
   "attachments": {},
   "cell_type": "markdown",
   "metadata": {},
   "source": [
    "# urllib - загрузить или открыть файлы через HTTP"
   ]
  },
  {
   "cell_type": "code",
   "execution_count": 4,
   "metadata": {},
   "outputs": [
    {
     "data": {
      "text/plain": [
       "('d:\\\\_All\\\\BouRHooD\\\\_University\\\\Магистратура\\\\1 семестр\\\\Современнные технологии программирования\\\\mp2022_224-321_Python\\\\mp2022_224-322_Python\\\\HomeWork\\\\_7_HomeWork\\\\urllib.mp3',\n",
       " <http.client.HTTPMessage at 0x13fdfa3a7a0>)"
      ]
     },
     "execution_count": 4,
     "metadata": {},
     "output_type": "execute_result"
    }
   ],
   "source": [
    "import urllib.request\n",
    "import os\n",
    "\n",
    "url_png = \"https://www.python.org/static/img/python-logo.png\"\n",
    "url_mp3 = \"http://www.futurecrew.com/skaven/song_files/mp3/Skaven-Network.mp3\"\n",
    "\n",
    "path = os.getcwd()\n",
    "filename_png = os.path.join(path, \"urllib.png\")\n",
    "filename_mp3 = os.path.join(path, \"urllib.mp3\")\n",
    "\n",
    "urllib.request.urlretrieve(url_mp3, filename_mp3)"
   ]
  },
  {
   "attachments": {},
   "cell_type": "markdown",
   "metadata": {},
   "source": [
    "# requests - загрузить файл через GET"
   ]
  },
  {
   "cell_type": "code",
   "execution_count": 5,
   "metadata": {},
   "outputs": [],
   "source": [
    "import requests\n",
    "\n",
    "url_png = \"https://www.python.org/static/img/python-logo.png\"\n",
    "url_mp3 = \"http://www.futurecrew.com/skaven/song_files/mp3/Skaven-Network.mp3\"\n",
    "\n",
    "path = os.getcwd()\n",
    "filename_png = os.path.join(path, \"requests.png\")\n",
    "filename_mp3 = os.path.join(path, \"requests.mp3\")\n",
    "\n",
    "r = requests.get(url_mp3)\n",
    "\n",
    "with open(filename_mp3, mode = \"wb\") as f:\n",
    "    f.write(r.content)"
   ]
  },
  {
   "attachments": {},
   "cell_type": "markdown",
   "metadata": {},
   "source": [
    "# wget - загрузить файлы по URL"
   ]
  },
  {
   "cell_type": "code",
   "execution_count": 6,
   "metadata": {},
   "outputs": [
    {
     "data": {
      "text/plain": [
       "'d:\\\\_All\\\\BouRHooD\\\\_University\\\\Магистратура\\\\1 семестр\\\\Современнные технологии программирования\\\\mp2022_224-321_Python\\\\mp2022_224-322_Python\\\\HomeWork\\\\_7_HomeWork\\\\wget.mp3'"
      ]
     },
     "execution_count": 6,
     "metadata": {},
     "output_type": "execute_result"
    }
   ],
   "source": [
    "import wget\n",
    "\n",
    "url_png = \"https://www.python.org/static/img/python-logo.png\"\n",
    "url_mp3 = \"http://www.futurecrew.com/skaven/song_files/mp3/Skaven-Network.mp3\"\n",
    "\n",
    "path = os.getcwd()\n",
    "filename_png = os.path.join(path, \"wget.png\")\n",
    "filename_mp3 = os.path.join(path, \"wget.mp3\")\n",
    "\n",
    "wget.download(url_mp3, filename_mp3)"
   ]
  },
  {
   "attachments": {},
   "cell_type": "markdown",
   "metadata": {},
   "source": [
    "# Загрузка с метаданными"
   ]
  },
  {
   "cell_type": "code",
   "execution_count": 7,
   "metadata": {},
   "outputs": [
    {
     "name": "stdout",
     "output_type": "stream",
     "text": [
      "{'Connection': 'keep-alive', 'Content-Length': '10102', 'Server': 'nginx', 'Content-Type': 'image/png', 'Last-Modified': 'Wed, 11 Jan 2023 21:47:46 GMT', 'Etag': '\"63bf2e82-2776\"', 'Cache-Control': 'max-age=604800, public', 'Via': '1.1 vegur, 1.1 varnish, 1.1 varnish', 'Accept-Ranges': 'bytes', 'Date': 'Thu, 19 Jan 2023 17:15:54 GMT', 'Age': '524376', 'X-Served-By': 'cache-iad-kcgs7200128-IAD, cache-hel1410023-HEL', 'X-Cache': 'HIT, HIT', 'X-Cache-Hits': '47, 409', 'X-Timer': 'S1674148555.692474,VS0,VE0', 'Strict-Transport-Security': 'max-age=63072000; includeSubDomains'}\n"
     ]
    }
   ],
   "source": [
    "import requests\n",
    "\n",
    "url_png = \"https://www.python.org/static/img/python-logo.png\"\n",
    "url_mp3 = \"http://www.futurecrew.com/skaven/song_files/mp3/Skaven-Network.mp3\"\n",
    "\n",
    "path = os.getcwd()\n",
    "filename_png = os.path.join(path, \"requests.png\")\n",
    "filename_mp3 = os.path.join(path, \"requests.mp3\")\n",
    "\n",
    "r = requests.get(url_png)\n",
    "\n",
    "with open(filename_png, mode = \"wb\") as f:\n",
    "    f.write(r.content)\n",
    "    print(r.headers)"
   ]
  }
 ],
 "metadata": {
  "kernelspec": {
   "display_name": "Python 3",
   "language": "python",
   "name": "python3"
  },
  "language_info": {
   "codemirror_mode": {
    "name": "ipython",
    "version": 3
   },
   "file_extension": ".py",
   "mimetype": "text/x-python",
   "name": "python",
   "nbconvert_exporter": "python",
   "pygments_lexer": "ipython3",
   "version": "3.10.7"
  },
  "orig_nbformat": 4,
  "vscode": {
   "interpreter": {
    "hash": "943c6ee01c10f5cc3c57caccbb7ab83aef6e579cc7a0aa252d51d555fb6a6bce"
   }
  }
 },
 "nbformat": 4,
 "nbformat_minor": 2
}
