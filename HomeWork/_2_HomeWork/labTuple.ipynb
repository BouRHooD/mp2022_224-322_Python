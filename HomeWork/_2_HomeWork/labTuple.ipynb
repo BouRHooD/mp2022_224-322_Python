{
 "cells": [
  {
   "attachments": {},
   "cell_type": "markdown",
   "metadata": {},
   "source": [
    "# HW:\n",
    "* Придумать свои примеры"
   ]
  },
  {
   "cell_type": "code",
   "execution_count": 11,
   "metadata": {},
   "outputs": [
    {
     "name": "stdout",
     "output_type": "stream",
     "text": [
      "5\n",
      "1\n",
      "5\n",
      "15\n",
      "False\n",
      "(1, 2, 3, 4, 5, 6)\n",
      "(1, 2, 3, 1, 2, 3)\n"
     ]
    }
   ],
   "source": [
    "# Функции агрегации\n",
    "my_list = (5, 3, 2, 4, 1)\n",
    "print(len(my_list))\n",
    "print(min(my_list))\n",
    "print(max(my_list))\n",
    "print(sum(my_list))\n",
    "\n",
    "# Сравнить\n",
    "my_list = ('один', 'два', 'три', 'четыре', 'пять')\n",
    "list_2 = ('три', 'один', 'пять', 'два', 'четыре')\n",
    "print(my_list == list_2)\n",
    "\n",
    "# Математические операции\n",
    "list_1 = 1, 2, 3\n",
    "list_2 = 4, 5, 6\n",
    "print(list_1 + list_2)\n",
    "# print(list_1 - list_2) <--- TypeError: unsupported operand type(s) for -: 'tuple' and 'tuple'\n",
    "print(list_1 * 2)\n",
    "# print(list_1 / 2) <--- TypeError: unsupported operand type(s) for /: 'tuple' and 'int'"
   ]
  }
 ],
 "metadata": {
  "kernelspec": {
   "display_name": "Python 3",
   "language": "python",
   "name": "python3"
  },
  "language_info": {
   "codemirror_mode": {
    "name": "ipython",
    "version": 3
   },
   "file_extension": ".py",
   "mimetype": "text/x-python",
   "name": "python",
   "nbconvert_exporter": "python",
   "pygments_lexer": "ipython3",
   "version": "3.10.7 (tags/v3.10.7:6cc6b13, Sep  5 2022, 14:08:36) [MSC v.1933 64 bit (AMD64)]"
  },
  "orig_nbformat": 4,
  "vscode": {
   "interpreter": {
    "hash": "943c6ee01c10f5cc3c57caccbb7ab83aef6e579cc7a0aa252d51d555fb6a6bce"
   }
  }
 },
 "nbformat": 4,
 "nbformat_minor": 2
}
