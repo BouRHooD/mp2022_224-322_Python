{
 "cells": [
  {
   "attachments": {},
   "cell_type": "markdown",
   "metadata": {},
   "source": [
    "# HW:\n",
    "* Добавить еще примеры"
   ]
  },
  {
   "cell_type": "code",
   "execution_count": 8,
   "metadata": {},
   "outputs": [
    {
     "name": "stdout",
     "output_type": "stream",
     "text": [
      "10\n",
      "0\n",
      "9\n",
      "45\n",
      "---------------\n",
      "5\n"
     ]
    }
   ],
   "source": [
    "# Операции над списками\n",
    "numbers = range(10)\n",
    "print(len(numbers))\n",
    "print(min(numbers))\n",
    "print(max(numbers))\n",
    "print(sum(numbers))\n",
    "\n",
    "print(\"-\"*15)\n",
    "\n",
    "_list = [1, 2, 3, 'word', 'meow']\n",
    "print(len(_list))\n",
    "# print(min(_list)) <--- TypeError: '<' not supported between instances of 'str' and 'int'\n",
    "# print(max(_list)) <--- TypeError: '>' not supported between instances of 'str' and 'int'\n",
    "# print(sum(_list)) <--- TypeError: unsupported operand type(s) for +: 'int' and 'str'\n"
   ]
  }
 ],
 "metadata": {
  "kernelspec": {
   "display_name": "Python 3",
   "language": "python",
   "name": "python3"
  },
  "language_info": {
   "codemirror_mode": {
    "name": "ipython",
    "version": 3
   },
   "file_extension": ".py",
   "mimetype": "text/x-python",
   "name": "python",
   "nbconvert_exporter": "python",
   "pygments_lexer": "ipython3",
   "version": "3.10.7 (tags/v3.10.7:6cc6b13, Sep  5 2022, 14:08:36) [MSC v.1933 64 bit (AMD64)]"
  },
  "orig_nbformat": 4,
  "vscode": {
   "interpreter": {
    "hash": "943c6ee01c10f5cc3c57caccbb7ab83aef6e579cc7a0aa252d51d555fb6a6bce"
   }
  }
 },
 "nbformat": 4,
 "nbformat_minor": 2
}
