{
 "cells": [
  {
   "attachments": {},
   "cell_type": "markdown",
   "metadata": {},
   "source": [
    "##  HW:\n",
    "\n",
    " - Придумать свои примеры \n",
    " - Разобраться с Mini-Language"
   ]
  },
  {
   "cell_type": "code",
   "execution_count": 113,
   "metadata": {},
   "outputs": [
    {
     "name": "stdout",
     "output_type": "stream",
     "text": [
      "Координаты: 37.24N, -115.81W\n",
      "--------------------\n",
      "X: 3;  Y: 5\n",
      "--------------------\n",
      "Игроков: '1'\n",
      "Игроков: 1\n",
      "--------------------\n",
      "Job ID 13453:       30   MB \n",
      "Job ID 123:       150.54 GB \n",
      "Job ID 563456:     20.6  MB \n"
     ]
    }
   ],
   "source": [
    "## Свои примеры\n",
    "# Форматирование строк с помощью метода format\n",
    "coord = {'Широта': '37.24N', 'Долгота': '-115.81W'}\n",
    "print('Координаты: {Широта}, {Долгота}'.format(**coord))\n",
    "print(\"-\"*20)\n",
    "\n",
    "coord = (3, 5)\n",
    "print('X: {0[0]};  Y: {0[1]}'.format(coord))\n",
    "print(\"-\"*20)\n",
    "\n",
    "# Преобразование  ::=  \"r\" (внутреннее представление) | \"s\" (человеческое представление)\n",
    "print(\"Игроков: {players[0]!r}\".format(players = ['1', '2', '3']))\n",
    "print(\"Игроков: {players[0]!s}\".format(players = ['1', '2', '3']))\n",
    "print(\"-\"*20)\n",
    "\n",
    "## Разобраться с Mini-Language\n",
    "# спецификация ::=  [[fill]align][sign][#][0][width][,][.precision][type]\n",
    "# заполнитель  ::=  символ кроме '{' или '}'\n",
    "# выравнивание ::=  \"<\" | \">\" | \"=\" | \"^\"\n",
    "# знак         ::=  \"+\" | \"-\" | \" \"\n",
    "# ширина       ::=  integer\n",
    "# точность     ::=  integer\n",
    "# тип          ::=  \"b\" | \"c\" | \"d\" | \"e\" | \"E\" | \"f\" | \"F\" | \"g\" | \"G\" | \"n\" | \"o\" | \"s\" | \"x\" | \"X\" | \"%\"\n",
    "job_IDs = ['13453', '123', '563456']\n",
    "memory_used = [30, 150.54, 20.6]\n",
    "memory_units = ['MB', 'GB', 'MB']\n",
    "for i in range(len(job_IDs)):\n",
    "    _item = job_IDs[i] + \":\"\n",
    "    _value = str(memory_used[i])\n",
    "    _units = memory_units[i]\n",
    "    print(\"Job ID {item:10} {value:^6} {units:3}\".format(item=_item, value=_value, units=_units))\n",
    "\n",
    "\n"
   ]
  }
 ],
 "metadata": {
  "kernelspec": {
   "display_name": "Python 3",
   "language": "python",
   "name": "python3"
  },
  "language_info": {
   "codemirror_mode": {
    "name": "ipython",
    "version": 3
   },
   "file_extension": ".py",
   "mimetype": "text/x-python",
   "name": "python",
   "nbconvert_exporter": "python",
   "pygments_lexer": "ipython3",
   "version": "3.10.7 (tags/v3.10.7:6cc6b13, Sep  5 2022, 14:08:36) [MSC v.1933 64 bit (AMD64)]"
  },
  "orig_nbformat": 4,
  "vscode": {
   "interpreter": {
    "hash": "943c6ee01c10f5cc3c57caccbb7ab83aef6e579cc7a0aa252d51d555fb6a6bce"
   }
  }
 },
 "nbformat": 4,
 "nbformat_minor": 2
}
