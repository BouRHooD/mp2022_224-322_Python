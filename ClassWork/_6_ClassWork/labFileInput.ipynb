{
 "cells": [
  {
   "attachments": {},
   "cell_type": "markdown",
   "metadata": {},
   "source": [
    "# fileinput"
   ]
  },
  {
   "cell_type": "code",
   "execution_count": 1,
   "metadata": {},
   "outputs": [],
   "source": [
    "import fileinput"
   ]
  },
  {
   "cell_type": "code",
   "execution_count": 5,
   "metadata": {},
   "outputs": [
    {
     "name": "stdout",
     "output_type": "stream",
     "text": [
      "# Комментарий\n",
      "\n",
      "print(\"Привет!\")\n",
      "\n",
      "\n",
      "\n",
      "# Можно ставить точку с запятой, если в строчку хотим написать ещё что-то, но это плохая практика\n",
      "\n",
      "name = \"Владислав\";\n",
      "\n",
      "print(\"Привет, \" + name + \"!\") # Конкатенация строк (процесс объединения двух или нескольких строк в одну новую строку)\n",
      "\n",
      "print(\"Привет,\", name, \"!\")    # Передача параметров, которые объединяеются в строку\n",
      "\n",
      "print(f\"Привет, {name}!\")      # \"Форматированные строки\" (или \"f strings\"), чтобы легко вставлять переменные в свои строки\n",
      "\n",
      "\n",
      "\n",
      "print(1,2,3,4,5)\n",
      "\n",
      "print(1,2,3,4,5, sep=\", \")\n",
      "\n",
      "print(1,2,3,4,5, sep=\"\\n\")\n",
      "\n",
      "print(1,2,3,4,5, sep=\" \")\n",
      "\n",
      "\n",
      "\n",
      "def AAA(): \n",
      "\n",
      "    a = 5\n",
      "\n",
      "    b = 2\n",
      "\n",
      "    print(a + b)\n",
      "\n",
      "\n",
      "\n",
      "AAA()\n",
      "\n",
      "\n",
      "\n",
      "# HW: вывести в коносль все доступные цвета и фоны\n",
      "\n",
      "\n",
      "\n",
      "# ***** Пример (example) https://stackabuse.com/how-to-print-colored-text-in-python/\n",
      "\n",
      "# Использовать ANSI коды просто, для этого нужно знать базовый синтаксис и сами коды. Разбор на примере кода «\\033[0;31;40m\\033[0;0m»:\n",
      "\n",
      "# 1) \\033[ — обозначение того, что дальше идет какой-то управляющий цветом код;\n",
      "\n",
      "# 2) 0;    — обозначет стиль текста (0 - normal, 1 - bold, 2 - light, 3 - italicized, 4 - underlined, 5 - blink); \n",
      "\n",
      "# 3) 31;   — цвет текста (красный) (диапозон от 30 до 37);\n",
      "\n",
      "# 4) 40m   — цвет фона (черный) (диапозон от 40 до 47) (m является разделителем);\n",
      "\n",
      "# 5) \\033[0;0m — возвращает терминалу исходную цветовую схему. Для того, чтобы текст не перетекал на следующую строку, нужно закрыть ТЕГ.\n",
      "\n",
      "_text = \"Привет BouRHooD!\"\n",
      "\n",
      "print(f'\\033[0;31;40m {_text} \\033[0;0m') \n",
      "\n",
      "print(\"\\033[2;31;44mПривет\\033[0m\")\n",
      "\n",
      "\n",
      "\n",
      "# ***** (1)\n",
      "\n",
      "\"\"\"<Вывод 16 цветов (8 фоновых + 8 передних)>\"\"\"\n",
      "\n",
      "# Выводим цвета текста \n",
      "\n",
      "print(\"-\" * 5)\n",
      "\n",
      "for select_color_text_value in range(30, 38):\n",
      "\n",
      "    print(f\"\\033[0;{select_color_text_value};40m {select_color_text_value} \\033[0;0m\", end=\"\")\n",
      "\n",
      "print()\n",
      "\n",
      "\n",
      "\n",
      "# Выводим цвета текста и фона\n",
      "\n",
      "print(\"-\" * 5)\n",
      "\n",
      "for select_color_text_value in range(30, 38):\n",
      "\n",
      "    for select_color_background_value in range(40, 48):\n",
      "\n",
      "        print(f\"\\033[0;{select_color_text_value};{select_color_background_value}m {select_color_text_value}:{select_color_background_value} \\033[0;0m\", end=\"\")\n",
      "\n",
      "    print()\n",
      "\n",
      "\n",
      "\n",
      "# Выводим цвета фона\n",
      "\n",
      "print(\"-\" * 5)\n",
      "\n",
      "for select_color_background_value in range(40, 48):\n",
      "\n",
      "    print(f\"\\033[0;30;{select_color_background_value}m {select_color_background_value} \\033[0;0m\", end=\"\")\n",
      "\n",
      "print()\n"
     ]
    }
   ],
   "source": [
    "with fileinput.FileInput(files=('temp/labHello.py', 'temp/_2_labColor16.py'), encoding='utf-8') as input:\n",
    "    for line in input:\n",
    "        print(line)"
   ]
  }
 ],
 "metadata": {
  "kernelspec": {
   "display_name": "Python 3",
   "language": "python",
   "name": "python3"
  },
  "language_info": {
   "codemirror_mode": {
    "name": "ipython",
    "version": 3
   },
   "file_extension": ".py",
   "mimetype": "text/x-python",
   "name": "python",
   "nbconvert_exporter": "python",
   "pygments_lexer": "ipython3",
   "version": "3.10.7 (tags/v3.10.7:6cc6b13, Sep  5 2022, 14:08:36) [MSC v.1933 64 bit (AMD64)]"
  },
  "orig_nbformat": 4,
  "vscode": {
   "interpreter": {
    "hash": "943c6ee01c10f5cc3c57caccbb7ab83aef6e579cc7a0aa252d51d555fb6a6bce"
   }
  }
 },
 "nbformat": 4,
 "nbformat_minor": 2
}
