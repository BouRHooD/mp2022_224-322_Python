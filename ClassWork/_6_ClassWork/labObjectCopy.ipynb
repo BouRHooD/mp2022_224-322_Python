{
 "cells": [
  {
   "attachments": {},
   "cell_type": "markdown",
   "metadata": {},
   "source": [
    "# Поверхностные и глубокие копии объектов (на примере списков)"
   ]
  },
  {
   "cell_type": "code",
   "execution_count": 1,
   "metadata": {},
   "outputs": [],
   "source": [
    "import copy"
   ]
  },
  {
   "attachments": {},
   "cell_type": "markdown",
   "metadata": {},
   "source": [
    "## Ссылки на одни и те же данные"
   ]
  },
  {
   "cell_type": "code",
   "execution_count": 5,
   "metadata": {},
   "outputs": [
    {
     "name": "stdout",
     "output_type": "stream",
     "text": [
      "[1, [2, [3, 4]]]\n",
      "1\n",
      "2\n",
      "3\n",
      "4\n"
     ]
    }
   ],
   "source": [
    "a = [1, [2, [3, 4]]]\n",
    "print(a)\n",
    "print(a[0])\n",
    "print(a[1][0])\n",
    "print(a[1][1][0])\n",
    "print(a[1][1][1])"
   ]
  },
  {
   "cell_type": "code",
   "execution_count": 6,
   "metadata": {},
   "outputs": [
    {
     "name": "stdout",
     "output_type": "stream",
     "text": [
      "[-1, [-2, [-3, 4]]]\n",
      "[-1, [-2, [-3, 4]]]\n"
     ]
    }
   ],
   "source": [
    "b = a\n",
    "b[0] = -1\n",
    "b[1][0] = -2\n",
    "b[1][1][0] = -3\n",
    "print(a)\n",
    "print(b)"
   ]
  },
  {
   "attachments": {},
   "cell_type": "markdown",
   "metadata": {},
   "source": [
    "## Поверхностные копии"
   ]
  },
  {
   "cell_type": "code",
   "execution_count": 7,
   "metadata": {},
   "outputs": [
    {
     "name": "stdout",
     "output_type": "stream",
     "text": [
      "[1, [-2, [-3, 4]]]\n",
      "[-1, [-2, [-3, 4]]]\n"
     ]
    }
   ],
   "source": [
    "a = [1, [2, [3, 4]]]\n",
    "b = a.copy()\n",
    "b[0] = -1\n",
    "b[1][0] = -2\n",
    "b[1][1][0] = -3\n",
    "print(a)\n",
    "print(b)"
   ]
  },
  {
   "cell_type": "code",
   "execution_count": 8,
   "metadata": {},
   "outputs": [
    {
     "name": "stdout",
     "output_type": "stream",
     "text": [
      "[1, [-2, [-3, 4]]]\n",
      "[-1, [-2, [-3, 4]]]\n"
     ]
    }
   ],
   "source": [
    "a = [1, [2, [3, 4]]]\n",
    "b = copy.copy(a)\n",
    "b[0] = -1\n",
    "b[1][0] = -2\n",
    "b[1][1][0] = -3\n",
    "print(a)\n",
    "print(b)"
   ]
  },
  {
   "attachments": {},
   "cell_type": "markdown",
   "metadata": {},
   "source": [
    "## Глубокие копии"
   ]
  },
  {
   "cell_type": "code",
   "execution_count": 9,
   "metadata": {},
   "outputs": [
    {
     "name": "stdout",
     "output_type": "stream",
     "text": [
      "[1, [2, [3, 4]]]\n",
      "[-1, [-2, [-3, 4]]]\n"
     ]
    }
   ],
   "source": [
    "a = [1, [2, [3, 4]]]\n",
    "b = copy.deepcopy(a)\n",
    "b[0] = -1\n",
    "b[1][0] = -2\n",
    "b[1][1][0] = -3\n",
    "print(a)\n",
    "print(b)"
   ]
  }
 ],
 "metadata": {
  "kernelspec": {
   "display_name": "Python 3",
   "language": "python",
   "name": "python3"
  },
  "language_info": {
   "codemirror_mode": {
    "name": "ipython",
    "version": 3
   },
   "file_extension": ".py",
   "mimetype": "text/x-python",
   "name": "python",
   "nbconvert_exporter": "python",
   "pygments_lexer": "ipython3",
   "version": "3.10.7 (tags/v3.10.7:6cc6b13, Sep  5 2022, 14:08:36) [MSC v.1933 64 bit (AMD64)]"
  },
  "orig_nbformat": 4,
  "vscode": {
   "interpreter": {
    "hash": "943c6ee01c10f5cc3c57caccbb7ab83aef6e579cc7a0aa252d51d555fb6a6bce"
   }
  }
 },
 "nbformat": 4,
 "nbformat_minor": 2
}
