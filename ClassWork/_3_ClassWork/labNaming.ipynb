{
 "cells": [
  {
   "attachments": {},
   "cell_type": "markdown",
   "metadata": {},
   "source": [
    "# Правильный нейминг"
   ]
  },
  {
   "cell_type": "code",
   "execution_count": 1,
   "metadata": {},
   "outputs": [
    {
     "name": "stdout",
     "output_type": "stream",
     "text": [
      "False\n"
     ]
    }
   ],
   "source": [
    "def pv(v, p):\n",
    "    if p == 'f':\n",
    "        return v >= 56.5\n",
    "    elif p == \"m\":\n",
    "        return v >= 61.5\n",
    "\n",
    "print(pv(54, \"m\"))"
   ]
  },
  {
   "cell_type": "code",
   "execution_count": 5,
   "metadata": {},
   "outputs": [
    {
     "name": "stdout",
     "output_type": "stream",
     "text": [
      "True\n",
      "False\n"
     ]
    }
   ],
   "source": [
    "def is_person_retiree(age : float, sex : str) -> bool:\n",
    "    \"\"\" Возвращает True, если человек пенсионер \"\"\"\n",
    "    if sex == 'f':\n",
    "        return age >= 56.5\n",
    "    elif sex == \"m\":\n",
    "        return age >= 61.5\n",
    "\n",
    "print(is_person_retiree(57, \"f\"))\n",
    "print(is_person_retiree(age=55, sex=\"m\"))"
   ]
  }
 ],
 "metadata": {
  "kernelspec": {
   "display_name": "Python 3",
   "language": "python",
   "name": "python3"
  },
  "language_info": {
   "codemirror_mode": {
    "name": "ipython",
    "version": 3
   },
   "file_extension": ".py",
   "mimetype": "text/x-python",
   "name": "python",
   "nbconvert_exporter": "python",
   "pygments_lexer": "ipython3",
   "version": "3.10.7"
  },
  "orig_nbformat": 4,
  "vscode": {
   "interpreter": {
    "hash": "943c6ee01c10f5cc3c57caccbb7ab83aef6e579cc7a0aa252d51d555fb6a6bce"
   }
  }
 },
 "nbformat": 4,
 "nbformat_minor": 2
}
