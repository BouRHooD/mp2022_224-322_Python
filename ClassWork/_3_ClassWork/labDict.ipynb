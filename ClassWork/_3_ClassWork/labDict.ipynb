{
 "cells": [
  {
   "attachments": {},
   "cell_type": "markdown",
   "metadata": {},
   "source": [
    "# Словарь (dict)\n",
    "\n",
    "Словарь (dict) - упорядоченная (c Pyton 3.7) структура данных, которая позволяет хранить пары \"ключ-значение\" с доступом по уникальному ключу.\n",
    "\n",
    "В качестве ключей словаря можно использовать любые неизменяемые типы [int, float, bool, ...]\n",
    "\n",
    "- {... : ..., ... : ...}\n",
    "- dict(...)"
   ]
  },
  {
   "attachments": {},
   "cell_type": "markdown",
   "metadata": {},
   "source": [
    "## Создание словаря"
   ]
  },
  {
   "cell_type": "code",
   "execution_count": 7,
   "metadata": {},
   "outputs": [
    {
     "name": "stdout",
     "output_type": "stream",
     "text": [
      "{1, 2}\n",
      "<class 'set'>\n",
      "{1: 'hi', 2: 'bourhood'}\n",
      "<class 'dict'>\n"
     ]
    }
   ],
   "source": [
    "v_set = {1, 2}\n",
    "print(v_set)\n",
    "print(type(v_set))\n",
    "\n",
    "v_dict = {1: \"hi\", 2: \"bourhood\"}\n",
    "print(v_dict)\n",
    "print(type(v_dict))"
   ]
  },
  {
   "cell_type": "code",
   "execution_count": 8,
   "metadata": {},
   "outputs": [],
   "source": [
    "# Помним\n",
    "empty_set = set()\n",
    "empty_dict = dict()\n",
    "empty_dict_2 = {}"
   ]
  },
  {
   "cell_type": "code",
   "execution_count": 9,
   "metadata": {},
   "outputs": [
    {
     "data": {
      "text/plain": [
       "{'key1': 'value1', 'key2': 'value2', 'key3': 'value3'}"
      ]
     },
     "execution_count": 9,
     "metadata": {},
     "output_type": "execute_result"
    }
   ],
   "source": [
    "{\"key1\":\"value1\", \"key2\":\"value2\", \"key3\":\"value3\"}"
   ]
  },
  {
   "cell_type": "code",
   "execution_count": 12,
   "metadata": {},
   "outputs": [
    {
     "data": {
      "text/plain": [
       "{'key1': 'value1', 'key2': 'value2', 'key3': 'value3'}"
      ]
     },
     "execution_count": 12,
     "metadata": {},
     "output_type": "execute_result"
    }
   ],
   "source": [
    "# Только если ключ - строка\n",
    "dict(key1=\"value1\", key2=\"value2\", key3=\"value3\")"
   ]
  },
  {
   "cell_type": "code",
   "execution_count": 15,
   "metadata": {},
   "outputs": [
    {
     "data": {
      "text/plain": [
       "{'key1': 'value1', 'key2': 'value2', 'key3': 'value3'}"
      ]
     },
     "execution_count": 15,
     "metadata": {},
     "output_type": "execute_result"
    }
   ],
   "source": [
    "# Создаем словарь через список кортежей \"ключ-значение\"\n",
    "v = dict([(\"key1\", 'value1'), (\"key2\", 'value2'), (\"key3\", 'value3')])\n",
    "v"
   ]
  },
  {
   "cell_type": "code",
   "execution_count": 16,
   "metadata": {},
   "outputs": [
    {
     "data": {
      "text/plain": [
       "{'key1': 'value1', 'key2': 'value2', 'key3': 'value3'}"
      ]
     },
     "execution_count": 16,
     "metadata": {},
     "output_type": "execute_result"
    }
   ],
   "source": [
    "# Создаем словарь через множество кортежей \"ключ-значение\"\n",
    "v = dict({(\"key1\", 'value1'), (\"key2\", 'value2'), (\"key3\", 'value3')})\n",
    "v"
   ]
  },
  {
   "cell_type": "code",
   "execution_count": 21,
   "metadata": {},
   "outputs": [
    {
     "data": {
      "text/plain": [
       "<zip at 0x25a834d0840>"
      ]
     },
     "execution_count": 21,
     "metadata": {},
     "output_type": "execute_result"
    }
   ],
   "source": [
    "z = zip(('key1', 'key2', 'key3'), ('value1', 'value2', 'value3'))\n",
    "z"
   ]
  },
  {
   "cell_type": "code",
   "execution_count": 22,
   "metadata": {},
   "outputs": [
    {
     "data": {
      "text/plain": [
       "{'key1': 'value1', 'key2': 'value2', 'key3': 'value3'}"
      ]
     },
     "execution_count": 22,
     "metadata": {},
     "output_type": "execute_result"
    }
   ],
   "source": [
    "# Создаем словарь через функцию zip\n",
    "v = dict(z)\n",
    "v"
   ]
  },
  {
   "cell_type": "code",
   "execution_count": 23,
   "metadata": {},
   "outputs": [
    {
     "data": {
      "text/plain": [
       "{'key1': 'value1', 'key2': 'value2', 'key3': 'value3'}"
      ]
     },
     "execution_count": 23,
     "metadata": {},
     "output_type": "execute_result"
    }
   ],
   "source": [
    "# ... или так\n",
    "keys = ('key1', 'key2', 'key3')\n",
    "values = ('value1', 'value2', 'value3')\n",
    "dict(zip(keys, values))"
   ]
  },
  {
   "cell_type": "code",
   "execution_count": 24,
   "metadata": {},
   "outputs": [
    {
     "data": {
      "text/plain": [
       "{5: 'Отлично', 4: 'Хорошо', 3: 'Удовлетворительно'}"
      ]
     },
     "execution_count": 24,
     "metadata": {},
     "output_type": "execute_result"
    }
   ],
   "source": [
    "v = {5:\"Отлично\", 4:\"Хорошо\", 3:\"Удовлетворительно\"}\n",
    "v"
   ]
  },
  {
   "cell_type": "code",
   "execution_count": 26,
   "metadata": {},
   "outputs": [
    {
     "data": {
      "text/plain": [
       "{True: 'Истина', False: 'Ложь'}"
      ]
     },
     "execution_count": 26,
     "metadata": {},
     "output_type": "execute_result"
    }
   ],
   "source": [
    "v = {True:\"Истина\", False:\"Ложь\"}\n",
    "v"
   ]
  },
  {
   "cell_type": "code",
   "execution_count": 29,
   "metadata": {},
   "outputs": [
    {
     "data": {
      "text/plain": [
       "{77: 'Москва', 97: 'Москва', 99: 'Москва', 177: 'Москва'}"
      ]
     },
     "execution_count": 29,
     "metadata": {},
     "output_type": "execute_result"
    }
   ],
   "source": [
    "v = dict.fromkeys([77, 97, 99, 177, 177], \"Москва\")\n",
    "v"
   ]
  },
  {
   "cell_type": "code",
   "execution_count": 31,
   "metadata": {},
   "outputs": [
    {
     "data": {
      "text/plain": [
       "{'city': 'город', 'cat': 'кот', 'book': 'книга'}"
      ]
     },
     "execution_count": 31,
     "metadata": {},
     "output_type": "execute_result"
    }
   ],
   "source": [
    "eng_to_rus = {\n",
    "    \"city\":\"город\", \n",
    "    \"cat\" :\"кот\", \n",
    "    \"book\":\"книга\"\n",
    "    }\n",
    "eng_to_rus"
   ]
  },
  {
   "attachments": {},
   "cell_type": "markdown",
   "metadata": {},
   "source": [
    "## Получить элементы словаря"
   ]
  },
  {
   "cell_type": "code",
   "execution_count": 32,
   "metadata": {},
   "outputs": [
    {
     "name": "stdout",
     "output_type": "stream",
     "text": [
      "кот\n",
      "книга\n",
      "книга\n"
     ]
    }
   ],
   "source": [
    "print(eng_to_rus[\"cat\"])\n",
    "print(eng_to_rus[\"book\"])\n",
    "print(eng_to_rus.get(\"book\"))"
   ]
  },
  {
   "attachments": {},
   "cell_type": "markdown",
   "metadata": {},
   "source": [
    "## Получить список из словаря"
   ]
  },
  {
   "cell_type": "code",
   "execution_count": 34,
   "metadata": {},
   "outputs": [
    {
     "data": {
      "text/plain": [
       "['city', 'cat', 'book']"
      ]
     },
     "execution_count": 34,
     "metadata": {},
     "output_type": "execute_result"
    }
   ],
   "source": [
    "# Получить список ключей из словаря\n",
    "list(eng_to_rus)"
   ]
  },
  {
   "cell_type": "code",
   "execution_count": 35,
   "metadata": {},
   "outputs": [
    {
     "data": {
      "text/plain": [
       "dict_keys(['city', 'cat', 'book'])"
      ]
     },
     "execution_count": 35,
     "metadata": {},
     "output_type": "execute_result"
    }
   ],
   "source": [
    "eng_to_rus.keys()"
   ]
  },
  {
   "cell_type": "code",
   "execution_count": 36,
   "metadata": {},
   "outputs": [
    {
     "data": {
      "text/plain": [
       "dict_values(['город', 'кот', 'книга'])"
      ]
     },
     "execution_count": 36,
     "metadata": {},
     "output_type": "execute_result"
    }
   ],
   "source": [
    "eng_to_rus.values()"
   ]
  },
  {
   "attachments": {},
   "cell_type": "markdown",
   "metadata": {},
   "source": [
    "## Итерации по элементам сдал"
   ]
  },
  {
   "cell_type": "code",
   "execution_count": 38,
   "metadata": {},
   "outputs": [
    {
     "name": "stdout",
     "output_type": "stream",
     "text": [
      "key ='city'\n",
      "key ='cat'\n",
      "key ='book'\n"
     ]
    }
   ],
   "source": [
    "for key in eng_to_rus.keys():\n",
    "    print(f\"{key =}\")"
   ]
  },
  {
   "cell_type": "code",
   "execution_count": 41,
   "metadata": {},
   "outputs": [
    {
     "name": "stdout",
     "output_type": "stream",
     "text": [
      "city \t = город\n",
      "cat \t = кот\n",
      "book \t = книга\n"
     ]
    }
   ],
   "source": [
    "for key in eng_to_rus.keys():\n",
    "    print(f\"{key} \\t = {eng_to_rus[key]}\")"
   ]
  },
  {
   "cell_type": "code",
   "execution_count": 46,
   "metadata": {},
   "outputs": [
    {
     "name": "stdout",
     "output_type": "stream",
     "text": [
      "city \t = город\n",
      "cat \t = кот\n",
      "book \t = книга\n"
     ]
    }
   ],
   "source": [
    "for key, value in eng_to_rus.items():\n",
    "    print(f\"{key} \\t = {value}\")"
   ]
  },
  {
   "cell_type": "code",
   "execution_count": 47,
   "metadata": {},
   "outputs": [
    {
     "name": "stdout",
     "output_type": "stream",
     "text": [
      "('city', 'город')\n",
      "('cat', 'кот')\n",
      "('book', 'книга')\n"
     ]
    }
   ],
   "source": [
    "for item in eng_to_rus.items():\n",
    "    print(item)"
   ]
  },
  {
   "attachments": {},
   "cell_type": "markdown",
   "metadata": {},
   "source": [
    "## Проверить вхождение элементов в словарь"
   ]
  },
  {
   "cell_type": "code",
   "execution_count": 49,
   "metadata": {},
   "outputs": [
    {
     "name": "stdout",
     "output_type": "stream",
     "text": [
      "True\n",
      "False\n",
      "True\n",
      "False\n"
     ]
    }
   ],
   "source": [
    "print(\"cat\" in eng_to_rus)\n",
    "print(\"kitty\" in eng_to_rus)\n",
    "print((\"city\", \"город\") in eng_to_rus.items())\n",
    "print((\"city\", \"город00000\") in eng_to_rus.items())"
   ]
  },
  {
   "attachments": {},
   "cell_type": "markdown",
   "metadata": {},
   "source": [
    "## Измененить словарь"
   ]
  },
  {
   "cell_type": "code",
   "execution_count": 53,
   "metadata": {},
   "outputs": [
    {
     "name": "stdout",
     "output_type": "stream",
     "text": [
      "{'city': 'город', 'cat': 'КОТ', 'book': 'книга', 'dog': 'собака', 'spam': 'спам'}\n",
      "{'city': 'город', 'cat': 'КОТ', 'book': 'книга', 'dog': 'пес', 'spam': 'спам'}\n",
      "{'city': 'город', 'cat': 'КОТ', 'book': 'книга', 'dog': 'пес'}\n"
     ]
    }
   ],
   "source": [
    "# Добавить\n",
    "eng_to_rus['dog'] = \"собака\"\n",
    "eng_to_rus['spam'] = 'спам'\n",
    "print(eng_to_rus)\n",
    "# Изменить\n",
    "eng_to_rus['cat'] = \"кошка\"\n",
    "eng_to_rus.update(cat=\"КОТ\", dog=\"пес\")\n",
    "print(eng_to_rus)\n",
    "# Удалить\n",
    "del eng_to_rus['spam']\n",
    "print(eng_to_rus)\n"
   ]
  },
  {
   "cell_type": "code",
   "execution_count": 56,
   "metadata": {},
   "outputs": [
    {
     "name": "stdout",
     "output_type": "stream",
     "text": [
      "{'city': 'город', 'cat': 'кот', 'book': 'книга'}\n",
      "город\n",
      "{'cat': 'кот', 'book': 'книга'}\n"
     ]
    }
   ],
   "source": [
    "# Извлечь из словаря\n",
    "eng_to_rus = {\n",
    "    \"city\":\"город\", \n",
    "    \"cat\" :\"кот\", \n",
    "    \"book\":\"книга\"\n",
    "    }\n",
    "print(eng_to_rus)\n",
    "item = eng_to_rus.pop(\"city\")\n",
    "print(item)\n",
    "print(eng_to_rus)"
   ]
  },
  {
   "cell_type": "code",
   "execution_count": 58,
   "metadata": {},
   "outputs": [
    {
     "name": "stdout",
     "output_type": "stream",
     "text": [
      "{'city': 'город', 'cat': 'кот', 'book': 'книга'}\n",
      "False\n",
      "{'city': 'город', 'cat': 'кот', 'book': 'книга'}\n"
     ]
    }
   ],
   "source": [
    "# Извлечь из словаря\n",
    "eng_to_rus = {\n",
    "    \"city\":\"город\", \n",
    "    \"cat\" :\"кот\", \n",
    "    \"book\":\"книга\"\n",
    "    }\n",
    "print(eng_to_rus)\n",
    "item = eng_to_rus.pop(\"city00000\", False)\n",
    "print(item)\n",
    "print(eng_to_rus)"
   ]
  },
  {
   "cell_type": "code",
   "execution_count": 59,
   "metadata": {},
   "outputs": [
    {
     "name": "stdout",
     "output_type": "stream",
     "text": [
      "{'city': 'город', 'cat': 'кот', 'book': 'книга'}\n",
      "('book', 'книга')\n",
      "{'city': 'город', 'cat': 'кот'}\n"
     ]
    }
   ],
   "source": [
    "# .popitem() - извлечь последнию пару (с Python 3.7) из словаря\n",
    "eng_to_rus = {\n",
    "    \"city\":\"город\", \n",
    "    \"cat\" :\"кот\", \n",
    "    \"book\":\"книга\"\n",
    "    }\n",
    "print(eng_to_rus)\n",
    "item = eng_to_rus.popitem()\n",
    "print(item)\n",
    "print(eng_to_rus)"
   ]
  }
 ],
 "metadata": {
  "kernelspec": {
   "display_name": "Python 3",
   "language": "python",
   "name": "python3"
  },
  "language_info": {
   "codemirror_mode": {
    "name": "ipython",
    "version": 3
   },
   "file_extension": ".py",
   "mimetype": "text/x-python",
   "name": "python",
   "nbconvert_exporter": "python",
   "pygments_lexer": "ipython3",
   "version": "3.10.7 (tags/v3.10.7:6cc6b13, Sep  5 2022, 14:08:36) [MSC v.1933 64 bit (AMD64)]"
  },
  "orig_nbformat": 4,
  "vscode": {
   "interpreter": {
    "hash": "943c6ee01c10f5cc3c57caccbb7ab83aef6e579cc7a0aa252d51d555fb6a6bce"
   }
  }
 },
 "nbformat": 4,
 "nbformat_minor": 2
}
