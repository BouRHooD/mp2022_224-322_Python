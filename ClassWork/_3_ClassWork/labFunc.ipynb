{
 "cells": [
  {
   "attachments": {},
   "cell_type": "markdown",
   "metadata": {},
   "source": [
    "# Именные функции, инструкция def\n",
    "\n",
    "- Сигнатура функции\n",
    "- Тело функции\n",
    "- Параметры функции\n",
    "- Аргументы функции:\n",
    "    - Позиционные аргументы\n",
    "    - Именованные аргументы (name=...)\n",
    "    - Произвольное кол-во аргументов (*)\n",
    "    - Произвольное кол-во именованных аргументов (**)"
   ]
  },
  {
   "cell_type": "code",
   "execution_count": 2,
   "metadata": {},
   "outputs": [
    {
     "name": "stdout",
     "output_type": "stream",
     "text": [
      "Влад\n"
     ]
    }
   ],
   "source": [
    "def show_name():\n",
    "    print(\"Влад\")\n",
    "\n",
    "show_name()"
   ]
  },
  {
   "cell_type": "code",
   "execution_count": 4,
   "metadata": {},
   "outputs": [
    {
     "name": "stdout",
     "output_type": "stream",
     "text": [
      "Юра\n"
     ]
    }
   ],
   "source": [
    "def get_name():\n",
    "    return \"Юра\"\n",
    "\n",
    "_name = get_name()\n",
    "print(_name)"
   ]
  },
  {
   "cell_type": "code",
   "execution_count": 6,
   "metadata": {},
   "outputs": [
    {
     "name": "stdout",
     "output_type": "stream",
     "text": [
      "None\n",
      "r is None\n"
     ]
    }
   ],
   "source": [
    "def do_nothing():\n",
    "    return None\n",
    "\n",
    "r = do_nothing()\n",
    "print(r)\n",
    "\n",
    "if r is None:\n",
    "    print(\"r is None\")"
   ]
  },
  {
   "cell_type": "code",
   "execution_count": 8,
   "metadata": {},
   "outputs": [
    {
     "name": "stdout",
     "output_type": "stream",
     "text": [
      "10\n",
      "55\n"
     ]
    }
   ],
   "source": [
    "def sum_1(a, b):\n",
    "    return a + b\n",
    "\n",
    "print(sum_1(5, 5))\n",
    "print(sum_1(\"5\", \"5\"))"
   ]
  },
  {
   "cell_type": "code",
   "execution_count": 14,
   "metadata": {},
   "outputs": [
    {
     "name": "stdout",
     "output_type": "stream",
     "text": [
      "30\n",
      "30\n"
     ]
    }
   ],
   "source": [
    "# Помним: именованные аргументы только в конце\n",
    "print(sum_1(b=20, a=10))\n",
    "print(sum_1(20, b=10))"
   ]
  },
  {
   "cell_type": "code",
   "execution_count": 15,
   "metadata": {},
   "outputs": [
    {
     "name": "stdout",
     "output_type": "stream",
     "text": [
      "13\n",
      "3\n"
     ]
    }
   ],
   "source": [
    "def sum_2(a, b, c = 10):\n",
    "    return a + b + c\n",
    "\n",
    "print(sum_2(1, 2))\n",
    "print(sum_2(1, 2, 0))"
   ]
  },
  {
   "cell_type": "code",
   "execution_count": 31,
   "metadata": {},
   "outputs": [
    {
     "name": "stdout",
     "output_type": "stream",
     "text": [
      "(1, 2, 3, 'Hello', 3.14)\n"
     ]
    }
   ],
   "source": [
    "# args - сокращение от \"arguments\" (аргументы)\n",
    "def show_params_1(*args):\n",
    "    print(args)\n",
    "\n",
    "show_params_1(1, 2, 3, \"Hello\", 3.14)"
   ]
  },
  {
   "cell_type": "code",
   "execution_count": 29,
   "metadata": {},
   "outputs": [
    {
     "name": "stdout",
     "output_type": "stream",
     "text": [
      "1 2\n",
      "(3, 'Hello', 3.14)\n"
     ]
    }
   ],
   "source": [
    "def show_params_1(a, b, *args):\n",
    "    print(a, b)\n",
    "    print(args)\n",
    "\n",
    "show_params_1(1, 2, 3, \"Hello\", 3.14)"
   ]
  },
  {
   "cell_type": "code",
   "execution_count": 35,
   "metadata": {},
   "outputs": [
    {
     "name": "stdout",
     "output_type": "stream",
     "text": [
      "{'a': 1, 'b': 333, 'c': 'Привет'}\n"
     ]
    }
   ],
   "source": [
    "# kwargs - сокращение от \"keyword arguments\" (именованные аргументы)\n",
    "def show_params_2(**kwargs):\n",
    "    print(kwargs)\n",
    "\n",
    "show_params_2(a=1, b=333, c=\"Привет\")"
   ]
  },
  {
   "cell_type": "code",
   "execution_count": 36,
   "metadata": {},
   "outputs": [
    {
     "data": {
      "text/plain": [
       "5"
      ]
     },
     "execution_count": 36,
     "metadata": {},
     "output_type": "execute_result"
    }
   ],
   "source": [
    "# Аннотация типов (подсказка для программистов)\n",
    "def sum3(a: int, b: int) -> int:\n",
    "    return a + b\n",
    "\n",
    "sum3(4, 1)"
   ]
  }
 ],
 "metadata": {
  "kernelspec": {
   "display_name": "Python 3",
   "language": "python",
   "name": "python3"
  },
  "language_info": {
   "codemirror_mode": {
    "name": "ipython",
    "version": 3
   },
   "file_extension": ".py",
   "mimetype": "text/x-python",
   "name": "python",
   "nbconvert_exporter": "python",
   "pygments_lexer": "ipython3",
   "version": "3.10.7"
  },
  "orig_nbformat": 4,
  "vscode": {
   "interpreter": {
    "hash": "943c6ee01c10f5cc3c57caccbb7ab83aef6e579cc7a0aa252d51d555fb6a6bce"
   }
  }
 },
 "nbformat": 4,
 "nbformat_minor": 2
}
