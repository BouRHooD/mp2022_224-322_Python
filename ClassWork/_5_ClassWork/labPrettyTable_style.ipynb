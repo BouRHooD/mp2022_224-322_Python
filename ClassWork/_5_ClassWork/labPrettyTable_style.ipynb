{
 "cells": [
  {
   "attachments": {},
   "cell_type": "markdown",
   "metadata": {},
   "source": [
    "# Настройка стилей в PrettyTable"
   ]
  },
  {
   "cell_type": "code",
   "execution_count": 1,
   "metadata": {},
   "outputs": [],
   "source": [
    "# py -m pip install prettytable\n",
    "from prettytable import PrettyTable"
   ]
  },
  {
   "cell_type": "code",
   "execution_count": 2,
   "metadata": {},
   "outputs": [
    {
     "name": "stdout",
     "output_type": "stream",
     "text": [
      "+---------+------+---------+--------+\n",
      "| Фамилия | Имя  | Возраст |   ЗП   |\n",
      "+---------+------+---------+--------+\n",
      "|  Иванов | Иван |    19   | 50000  |\n",
      "|  Петров | Петр |    27   | 150000 |\n",
      "| Сидоров |  Ян  |    16   |  5000  |\n",
      "+---------+------+---------+--------+\n"
     ]
    }
   ],
   "source": [
    "# (1) Добавление данных построчно\n",
    "ta = PrettyTable()\n",
    "# Поля\n",
    "ta.field_names = [\"Фамилия\", \"Имя\", \"Возраст\", \"ЗП\"]\n",
    "# Данные\n",
    "ta.add_row([\"Иванов\", \"Иван\", 19, 50000])\n",
    "ta.add_row([\"Петров\", \"Петр\", 27, 150000])\n",
    "ta.add_row([\"Сидоров\", \"Ян\", 16, 5000])\n",
    "# Печать\n",
    "print(ta)"
   ]
  },
  {
   "attachments": {},
   "cell_type": "markdown",
   "metadata": {},
   "source": [
    "## Изменение рамки таблицы"
   ]
  },
  {
   "cell_type": "code",
   "execution_count": 3,
   "metadata": {},
   "outputs": [],
   "source": [
    "import prettytable"
   ]
  },
  {
   "cell_type": "code",
   "execution_count": 4,
   "metadata": {},
   "outputs": [
    {
     "name": "stdout",
     "output_type": "stream",
     "text": [
      "| Фамилия | Имя  | Возраст |   ЗП   |\n",
      "|  Иванов | Иван |    19   | 50000  |\n",
      "|  Петров | Петр |    27   | 150000 |\n",
      "| Сидоров |  Ян  |    16   |  5000  |\n"
     ]
    }
   ],
   "source": [
    "ta.set_style(prettytable.MSWORD_FRIENDLY)\n",
    "print(ta)"
   ]
  },
  {
   "cell_type": "code",
   "execution_count": 5,
   "metadata": {},
   "outputs": [
    {
     "name": "stdout",
     "output_type": "stream",
     "text": [
      "Фамилия        Имя         Возраст          ЗП          \n",
      " Иванов        Иван           19          50000         \n",
      " Петров        Петр           27          150000        \n",
      "Сидоров         Ян            16           5000         \n"
     ]
    }
   ],
   "source": [
    "ta.set_style(prettytable.PLAIN_COLUMNS)\n",
    "print(ta)"
   ]
  },
  {
   "cell_type": "code",
   "execution_count": 6,
   "metadata": {},
   "outputs": [
    {
     "name": "stdout",
     "output_type": "stream",
     "text": [
      "| Фамилия | Имя  | Возраст |   ЗП   |\n",
      "|:-------:|:----:|:-------:|:------:|\n",
      "|  Иванов | Иван |    19   | 50000  |\n",
      "|  Петров | Петр |    27   | 150000 |\n",
      "| Сидоров |  Ян  |    16   |  5000  |\n"
     ]
    }
   ],
   "source": [
    "ta.set_style(prettytable.MARKDOWN)\n",
    "print(ta)"
   ]
  },
  {
   "cell_type": "code",
   "execution_count": 7,
   "metadata": {},
   "outputs": [
    {
     "name": "stdout",
     "output_type": "stream",
     "text": [
      "║ Фамилия ║ Имя  ║ Возраст ║   ЗП   ║\n",
      "╠:═══════:╬:════:╬:═══════:╬:══════:╣\n",
      "║  Иванов ║ Иван ║    19   ║ 50000  ║\n",
      "║  Петров ║ Петр ║    27   ║ 150000 ║\n",
      "║ Сидоров ║  Ян  ║    16   ║  5000  ║\n"
     ]
    }
   ],
   "source": [
    "ta.set_style(prettytable.DOUBLE_BORDER)\n",
    "print(ta)"
   ]
  },
  {
   "cell_type": "code",
   "execution_count": 8,
   "metadata": {},
   "outputs": [
    {
     "name": "stdout",
     "output_type": "stream",
     "text": [
      "+---------+------+---------+--------+\n",
      "| Фамилия | Имя  | Возраст |   ЗП   |\n",
      "+---------+------+---------+--------+\n",
      "|  Иванов | Иван |    19   | 50000  |\n",
      "|  Петров | Петр |    27   | 150000 |\n",
      "| Сидоров |  Ян  |    16   |  5000  |\n",
      "+---------+------+---------+--------+\n"
     ]
    }
   ],
   "source": [
    "ta.set_style(prettytable.DEFAULT)\n",
    "print(ta)"
   ]
  },
  {
   "attachments": {},
   "cell_type": "markdown",
   "metadata": {},
   "source": [
    "## Тонкая настройка рамки таблицы"
   ]
  },
  {
   "cell_type": "code",
   "execution_count": 9,
   "metadata": {},
   "outputs": [
    {
     "name": "stdout",
     "output_type": "stream",
     "text": [
      " Фамилия  Имя   Возраст    ЗП   \n",
      "  Иванов  Иван     19    50000  \n",
      "  Петров  Петр     27    150000 \n",
      " Сидоров   Ян      16     5000  \n"
     ]
    }
   ],
   "source": [
    "ta.border = False\n",
    "print(ta)"
   ]
  },
  {
   "cell_type": "code",
   "execution_count": 10,
   "metadata": {},
   "outputs": [
    {
     "name": "stdout",
     "output_type": "stream",
     "text": [
      "+---------+------+---------+--------+\n",
      "| Фамилия | Имя  | Возраст |   ЗП   |\n",
      "+---------+------+---------+--------+\n",
      "|  Иванов | Иван |    19   | 50000  |\n",
      "|  Петров | Петр |    27   | 150000 |\n",
      "| Сидоров |  Ян  |    16   |  5000  |\n",
      "+---------+------+---------+--------+\n"
     ]
    }
   ],
   "source": [
    "ta.border = False\n",
    "print(ta.get_string(border = True))"
   ]
  },
  {
   "cell_type": "code",
   "execution_count": 18,
   "metadata": {},
   "outputs": [
    {
     "name": "stdout",
     "output_type": "stream",
     "text": [
      "+---------1------1---------1--------+\n",
      "| Фамилия | Имя  | Возраст |   ЗП   |\n",
      "+---------+------+---------+--------+\n",
      "|  Иванов | Иван |    19   | 50000  |\n",
      "|  Петров | Петр |    27   | 150000 |\n",
      "| Сидоров |  Ян  |    16   |  5000  |\n",
      "+---------┴------┴---------┴--------+\n"
     ]
    }
   ],
   "source": [
    "ta.set_style(prettytable.DEFAULT)\n",
    "ta.top_junction_char = \"1\"\n",
    "ta.bottom_junction_char = \"┴\"\n",
    "ta.horizontal_char = \"-\"\n",
    "ta.vertical_char = \"|\"\n",
    "print(ta.get_string())"
   ]
  },
  {
   "attachments": {},
   "cell_type": "markdown",
   "metadata": {},
   "source": [
    "# HW:\n",
    "- сделать одиночную рамку, двойную рамку и тп."
   ]
  }
 ],
 "metadata": {
  "kernelspec": {
   "display_name": "Python 3",
   "language": "python",
   "name": "python3"
  },
  "language_info": {
   "codemirror_mode": {
    "name": "ipython",
    "version": 3
   },
   "file_extension": ".py",
   "mimetype": "text/x-python",
   "name": "python",
   "nbconvert_exporter": "python",
   "pygments_lexer": "ipython3",
   "version": "3.10.7 (tags/v3.10.7:6cc6b13, Sep  5 2022, 14:08:36) [MSC v.1933 64 bit (AMD64)]"
  },
  "orig_nbformat": 4,
  "vscode": {
   "interpreter": {
    "hash": "943c6ee01c10f5cc3c57caccbb7ab83aef6e579cc7a0aa252d51d555fb6a6bce"
   }
  }
 },
 "nbformat": 4,
 "nbformat_minor": 2
}
