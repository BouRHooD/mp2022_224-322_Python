{
 "cells": [
  {
   "attachments": {},
   "cell_type": "markdown",
   "metadata": {},
   "source": [
    "# Настройка стилей в PrettyTable"
   ]
  },
  {
   "cell_type": "code",
   "execution_count": 1,
   "metadata": {},
   "outputs": [],
   "source": [
    "# py -m pip install prettytable\n",
    "from prettytable import PrettyTable"
   ]
  },
  {
   "cell_type": "code",
   "execution_count": 2,
   "metadata": {},
   "outputs": [
    {
     "name": "stdout",
     "output_type": "stream",
     "text": [
      "+---------+------+---------+--------+\n",
      "| Фамилия | Имя  | Возраст |   ЗП   |\n",
      "+---------+------+---------+--------+\n",
      "|  Иванов | Иван |    19   | 50000  |\n",
      "|  Петров | Петр |    27   | 150000 |\n",
      "| Сидоров |  Ян  |    16   |  5000  |\n",
      "+---------+------+---------+--------+\n"
     ]
    }
   ],
   "source": [
    "# (1) Добавление данных построчно\n",
    "ta = PrettyTable()\n",
    "# Поля\n",
    "ta.field_names = [\"Фамилия\", \"Имя\", \"Возраст\", \"ЗП\"]\n",
    "# Данные\n",
    "ta.add_row([\"Иванов\", \"Иван\", 19, 50000])\n",
    "ta.add_row([\"Петров\", \"Петр\", 27, 150000])\n",
    "ta.add_row([\"Сидоров\", \"Ян\", 16, 5000])\n",
    "# Печать\n",
    "print(ta)"
   ]
  },
  {
   "attachments": {},
   "cell_type": "markdown",
   "metadata": {},
   "source": [
    "## Изменение рамки таблицы"
   ]
  },
  {
   "cell_type": "code",
   "execution_count": 3,
   "metadata": {},
   "outputs": [],
   "source": [
    "import prettytable"
   ]
  },
  {
   "cell_type": "code",
   "execution_count": 4,
   "metadata": {},
   "outputs": [
    {
     "name": "stdout",
     "output_type": "stream",
     "text": [
      "| Фамилия | Имя  | Возраст |   ЗП   |\n",
      "|  Иванов | Иван |    19   | 50000  |\n",
      "|  Петров | Петр |    27   | 150000 |\n",
      "| Сидоров |  Ян  |    16   |  5000  |\n"
     ]
    }
   ],
   "source": [
    "ta.set_style(prettytable.MSWORD_FRIENDLY)\n",
    "print(ta)"
   ]
  },
  {
   "cell_type": "code",
   "execution_count": 5,
   "metadata": {},
   "outputs": [
    {
     "name": "stdout",
     "output_type": "stream",
     "text": [
      "Фамилия        Имя         Возраст          ЗП          \n",
      " Иванов        Иван           19          50000         \n",
      " Петров        Петр           27          150000        \n",
      "Сидоров         Ян            16           5000         \n"
     ]
    }
   ],
   "source": [
    "ta.set_style(prettytable.PLAIN_COLUMNS)\n",
    "print(ta)"
   ]
  },
  {
   "cell_type": "code",
   "execution_count": 6,
   "metadata": {},
   "outputs": [
    {
     "name": "stdout",
     "output_type": "stream",
     "text": [
      "| Фамилия | Имя  | Возраст |   ЗП   |\n",
      "|:-------:|:----:|:-------:|:------:|\n",
      "|  Иванов | Иван |    19   | 50000  |\n",
      "|  Петров | Петр |    27   | 150000 |\n",
      "| Сидоров |  Ян  |    16   |  5000  |\n"
     ]
    }
   ],
   "source": [
    "ta.set_style(prettytable.MARKDOWN)\n",
    "print(ta)"
   ]
  },
  {
   "cell_type": "code",
   "execution_count": 7,
   "metadata": {},
   "outputs": [
    {
     "name": "stdout",
     "output_type": "stream",
     "text": [
      "║ Фамилия ║ Имя  ║ Возраст ║   ЗП   ║\n",
      "╠:═══════:╬:════:╬:═══════:╬:══════:╣\n",
      "║  Иванов ║ Иван ║    19   ║ 50000  ║\n",
      "║  Петров ║ Петр ║    27   ║ 150000 ║\n",
      "║ Сидоров ║  Ян  ║    16   ║  5000  ║\n"
     ]
    }
   ],
   "source": [
    "ta.set_style(prettytable.DOUBLE_BORDER)\n",
    "print(ta)"
   ]
  },
  {
   "cell_type": "code",
   "execution_count": 8,
   "metadata": {},
   "outputs": [
    {
     "name": "stdout",
     "output_type": "stream",
     "text": [
      "+---------+------+---------+--------+\n",
      "| Фамилия | Имя  | Возраст |   ЗП   |\n",
      "+---------+------+---------+--------+\n",
      "|  Иванов | Иван |    19   | 50000  |\n",
      "|  Петров | Петр |    27   | 150000 |\n",
      "| Сидоров |  Ян  |    16   |  5000  |\n",
      "+---------+------+---------+--------+\n"
     ]
    }
   ],
   "source": [
    "ta.set_style(prettytable.DEFAULT)\n",
    "print(ta)"
   ]
  },
  {
   "attachments": {},
   "cell_type": "markdown",
   "metadata": {},
   "source": [
    "## Тонкая настройка рамки таблицы"
   ]
  },
  {
   "cell_type": "code",
   "execution_count": 9,
   "metadata": {},
   "outputs": [
    {
     "name": "stdout",
     "output_type": "stream",
     "text": [
      " Фамилия  Имя   Возраст    ЗП   \n",
      "  Иванов  Иван     19    50000  \n",
      "  Петров  Петр     27    150000 \n",
      " Сидоров   Ян      16     5000  \n"
     ]
    }
   ],
   "source": [
    "ta.border = False\n",
    "print(ta)"
   ]
  }
 ],
 "metadata": {
  "kernelspec": {
   "display_name": "Python 3",
   "language": "python",
   "name": "python3"
  },
  "language_info": {
   "codemirror_mode": {
    "name": "ipython",
    "version": 3
   },
   "file_extension": ".py",
   "mimetype": "text/x-python",
   "name": "python",
   "nbconvert_exporter": "python",
   "pygments_lexer": "ipython3",
   "version": "3.10.7"
  },
  "orig_nbformat": 4,
  "vscode": {
   "interpreter": {
    "hash": "943c6ee01c10f5cc3c57caccbb7ab83aef6e579cc7a0aa252d51d555fb6a6bce"
   }
  }
 },
 "nbformat": 4,
 "nbformat_minor": 2
}
