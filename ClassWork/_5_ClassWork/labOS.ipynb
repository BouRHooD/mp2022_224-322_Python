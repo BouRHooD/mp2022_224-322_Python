{
 "cells": [
  {
   "attachments": {},
   "cell_type": "markdown",
   "metadata": {},
   "source": [
    "# OS - Работа с каталогами и файлами"
   ]
  },
  {
   "cell_type": "code",
   "execution_count": 1,
   "metadata": {},
   "outputs": [],
   "source": [
    "import os"
   ]
  },
  {
   "cell_type": "code",
   "execution_count": 4,
   "metadata": {},
   "outputs": [],
   "source": [
    "TEMP_DIR = 'temp'"
   ]
  },
  {
   "cell_type": "code",
   "execution_count": 2,
   "metadata": {},
   "outputs": [
    {
     "data": {
      "text/plain": [
       "'d:\\\\_All\\\\BouRHooD\\\\_University\\\\Магистратура\\\\1 семестр\\\\Современнные технологии программирования\\\\mp2022_224-321_Python\\\\mp2022_224-322_Python\\\\ClassWork\\\\_5_ClassWork'"
      ]
     },
     "execution_count": 2,
     "metadata": {},
     "output_type": "execute_result"
    }
   ],
   "source": [
    "# os.getcwd() - Вернуть текущий рабочий каталог\n",
    "os.getcwd()"
   ]
  },
  {
   "cell_type": "code",
   "execution_count": 5,
   "metadata": {},
   "outputs": [
    {
     "data": {
      "text/plain": [
       "False"
      ]
     },
     "execution_count": 5,
     "metadata": {},
     "output_type": "execute_result"
    }
   ],
   "source": [
    "os.path.exists(TEMP_DIR)"
   ]
  },
  {
   "cell_type": "code",
   "execution_count": 7,
   "metadata": {},
   "outputs": [],
   "source": [
    "if not os.path.exists(TEMP_DIR):\n",
    "    os.mkdir(TEMP_DIR)"
   ]
  },
  {
   "cell_type": "code",
   "execution_count": 10,
   "metadata": {},
   "outputs": [
    {
     "data": {
      "text/plain": [
       "True"
      ]
     },
     "execution_count": 10,
     "metadata": {},
     "output_type": "execute_result"
    }
   ],
   "source": [
    "os.path.exists(TEMP_DIR)"
   ]
  },
  {
   "cell_type": "code",
   "execution_count": 17,
   "metadata": {},
   "outputs": [
    {
     "name": "stdout",
     "output_type": "stream",
     "text": [
      "os.stat_result(st_mode=33206, st_ino=281474977202107, st_dev=2723994473, st_nlink=1, st_uid=0, st_gid=0, st_size=84, st_atime=1672470961, st_mtime=1671098943, st_ctime=1671098752)\n",
      "Размер файла: 84\n",
      "Размер файла: 84\n",
      "Размер файла: 84\n"
     ]
    }
   ],
   "source": [
    "filename = \"_5_ClassWork_Info.txt\"\n",
    "f = os.stat(filename)\n",
    "print(f)\n",
    "print(\"Размер файла:\", f.st_size)\n",
    "print(\"Размер файла:\", os.stat(filename).st_size)\n",
    "print(\"Размер файла:\", os.path.getsize(filename))"
   ]
  },
  {
   "cell_type": "code",
   "execution_count": 20,
   "metadata": {},
   "outputs": [
    {
     "name": "stdout",
     "output_type": "stream",
     "text": [
      "d:\\_All\\BouRHooD\\_University\\Магистратура\\1 семестр\\Современнные технологии программирования\\mp2022_224-321_Python\\mp2022_224-322_Python\n",
      "d:\\_All\\BouRHooD\\_University\\Магистратура\\1 семестр\\Современнные технологии программирования\\mp2022_224-321_Python\n"
     ]
    }
   ],
   "source": [
    "os.chdir(\"..\") # Относительный путь\n",
    "print(os.getcwd())"
   ]
  },
  {
   "cell_type": "code",
   "execution_count": 23,
   "metadata": {},
   "outputs": [
    {
     "data": {
      "text/plain": [
       "'C:\\\\Windows\\\\Help'"
      ]
     },
     "execution_count": 23,
     "metadata": {},
     "output_type": "execute_result"
    }
   ],
   "source": [
    "os.chdir(\"C:\\Windows\\Help\") # Абсолютный путь\n",
    "os.getcwd()"
   ]
  },
  {
   "cell_type": "code",
   "execution_count": 25,
   "metadata": {},
   "outputs": [
    {
     "data": {
      "text/plain": [
       "['Corporate', 'en-US', 'Help', 'mui', 'OEM', 'Windows']"
      ]
     },
     "execution_count": 25,
     "metadata": {},
     "output_type": "execute_result"
    }
   ],
   "source": [
    "# os.listdir() - Вернуть список, содержащий имена директорий и файлов в каталоге\n",
    "os.listdir()"
   ]
  },
  {
   "cell_type": "code",
   "execution_count": 27,
   "metadata": {},
   "outputs": [
    {
     "name": "stdout",
     "output_type": "stream",
     "text": [
      "C:\\Windows\\Help ['Corporate', 'en-US', 'Help', 'mui', 'OEM', 'Windows'] []\n",
      "C:\\Windows\\Help\\Corporate [] []\n",
      "C:\\Windows\\Help\\en-US [] ['credits.rtf']\n",
      "C:\\Windows\\Help\\Help [] []\n",
      "C:\\Windows\\Help\\mui ['0409', '0419'] []\n",
      "C:\\Windows\\Help\\mui\\0409 [] []\n",
      "C:\\Windows\\Help\\mui\\0419 [] ['cliconf.chm', 'mmc.CHM', 'msdasc.chm', 'msorcl32.chm', 'odbcinst.chm', 'odbcjet.chm', 'sqlsodbc.chm', 'sqlsoldb.chm']\n",
      "C:\\Windows\\Help\\OEM ['ContentStore', 'IndexStore'] []\n",
      "C:\\Windows\\Help\\OEM\\ContentStore [] []\n",
      "C:\\Windows\\Help\\OEM\\IndexStore [] []\n",
      "C:\\Windows\\Help\\Windows ['ContentStore', 'IndexStore'] []\n",
      "C:\\Windows\\Help\\Windows\\ContentStore ['en-US'] []\n",
      "C:\\Windows\\Help\\Windows\\ContentStore\\en-US [] []\n",
      "C:\\Windows\\Help\\Windows\\IndexStore ['en-US'] []\n",
      "C:\\Windows\\Help\\Windows\\IndexStore\\en-US [] []\n"
     ]
    }
   ],
   "source": [
    "for current_dir, dirs, files in os.walk(\".\"):\n",
    "    print(os.path.abspath(current_dir), dirs, files)"
   ]
  },
  {
   "cell_type": "code",
   "execution_count": 28,
   "metadata": {},
   "outputs": [
    {
     "name": "stdout",
     "output_type": "stream",
     "text": [
      "Каталогов = 6 и файлов = 0 в папку [C:\\Windows\\Help]\n",
      "Каталогов = 0 и файлов = 0 в папку [C:\\Windows\\Help\\Corporate]\n",
      "Каталогов = 0 и файлов = 1 в папку [C:\\Windows\\Help\\en-US]\n",
      "Каталогов = 0 и файлов = 0 в папку [C:\\Windows\\Help\\Help]\n",
      "Каталогов = 2 и файлов = 0 в папку [C:\\Windows\\Help\\mui]\n",
      "Каталогов = 0 и файлов = 0 в папку [C:\\Windows\\Help\\mui\\0409]\n",
      "Каталогов = 0 и файлов = 8 в папку [C:\\Windows\\Help\\mui\\0419]\n",
      "Каталогов = 2 и файлов = 0 в папку [C:\\Windows\\Help\\OEM]\n",
      "Каталогов = 0 и файлов = 0 в папку [C:\\Windows\\Help\\OEM\\ContentStore]\n",
      "Каталогов = 0 и файлов = 0 в папку [C:\\Windows\\Help\\OEM\\IndexStore]\n",
      "Каталогов = 2 и файлов = 0 в папку [C:\\Windows\\Help\\Windows]\n",
      "Каталогов = 1 и файлов = 0 в папку [C:\\Windows\\Help\\Windows\\ContentStore]\n",
      "Каталогов = 0 и файлов = 0 в папку [C:\\Windows\\Help\\Windows\\ContentStore\\en-US]\n",
      "Каталогов = 1 и файлов = 0 в папку [C:\\Windows\\Help\\Windows\\IndexStore]\n",
      "Каталогов = 0 и файлов = 0 в папку [C:\\Windows\\Help\\Windows\\IndexStore\\en-US]\n"
     ]
    }
   ],
   "source": [
    "for current_dir, dirs, files in os.walk(\".\"):\n",
    "    print(f\"Каталогов = {len(dirs)} и файлов = {len(files)} в папку [{os.path.abspath(current_dir)}]\")"
   ]
  },
  {
   "cell_type": "code",
   "execution_count": 29,
   "metadata": {},
   "outputs": [
    {
     "name": "stdout",
     "output_type": "stream",
     "text": [
      "credits.rtf\n",
      "cliconf.chm\n",
      "mmc.CHM\n",
      "msdasc.chm\n",
      "msorcl32.chm\n",
      "odbcinst.chm\n",
      "odbcjet.chm\n",
      "sqlsodbc.chm\n",
      "sqlsoldb.chm\n"
     ]
    }
   ],
   "source": [
    "for current_dir, dirs, files in os.walk(\".\"):\n",
    "    for file in files:\n",
    "        print(file)"
   ]
  }
 ],
 "metadata": {
  "kernelspec": {
   "display_name": "Python 3",
   "language": "python",
   "name": "python3"
  },
  "language_info": {
   "codemirror_mode": {
    "name": "ipython",
    "version": 3
   },
   "file_extension": ".py",
   "mimetype": "text/x-python",
   "name": "python",
   "nbconvert_exporter": "python",
   "pygments_lexer": "ipython3",
   "version": "3.10.7"
  },
  "orig_nbformat": 4,
  "vscode": {
   "interpreter": {
    "hash": "943c6ee01c10f5cc3c57caccbb7ab83aef6e579cc7a0aa252d51d555fb6a6bce"
   }
  }
 },
 "nbformat": 4,
 "nbformat_minor": 2
}
