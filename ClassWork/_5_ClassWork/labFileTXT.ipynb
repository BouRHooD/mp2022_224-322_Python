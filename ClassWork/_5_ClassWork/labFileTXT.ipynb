{
 "cells": [
  {
   "attachments": {},
   "cell_type": "markdown",
   "metadata": {},
   "source": [
    "# Работа с текстовыми файлами\n",
    "\n",
    "Функция `open()` - открывает файл на чтение/запись\n",
    "\n",
    "Режим открытия файла:\n",
    "* 'r' - открывает файл только для чтения. Если файл не найден, то будет ошибка (по умолчанию)\n",
    "* 'w' - открывает файл для записи. Перед записью файл будет очищен. Если файл отсутствует, то он создается.\n",
    "* 'x' - открывает файл для записи. Перед записью файл будет очищен. Если файл отсутствует, то будет ошибка.\n",
    "* 'a' - открыть файл для записи в конец файла.  Если файл отсутствует, то он создается.\n",
    "\n",
    "Дополнительно:\n",
    "* '_t' - текстовы файл (по умолчанию)\n",
    "* '_b' - бинарные файлы\n",
    "* '_+' - режим r + w\n",
    "\n",
    "Note:\n",
    "* Помним, что после работы с файлом его необходимо закрыть\n",
    "* Помним, что существуют различные кодировки текстовых файлов, например windows-1251, utf-8 и т.п.\n"
   ]
  },
  {
   "cell_type": "code",
   "execution_count": 1,
   "metadata": {},
   "outputs": [
    {
     "data": {
      "text/plain": [
       "'temp\\\\temp_file.txt'"
      ]
     },
     "execution_count": 1,
     "metadata": {},
     "output_type": "execute_result"
    }
   ],
   "source": [
    "import os\n",
    "# Временный каталог\n",
    "TEMP_DIR = \"temp\"\n",
    "\n",
    "if not os.path.exists(TEMP_DIR):\n",
    "    os.mkdir(TEMP_DIR)\n",
    "\n",
    "# Пример использования\n",
    "os.path.join(TEMP_DIR, \"temp_file.txt\")"
   ]
  },
  {
   "cell_type": "code",
   "execution_count": 2,
   "metadata": {},
   "outputs": [],
   "source": [
    "poem = \"\"\"Однажды, в студёную зимнюю пору,\n",
    "Я из лесу вышел; был сильный мороз.\n",
    "Гляжу, поднимается медленно в гору\n",
    "Лошадка, везущая хворосту воз.\n",
    "И, шествуя важно, в спокойствии чинном.\n",
    "Лошадку ведёт под уздцы мужичок\n",
    "В больших сапогах, в полушубке овчинном,\n",
    "В больших рукавицах… а сам с ноготок!\"\"\""
   ]
  },
  {
   "attachments": {},
   "cell_type": "markdown",
   "metadata": {},
   "source": [
    "## Запись в файл"
   ]
  },
  {
   "cell_type": "code",
   "execution_count": 4,
   "metadata": {},
   "outputs": [],
   "source": [
    "# Запись в файл через try-finally (классический вариант)\n",
    "f = open(os.path.join(TEMP_DIR, \"temp_TXT.txt\"), 'w')\n",
    "try:\n",
    "    f.write(\"Hello\")\n",
    "    f.write(\"QWERTY\")\n",
    "finally:\n",
    "    f.close()"
   ]
  },
  {
   "cell_type": "code",
   "execution_count": 5,
   "metadata": {},
   "outputs": [],
   "source": [
    "# Запись в файл через with-конструкцию\n",
    "with open(os.path.join(TEMP_DIR, \"temp_TXT.txt\"), 'w') as f:\n",
    "    f.write(\"QWE\\n\")\n",
    "    f.write(\"12345\\n\")"
   ]
  },
  {
   "cell_type": "code",
   "execution_count": 8,
   "metadata": {},
   "outputs": [],
   "source": [
    "with open(os.path.join(TEMP_DIR, \"temp_TXT_1.txt\"), 'w') as f:\n",
    "    lines = [f\"Line-{i}\" for i in range(100)]\n",
    "    f.write(\"\\n\".join(lines))"
   ]
  },
  {
   "cell_type": "code",
   "execution_count": 11,
   "metadata": {},
   "outputs": [],
   "source": [
    "with open(os.path.join(TEMP_DIR, \"temp_TXT_poem.txt\"), 'w') as f:\n",
    "    f.write(poem)"
   ]
  },
  {
   "cell_type": "code",
   "execution_count": 12,
   "metadata": {},
   "outputs": [],
   "source": [
    "with open(os.path.join(TEMP_DIR, \"temp_TXT_poem_utf8.txt\"), 'w', encoding=\"utf-8\") as f:\n",
    "    f.write(poem)"
   ]
  },
  {
   "attachments": {},
   "cell_type": "markdown",
   "metadata": {},
   "source": [
    "## Чтение из файла"
   ]
  },
  {
   "cell_type": "code",
   "execution_count": 14,
   "metadata": {},
   "outputs": [
    {
     "name": "stdout",
     "output_type": "stream",
     "text": [
      "QWE\n",
      "12345\n",
      "\n"
     ]
    }
   ],
   "source": [
    "with open(os.path.join(TEMP_DIR, \"temp_TXT.txt\")) as f:\n",
    "    print(f.read())"
   ]
  },
  {
   "cell_type": "code",
   "execution_count": 15,
   "metadata": {},
   "outputs": [
    {
     "name": "stdout",
     "output_type": "stream",
     "text": [
      "QWE\n",
      "\n",
      "12345\n",
      "\n"
     ]
    }
   ],
   "source": [
    "with open(os.path.join(TEMP_DIR, \"temp_TXT.txt\")) as f:\n",
    "    for line in f:\n",
    "        print(line)"
   ]
  },
  {
   "cell_type": "code",
   "execution_count": 20,
   "metadata": {},
   "outputs": [
    {
     "name": "stdout",
     "output_type": "stream",
     "text": [
      "0) line='QWE\\n'\n",
      "1) line='12345\\n'\n"
     ]
    }
   ],
   "source": [
    "with open(os.path.join(TEMP_DIR, \"temp_TXT.txt\")) as f:\n",
    "    for n, line in enumerate(f):\n",
    "        print(f\"{n}) {line=}\")"
   ]
  },
  {
   "cell_type": "code",
   "execution_count": 17,
   "metadata": {},
   "outputs": [
    {
     "name": "stdout",
     "output_type": "stream",
     "text": [
      "QWE\n",
      "\n"
     ]
    }
   ],
   "source": [
    "with open(os.path.join(TEMP_DIR, \"temp_TXT.txt\")) as f:\n",
    "    print(f.readline())"
   ]
  },
  {
   "cell_type": "code",
   "execution_count": 18,
   "metadata": {},
   "outputs": [
    {
     "name": "stdout",
     "output_type": "stream",
     "text": [
      "['QWE\\n', '12345\\n']\n"
     ]
    }
   ],
   "source": [
    "with open(os.path.join(TEMP_DIR, \"temp_TXT.txt\")) as f:\n",
    "    print(f.readlines())"
   ]
  },
  {
   "cell_type": "code",
   "execution_count": 22,
   "metadata": {},
   "outputs": [
    {
     "name": "stdout",
     "output_type": "stream",
     "text": [
      "Однажды, в студёную зимнюю пору,\n",
      "Я из лесу вышел; был сильный мороз.\n",
      "Гляжу, поднимается медленно в гору\n",
      "Лошадка, везущая хворосту воз.\n",
      "И, шествуя важно, в спокойствии чинном.\n",
      "Лошадку ведёт под уздцы мужичок\n",
      "В больших сапогах, в полушубке овчинном,\n",
      "В больших рукавицах… а сам с ноготок!"
     ]
    }
   ],
   "source": [
    "with open(os.path.join(TEMP_DIR, \"temp_TXT_poem.txt\")) as f:\n",
    "    for line in f:\n",
    "        print(line, end='')"
   ]
  },
  {
   "cell_type": "code",
   "execution_count": null,
   "metadata": {},
   "outputs": [],
   "source": [
    "with open(os.path.join(TEMP_DIR, \"temp_TXT_poem.txt\"), encoding=\"utf-8\") as f:\n",
    "    for line in f:\n",
    "        print(line, end='')"
   ]
  }
 ],
 "metadata": {
  "kernelspec": {
   "display_name": "Python 3",
   "language": "python",
   "name": "python3"
  },
  "language_info": {
   "codemirror_mode": {
    "name": "ipython",
    "version": 3
   },
   "file_extension": ".py",
   "mimetype": "text/x-python",
   "name": "python",
   "nbconvert_exporter": "python",
   "pygments_lexer": "ipython3",
   "version": "3.10.7"
  },
  "orig_nbformat": 4,
  "vscode": {
   "interpreter": {
    "hash": "943c6ee01c10f5cc3c57caccbb7ab83aef6e579cc7a0aa252d51d555fb6a6bce"
   }
  }
 },
 "nbformat": 4,
 "nbformat_minor": 2
}
