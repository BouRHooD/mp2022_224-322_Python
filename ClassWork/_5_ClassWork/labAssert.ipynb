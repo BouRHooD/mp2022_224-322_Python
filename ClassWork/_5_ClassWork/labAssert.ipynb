{
 "cells": [
  {
   "attachments": {},
   "cell_type": "markdown",
   "metadata": {},
   "source": [
    "# Утверждение (assert)"
   ]
  },
  {
   "cell_type": "code",
   "execution_count": 2,
   "metadata": {},
   "outputs": [
    {
     "ename": "AssertionError",
     "evalue": "Нельзя делить на ноль",
     "output_type": "error",
     "traceback": [
      "\u001b[1;31m---------------------------------------------------------------------------\u001b[0m",
      "\u001b[1;31mAssertionError\u001b[0m                            Traceback (most recent call last)",
      "Cell \u001b[1;32mIn[2], line 5\u001b[0m\n\u001b[0;32m      2\u001b[0m     \u001b[39massert\u001b[39;00m b \u001b[39m!=\u001b[39m \u001b[39m0\u001b[39m, \u001b[39m\"\u001b[39m\u001b[39mНельзя делить на ноль\u001b[39m\u001b[39m\"\u001b[39m\n\u001b[0;32m      3\u001b[0m     \u001b[39mreturn\u001b[39;00m a\u001b[39m/\u001b[39mb\n\u001b[1;32m----> 5\u001b[0m div_numbers(\u001b[39m1\u001b[39;49m, \u001b[39m0\u001b[39;49m)\n",
      "Cell \u001b[1;32mIn[2], line 2\u001b[0m, in \u001b[0;36mdiv_numbers\u001b[1;34m(a, b)\u001b[0m\n\u001b[0;32m      1\u001b[0m \u001b[39mdef\u001b[39;00m \u001b[39mdiv_numbers\u001b[39m(a,b):\n\u001b[1;32m----> 2\u001b[0m     \u001b[39massert\u001b[39;00m b \u001b[39m!=\u001b[39m \u001b[39m0\u001b[39m, \u001b[39m\"\u001b[39m\u001b[39mНельзя делить на ноль\u001b[39m\u001b[39m\"\u001b[39m\n\u001b[0;32m      3\u001b[0m     \u001b[39mreturn\u001b[39;00m a\u001b[39m/\u001b[39mb\n",
      "\u001b[1;31mAssertionError\u001b[0m: Нельзя делить на ноль"
     ]
    }
   ],
   "source": [
    "def div_numbers(a,b):\n",
    "    assert b != 0, \"Нельзя делить на ноль\"\n",
    "    return a/b\n",
    "\n",
    "div_numbers(1, 0)"
   ]
  },
  {
   "cell_type": "code",
   "execution_count": 9,
   "metadata": {},
   "outputs": [
    {
     "ename": "AssertionError",
     "evalue": "Параметр 'a' должен быть int/float",
     "output_type": "error",
     "traceback": [
      "\u001b[1;31m---------------------------------------------------------------------------\u001b[0m",
      "\u001b[1;31mAssertionError\u001b[0m                            Traceback (most recent call last)",
      "Cell \u001b[1;32mIn[9], line 7\u001b[0m\n\u001b[0;32m      4\u001b[0m     \u001b[39massert\u001b[39;00m \u001b[39mtype\u001b[39m(a) \u001b[39min\u001b[39;00m (\u001b[39mint\u001b[39m, \u001b[39mfloat\u001b[39m), \u001b[39m\"\u001b[39m\u001b[39mПараметр \u001b[39m\u001b[39m'\u001b[39m\u001b[39ma\u001b[39m\u001b[39m'\u001b[39m\u001b[39m должен быть int/float\u001b[39m\u001b[39m\"\u001b[39m\n\u001b[0;32m      5\u001b[0m     \u001b[39mreturn\u001b[39;00m a \u001b[39m+\u001b[39m b\n\u001b[1;32m----> 7\u001b[0m sum_numbers(\u001b[39m\"\u001b[39;49m\u001b[39m1\u001b[39;49m\u001b[39m\"\u001b[39;49m, \u001b[39m2\u001b[39;49m)\n",
      "Cell \u001b[1;32mIn[9], line 4\u001b[0m, in \u001b[0;36msum_numbers\u001b[1;34m(a, b)\u001b[0m\n\u001b[0;32m      1\u001b[0m \u001b[39mdef\u001b[39;00m \u001b[39msum_numbers\u001b[39m(a,b):\n\u001b[0;32m      2\u001b[0m     \u001b[39m#assert isinstance(a, int), \"Параметр 'a' должен быть int\"\u001b[39;00m\n\u001b[0;32m      3\u001b[0m     \u001b[39m#assert isinstance(a, int) or isinstance(a, float), \"Параметр 'a' должен быть int/float\"\u001b[39;00m\n\u001b[1;32m----> 4\u001b[0m     \u001b[39massert\u001b[39;00m \u001b[39mtype\u001b[39m(a) \u001b[39min\u001b[39;00m (\u001b[39mint\u001b[39m, \u001b[39mfloat\u001b[39m), \u001b[39m\"\u001b[39m\u001b[39mПараметр \u001b[39m\u001b[39m'\u001b[39m\u001b[39ma\u001b[39m\u001b[39m'\u001b[39m\u001b[39m должен быть int/float\u001b[39m\u001b[39m\"\u001b[39m\n\u001b[0;32m      5\u001b[0m     \u001b[39mreturn\u001b[39;00m a \u001b[39m+\u001b[39m b\n",
      "\u001b[1;31mAssertionError\u001b[0m: Параметр 'a' должен быть int/float"
     ]
    }
   ],
   "source": [
    "def sum_numbers(a,b):\n",
    "    #assert isinstance(a, int), \"Параметр 'a' должен быть int\"\n",
    "    #assert isinstance(a, int) or isinstance(a, float), \"Параметр 'a' должен быть int/float\"\n",
    "    assert type(a) in (int, float), \"Параметр 'a' должен быть int/float\"\n",
    "    return a + b\n",
    "\n",
    "sum_numbers(\"1\", 2)"
   ]
  },
  {
   "cell_type": "code",
   "execution_count": 11,
   "metadata": {},
   "outputs": [
    {
     "name": "stdout",
     "output_type": "stream",
     "text": [
      "<class 'bool'>\n",
      "True\n"
     ]
    }
   ],
   "source": [
    "print(type(True))\n",
    "print(isinstance(True, int))"
   ]
  }
 ],
 "metadata": {
  "kernelspec": {
   "display_name": "Python 3",
   "language": "python",
   "name": "python3"
  },
  "language_info": {
   "codemirror_mode": {
    "name": "ipython",
    "version": 3
   },
   "file_extension": ".py",
   "mimetype": "text/x-python",
   "name": "python",
   "nbconvert_exporter": "python",
   "pygments_lexer": "ipython3",
   "version": "3.10.7 (tags/v3.10.7:6cc6b13, Sep  5 2022, 14:08:36) [MSC v.1933 64 bit (AMD64)]"
  },
  "orig_nbformat": 4,
  "vscode": {
   "interpreter": {
    "hash": "943c6ee01c10f5cc3c57caccbb7ab83aef6e579cc7a0aa252d51d555fb6a6bce"
   }
  }
 },
 "nbformat": 4,
 "nbformat_minor": 2
}
