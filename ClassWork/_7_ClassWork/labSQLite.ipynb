{
 "cells": [
  {
   "attachments": {},
   "cell_type": "markdown",
   "metadata": {},
   "source": [
    "# Работа с БД SQLite"
   ]
  },
  {
   "cell_type": "code",
   "execution_count": 3,
   "metadata": {},
   "outputs": [],
   "source": [
    "import sqlite3\n",
    "from prettytable import from_db_cursor"
   ]
  },
  {
   "cell_type": "code",
   "execution_count": 4,
   "metadata": {},
   "outputs": [
    {
     "data": {
      "text/plain": [
       "'temp\\\\temp_SQLite.db'"
      ]
     },
     "execution_count": 4,
     "metadata": {},
     "output_type": "execute_result"
    }
   ],
   "source": [
    "import os\n",
    "\n",
    "# Временный каталог\n",
    "TEMP_DIR = \"temp\"\n",
    "\n",
    "if not os.path.exists(TEMP_DIR):\n",
    "    os.mkdir(TEMP_DIR)\n",
    "\n",
    "# Пример использования\n",
    "os.path.join(TEMP_DIR, \"temp_SQLite.db\")"
   ]
  },
  {
   "cell_type": "code",
   "execution_count": 5,
   "metadata": {},
   "outputs": [],
   "source": [
    "#db_name = os.path.join(TEMP_DIR, 'temp_SQLite.db')\n",
    "db_name = \":memory:\"\n",
    "\n",
    "if os.path.isfile(db_name):\n",
    "    os.remove(db_name)\n",
    "    print(f\"Файл [{db_name}] - удален\")"
   ]
  },
  {
   "cell_type": "code",
   "execution_count": 6,
   "metadata": {},
   "outputs": [],
   "source": [
    "db = sqlite3.connect(db_name)\n",
    "cur = db.cursor()"
   ]
  },
  {
   "cell_type": "code",
   "execution_count": 7,
   "metadata": {},
   "outputs": [],
   "source": [
    "#cur.execute(\"CREATE TABLE cities (name)\")\n",
    "#cur.execute(\"CREATE TABLE cities (name varchar(100))\")\n",
    "cur.execute(\"CREATE TABLE cities (id integer primary key AUTOINCREMENT NOT NULL, name varchar(100) unique)\")\n",
    "db.commit()"
   ]
  },
  {
   "cell_type": "code",
   "execution_count": 8,
   "metadata": {},
   "outputs": [
    {
     "data": {
      "text/html": [
       "<table>\n",
       "    <thead>\n",
       "        <tr>\n",
       "            <th>id</th>\n",
       "            <th>name</th>\n",
       "        </tr>\n",
       "    </thead>\n",
       "    <tbody>\n",
       "    </tbody>\n",
       "</table>"
      ],
      "text/plain": [
       "+----+------+\n",
       "| id | name |\n",
       "+----+------+\n",
       "+----+------+"
      ]
     },
     "execution_count": 8,
     "metadata": {},
     "output_type": "execute_result"
    }
   ],
   "source": [
    "cur.execute(\"SELECT * FROM cities\")\n",
    "from_db_cursor(cur)"
   ]
  },
  {
   "cell_type": "code",
   "execution_count": 9,
   "metadata": {},
   "outputs": [
    {
     "data": {
      "text/html": [
       "<table>\n",
       "    <thead>\n",
       "        <tr>\n",
       "            <th>cid</th>\n",
       "            <th>name</th>\n",
       "            <th>type</th>\n",
       "            <th>notnull</th>\n",
       "            <th>dflt_value</th>\n",
       "            <th>pk</th>\n",
       "        </tr>\n",
       "    </thead>\n",
       "    <tbody>\n",
       "        <tr>\n",
       "            <td>0</td>\n",
       "            <td>id</td>\n",
       "            <td>INTEGER</td>\n",
       "            <td>1</td>\n",
       "            <td>None</td>\n",
       "            <td>1</td>\n",
       "        </tr>\n",
       "        <tr>\n",
       "            <td>1</td>\n",
       "            <td>name</td>\n",
       "            <td>varchar(100)</td>\n",
       "            <td>0</td>\n",
       "            <td>None</td>\n",
       "            <td>0</td>\n",
       "        </tr>\n",
       "    </tbody>\n",
       "</table>"
      ],
      "text/plain": [
       "+-----+------+--------------+---------+------------+----+\n",
       "| cid | name |     type     | notnull | dflt_value | pk |\n",
       "+-----+------+--------------+---------+------------+----+\n",
       "|  0  |  id  |   INTEGER    |    1    |    None    | 1  |\n",
       "|  1  | name | varchar(100) |    0    |    None    | 0  |\n",
       "+-----+------+--------------+---------+------------+----+"
      ]
     },
     "execution_count": 9,
     "metadata": {},
     "output_type": "execute_result"
    }
   ],
   "source": [
    "cur.execute(\"PRAGMA table_info('cities')\")\n",
    "from_db_cursor(cur)"
   ]
  },
  {
   "cell_type": "code",
   "execution_count": 10,
   "metadata": {},
   "outputs": [
    {
     "name": "stdout",
     "output_type": "stream",
     "text": [
      "+-----+------+--------------+---------+------------+----+\n",
      "| cid | name |     type     | notnull | dflt_value | pk |\n",
      "+-----+------+--------------+---------+------------+----+\n",
      "|  0  |  id  |   INTEGER    |    1    |    None    | 1  |\n",
      "|  1  | name | varchar(100) |    0    |    None    | 0  |\n",
      "+-----+------+--------------+---------+------------+----+\n"
     ]
    }
   ],
   "source": [
    "cur.execute(\"PRAGMA table_info('cities')\")\n",
    "t = from_db_cursor(cur)\n",
    "print(t)"
   ]
  },
  {
   "cell_type": "code",
   "execution_count": 11,
   "metadata": {},
   "outputs": [
    {
     "data": {
      "text/plain": [
       "['Москва', 'Воронеж', 'Калуга', 'Тула']"
      ]
     },
     "execution_count": 11,
     "metadata": {},
     "output_type": "execute_result"
    }
   ],
   "source": [
    "cities = \"Москва, Воронеж, Калуга, Тула\".split(', ')\n",
    "cities"
   ]
  },
  {
   "cell_type": "code",
   "execution_count": 12,
   "metadata": {},
   "outputs": [
    {
     "data": {
      "text/plain": [
       "[('Москва',), ('Воронеж',), ('Калуга',), ('Тула',)]"
      ]
     },
     "execution_count": 12,
     "metadata": {},
     "output_type": "execute_result"
    }
   ],
   "source": [
    "cities_data = [(i,) for i in cities]\n",
    "cities_data"
   ]
  },
  {
   "cell_type": "code",
   "execution_count": 13,
   "metadata": {},
   "outputs": [
    {
     "data": {
      "text/plain": [
       "<sqlite3.Cursor at 0x1d7dc83c740>"
      ]
     },
     "execution_count": 13,
     "metadata": {},
     "output_type": "execute_result"
    }
   ],
   "source": [
    "cur.execute(\"INSERT INTO cities (name) VALUES ('Ялта')\")"
   ]
  },
  {
   "cell_type": "code",
   "execution_count": 14,
   "metadata": {},
   "outputs": [
    {
     "data": {
      "text/html": [
       "<table>\n",
       "    <thead>\n",
       "        <tr>\n",
       "            <th>id</th>\n",
       "            <th>name</th>\n",
       "        </tr>\n",
       "    </thead>\n",
       "    <tbody>\n",
       "        <tr>\n",
       "            <td>1</td>\n",
       "            <td>Ялта</td>\n",
       "        </tr>\n",
       "    </tbody>\n",
       "</table>"
      ],
      "text/plain": [
       "+----+------+\n",
       "| id | name |\n",
       "+----+------+\n",
       "| 1  | Ялта |\n",
       "+----+------+"
      ]
     },
     "execution_count": 14,
     "metadata": {},
     "output_type": "execute_result"
    }
   ],
   "source": [
    "cur.execute(\"SELECT * FROM cities\")\n",
    "from_db_cursor(cur)"
   ]
  },
  {
   "cell_type": "code",
   "execution_count": 15,
   "metadata": {},
   "outputs": [
    {
     "data": {
      "text/html": [
       "<table>\n",
       "    <thead>\n",
       "        <tr>\n",
       "            <th>id</th>\n",
       "            <th>name</th>\n",
       "        </tr>\n",
       "    </thead>\n",
       "    <tbody>\n",
       "        <tr>\n",
       "            <td>1</td>\n",
       "            <td>Ялта</td>\n",
       "        </tr>\n",
       "        <tr>\n",
       "            <td>2</td>\n",
       "            <td>Москва</td>\n",
       "        </tr>\n",
       "        <tr>\n",
       "            <td>3</td>\n",
       "            <td>Воронеж</td>\n",
       "        </tr>\n",
       "        <tr>\n",
       "            <td>4</td>\n",
       "            <td>Калуга</td>\n",
       "        </tr>\n",
       "        <tr>\n",
       "            <td>5</td>\n",
       "            <td>Тула</td>\n",
       "        </tr>\n",
       "    </tbody>\n",
       "</table>"
      ],
      "text/plain": [
       "+----+---------+\n",
       "| id |   name  |\n",
       "+----+---------+\n",
       "| 1  |   Ялта  |\n",
       "| 2  |  Москва |\n",
       "| 3  | Воронеж |\n",
       "| 4  |  Калуга |\n",
       "| 5  |   Тула  |\n",
       "+----+---------+"
      ]
     },
     "execution_count": 15,
     "metadata": {},
     "output_type": "execute_result"
    }
   ],
   "source": [
    "cur.executemany(\"INSERT INTO cities (name) VALUES (?)\", [(i,) for i in cities])\n",
    "\n",
    "cur.execute(\"SELECT * FROM cities\")\n",
    "from_db_cursor(cur)"
   ]
  },
  {
   "cell_type": "code",
   "execution_count": 16,
   "metadata": {},
   "outputs": [
    {
     "name": "stdout",
     "output_type": "stream",
     "text": [
      "(1, 'Ялта') (2, 'Москва') (3, 'Воронеж') (4, 'Калуга') (5, 'Тула')\n"
     ]
    }
   ],
   "source": [
    "cur.execute(\"SELECT * FROM cities\")\n",
    "print(*cur)"
   ]
  },
  {
   "cell_type": "code",
   "execution_count": 17,
   "metadata": {},
   "outputs": [
    {
     "name": "stdout",
     "output_type": "stream",
     "text": [
      "(1, 'Ялта')\n",
      "(2, 'Москва')\n",
      "(3, 'Воронеж')\n",
      "(4, 'Калуга')\n",
      "(5, 'Тула')\n"
     ]
    }
   ],
   "source": [
    "for line in cur.execute(\"SELECT * FROM cities\"):\n",
    "    print(line)"
   ]
  },
  {
   "cell_type": "code",
   "execution_count": 18,
   "metadata": {},
   "outputs": [
    {
     "data": {
      "text/html": [
       "<table>\n",
       "    <thead>\n",
       "        <tr>\n",
       "            <th>id</th>\n",
       "            <th>name</th>\n",
       "        </tr>\n",
       "    </thead>\n",
       "    <tbody>\n",
       "        <tr>\n",
       "            <td>1</td>\n",
       "            <td>Ялта</td>\n",
       "        </tr>\n",
       "        <tr>\n",
       "            <td>2</td>\n",
       "            <td>Москва</td>\n",
       "        </tr>\n",
       "        <tr>\n",
       "            <td>3</td>\n",
       "            <td>Воронеж</td>\n",
       "        </tr>\n",
       "        <tr>\n",
       "            <td>4</td>\n",
       "            <td>Калуга</td>\n",
       "        </tr>\n",
       "        <tr>\n",
       "            <td>5</td>\n",
       "            <td>Тула</td>\n",
       "        </tr>\n",
       "        <tr>\n",
       "            <td>6</td>\n",
       "            <td>Belgrade</td>\n",
       "        </tr>\n",
       "    </tbody>\n",
       "</table>"
      ],
      "text/plain": [
       "+----+----------+\n",
       "| id |   name   |\n",
       "+----+----------+\n",
       "| 1  |   Ялта   |\n",
       "| 2  |  Москва  |\n",
       "| 3  | Воронеж  |\n",
       "| 4  |  Калуга  |\n",
       "| 5  |   Тула   |\n",
       "| 6  | Belgrade |\n",
       "+----+----------+"
      ]
     },
     "execution_count": 18,
     "metadata": {},
     "output_type": "execute_result"
    }
   ],
   "source": [
    "# стиль именованный - использование одного или нескольких \":<название>\"\n",
    "sql = \"INSERT INTO cities (name) VALUES (:city)\"\n",
    "\n",
    "cur.execute(sql, {\"city\": \"Belgrade\"})\n",
    "\n",
    "cur.execute(\"SELECT * FROM cities\")\n",
    "from_db_cursor(cur)"
   ]
  },
  {
   "cell_type": "code",
   "execution_count": 19,
   "metadata": {},
   "outputs": [
    {
     "data": {
      "text/html": [
       "<table>\n",
       "    <thead>\n",
       "        <tr>\n",
       "            <th>id</th>\n",
       "            <th>name</th>\n",
       "        </tr>\n",
       "    </thead>\n",
       "    <tbody>\n",
       "        <tr>\n",
       "            <td>1</td>\n",
       "            <td>Ялта</td>\n",
       "        </tr>\n",
       "        <tr>\n",
       "            <td>2</td>\n",
       "            <td>Москва</td>\n",
       "        </tr>\n",
       "        <tr>\n",
       "            <td>3</td>\n",
       "            <td>Воронеж</td>\n",
       "        </tr>\n",
       "        <tr>\n",
       "            <td>4</td>\n",
       "            <td>Калуга</td>\n",
       "        </tr>\n",
       "        <tr>\n",
       "            <td>5</td>\n",
       "            <td>Тула</td>\n",
       "        </tr>\n",
       "    </tbody>\n",
       "</table>"
      ],
      "text/plain": [
       "+----+---------+\n",
       "| id |   name  |\n",
       "+----+---------+\n",
       "| 1  |   Ялта  |\n",
       "| 2  |  Москва |\n",
       "| 3  | Воронеж |\n",
       "| 4  |  Калуга |\n",
       "| 5  |   Тула  |\n",
       "+----+---------+"
      ]
     },
     "execution_count": 19,
     "metadata": {},
     "output_type": "execute_result"
    }
   ],
   "source": [
    "sql = \"DELETE FROM cities WHERE id = ?\"\n",
    "\n",
    "cur.execute(sql, [6])\n",
    "\n",
    "from_db_cursor(cur.execute(\"SELECT * FROM cities\"))"
   ]
  },
  {
   "cell_type": "code",
   "execution_count": 20,
   "metadata": {},
   "outputs": [
    {
     "data": {
      "text/html": [
       "<table>\n",
       "    <thead>\n",
       "        <tr>\n",
       "            <th>id</th>\n",
       "            <th>name</th>\n",
       "        </tr>\n",
       "    </thead>\n",
       "    <tbody>\n",
       "        <tr>\n",
       "            <td>1</td>\n",
       "            <td>r. Ялта</td>\n",
       "        </tr>\n",
       "        <tr>\n",
       "            <td>2</td>\n",
       "            <td>Москва</td>\n",
       "        </tr>\n",
       "        <tr>\n",
       "            <td>3</td>\n",
       "            <td>Воронеж</td>\n",
       "        </tr>\n",
       "        <tr>\n",
       "            <td>4</td>\n",
       "            <td>Калуга</td>\n",
       "        </tr>\n",
       "        <tr>\n",
       "            <td>5</td>\n",
       "            <td>Тула</td>\n",
       "        </tr>\n",
       "    </tbody>\n",
       "</table>"
      ],
      "text/plain": [
       "+----+---------+\n",
       "| id |   name  |\n",
       "+----+---------+\n",
       "| 1  | r. Ялта |\n",
       "| 2  |  Москва |\n",
       "| 3  | Воронеж |\n",
       "| 4  |  Калуга |\n",
       "| 5  |   Тула  |\n",
       "+----+---------+"
      ]
     },
     "execution_count": 20,
     "metadata": {},
     "output_type": "execute_result"
    }
   ],
   "source": [
    "sql = \"\"\"\n",
    "UPDATE cities\n",
    "SET name = 'r. ' || name \n",
    "WHERE id = 1\n",
    "    AND name NOT LIKE 'r. %'\n",
    "\"\"\"\n",
    "cur.execute(sql)\n",
    "\n",
    "from_db_cursor(cur.execute(\"SELECT * FROM cities\"))"
   ]
  },
  {
   "attachments": {},
   "cell_type": "markdown",
   "metadata": {},
   "source": [
    "## Извлечь данные из курсора"
   ]
  },
  {
   "cell_type": "code",
   "execution_count": 24,
   "metadata": {},
   "outputs": [
    {
     "name": "stdout",
     "output_type": "stream",
     "text": [
      "[(1, 'r. Ялта'), (2, 'Москва'), (3, 'Воронеж'), (4, 'Калуга'), (5, 'Тула')]\n",
      "(1, 'r. Ялта')\n",
      "[(1, 'r. Ялта'), (2, 'Москва'), (3, 'Воронеж')]\n",
      "[(1, 'r. Ялта'), (3, 'Воронеж'), (5, 'Тула')]\n"
     ]
    }
   ],
   "source": [
    "cur.execute(\"SELECT * FROM cities\")\n",
    "t = cur.fetchall()\n",
    "print(t)\n",
    "print(t[0])\n",
    "print(t[:3])\n",
    "print(t[::2])"
   ]
  },
  {
   "cell_type": "code",
   "execution_count": 25,
   "metadata": {},
   "outputs": [
    {
     "data": {
      "text/plain": [
       "(('id', None, None, None, None, None, None),\n",
       " ('name', None, None, None, None, None, None))"
      ]
     },
     "execution_count": 25,
     "metadata": {},
     "output_type": "execute_result"
    }
   ],
   "source": [
    "cur.description"
   ]
  },
  {
   "cell_type": "code",
   "execution_count": 27,
   "metadata": {},
   "outputs": [
    {
     "data": {
      "text/plain": [
       "[(0, 'id', 'INTEGER', 1, None, 1), (1, 'name', 'varchar(100)', 0, None, 0)]"
      ]
     },
     "execution_count": 27,
     "metadata": {},
     "output_type": "execute_result"
    }
   ],
   "source": [
    "cur.execute(\"PRAGMA table_info(`cities`)\")\n",
    "cur.fetchall()"
   ]
  },
  {
   "cell_type": "code",
   "execution_count": 29,
   "metadata": {},
   "outputs": [
    {
     "data": {
      "text/html": [
       "<table>\n",
       "    <thead>\n",
       "        <tr>\n",
       "            <th>cid</th>\n",
       "            <th>name</th>\n",
       "            <th>type</th>\n",
       "            <th>notnull</th>\n",
       "            <th>dflt_value</th>\n",
       "            <th>pk</th>\n",
       "        </tr>\n",
       "    </thead>\n",
       "    <tbody>\n",
       "        <tr>\n",
       "            <td>0</td>\n",
       "            <td>id</td>\n",
       "            <td>INTEGER</td>\n",
       "            <td>1</td>\n",
       "            <td>None</td>\n",
       "            <td>1</td>\n",
       "        </tr>\n",
       "        <tr>\n",
       "            <td>1</td>\n",
       "            <td>name</td>\n",
       "            <td>varchar(100)</td>\n",
       "            <td>0</td>\n",
       "            <td>None</td>\n",
       "            <td>0</td>\n",
       "        </tr>\n",
       "    </tbody>\n",
       "</table>"
      ],
      "text/plain": [
       "+-----+------+--------------+---------+------------+----+\n",
       "| cid | name |     type     | notnull | dflt_value | pk |\n",
       "+-----+------+--------------+---------+------------+----+\n",
       "|  0  |  id  |   INTEGER    |    1    |    None    | 1  |\n",
       "|  1  | name | varchar(100) |    0    |    None    | 0  |\n",
       "+-----+------+--------------+---------+------------+----+"
      ]
     },
     "execution_count": 29,
     "metadata": {},
     "output_type": "execute_result"
    }
   ],
   "source": [
    "cur.execute(\"PRAGMA table_info(`cities`)\")\n",
    "from_db_cursor(cur)"
   ]
  },
  {
   "cell_type": "code",
   "execution_count": 30,
   "metadata": {},
   "outputs": [
    {
     "data": {
      "text/plain": [
       "(1, 'r. Ялта')"
      ]
     },
     "execution_count": 30,
     "metadata": {},
     "output_type": "execute_result"
    }
   ],
   "source": [
    "cur.execute(\"SELECT * FROM cities\").fetchone()"
   ]
  },
  {
   "cell_type": "code",
   "execution_count": 31,
   "metadata": {},
   "outputs": [
    {
     "data": {
      "text/plain": [
       "[(1, 'r. Ялта'), (2, 'Москва'), (3, 'Воронеж'), (4, 'Калуга'), (5, 'Тула')]"
      ]
     },
     "execution_count": 31,
     "metadata": {},
     "output_type": "execute_result"
    }
   ],
   "source": [
    "cur.execute(\"SELECT * FROM cities\").fetchmany(size=5)"
   ]
  },
  {
   "cell_type": "code",
   "execution_count": 34,
   "metadata": {},
   "outputs": [
    {
     "data": {
      "text/plain": [
       "[(1, 'r. Ялта'), (2, 'Москва'), (3, 'Воронеж'), (4, 'Калуга'), (5, 'Тула')]"
      ]
     },
     "execution_count": 34,
     "metadata": {},
     "output_type": "execute_result"
    }
   ],
   "source": [
    "cur.execute(\"SELECT * FROM cities\").fetchall()[0:5]"
   ]
  },
  {
   "attachments": {},
   "cell_type": "markdown",
   "metadata": {},
   "source": [
    "## Работа с Join в БД SQLite\n",
    "\n",
    "![](https://i.pinimg.com/originals/aa/ae/30/aaae30a99650820cb0802f9baf8f7d52.png)"
   ]
  },
  {
   "cell_type": "code",
   "execution_count": 21,
   "metadata": {},
   "outputs": [
    {
     "data": {
      "text/plain": [
       "<function Connection.close()>"
      ]
     },
     "execution_count": 21,
     "metadata": {},
     "output_type": "execute_result"
    }
   ],
   "source": [
    "db.close"
   ]
  }
 ],
 "metadata": {
  "kernelspec": {
   "display_name": "Python 3",
   "language": "python",
   "name": "python3"
  },
  "language_info": {
   "codemirror_mode": {
    "name": "ipython",
    "version": 3
   },
   "file_extension": ".py",
   "mimetype": "text/x-python",
   "name": "python",
   "nbconvert_exporter": "python",
   "pygments_lexer": "ipython3",
   "version": "3.10.7"
  },
  "orig_nbformat": 4,
  "vscode": {
   "interpreter": {
    "hash": "943c6ee01c10f5cc3c57caccbb7ab83aef6e579cc7a0aa252d51d555fb6a6bce"
   }
  }
 },
 "nbformat": 4,
 "nbformat_minor": 2
}
