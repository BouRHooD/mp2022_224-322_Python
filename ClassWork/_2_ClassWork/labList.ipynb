{
 "cells": [
  {
   "attachments": {},
   "cell_type": "markdown",
   "metadata": {},
   "source": [
    "# Список (list)\n",
    "\n",
    "Список (list) - упорядоченная изменяемая структура данных, для хранения любых объектов (str, int, float, object)\n",
    "\n",
    "- Список это не массив\n",
    "- Список - [...]\n",
    "- list[start:stop:step]"
   ]
  },
  {
   "attachments": {},
   "cell_type": "markdown",
   "metadata": {},
   "source": [
    "## Создать список"
   ]
  },
  {
   "cell_type": "code",
   "execution_count": 2,
   "metadata": {},
   "outputs": [
    {
     "data": {
      "text/plain": [
       "[1, 2, 'Привет', 3.14]"
      ]
     },
     "execution_count": 2,
     "metadata": {},
     "output_type": "execute_result"
    }
   ],
   "source": [
    "v = [1, 2, \"Привет\", 3.14]\n",
    "v"
   ]
  },
  {
   "cell_type": "code",
   "execution_count": 4,
   "metadata": {},
   "outputs": [
    {
     "name": "stdout",
     "output_type": "stream",
     "text": [
      "<class 'list'>\n",
      "<class 'int'>\n"
     ]
    }
   ],
   "source": [
    "print(type(v))\n",
    "print(type(123))"
   ]
  },
  {
   "cell_type": "code",
   "execution_count": 5,
   "metadata": {},
   "outputs": [
    {
     "data": {
      "text/plain": [
       "['q', 'w', 'e', 'r', 't', 'y']"
      ]
     },
     "execution_count": 5,
     "metadata": {},
     "output_type": "execute_result"
    }
   ],
   "source": [
    "v = list(\"qwerty\")\n",
    "v"
   ]
  },
  {
   "cell_type": "code",
   "execution_count": 9,
   "metadata": {},
   "outputs": [
    {
     "data": {
      "text/plain": [
       "[0, 1, 2, 3, 4, 5, 6, 7, 8, 9]"
      ]
     },
     "execution_count": 9,
     "metadata": {},
     "output_type": "execute_result"
    }
   ],
   "source": [
    "list(range(10))"
   ]
  },
  {
   "cell_type": "code",
   "execution_count": 10,
   "metadata": {},
   "outputs": [
    {
     "name": "stdout",
     "output_type": "stream",
     "text": [
      "<class 'str'>\n",
      "Минск, Гомель, Москва\n",
      "<class 'list'>\n",
      "['Минск', 'Гомель', 'Москва']\n"
     ]
    }
   ],
   "source": [
    "# Создать список из строки по разделителю\n",
    "cities_str = \"Минск, Гомель, Москва\"\n",
    "print(type(cities_str))\n",
    "print(cities_str)\n",
    "\n",
    "cities_list = cities_str.split(\", \")\n",
    "print(type(cities_list))\n",
    "print(cities_list)"
   ]
  },
  {
   "cell_type": "code",
   "execution_count": 11,
   "metadata": {},
   "outputs": [
    {
     "data": {
      "text/plain": [
       "'Минск, Гомель, Москва'"
      ]
     },
     "execution_count": 11,
     "metadata": {},
     "output_type": "execute_result"
    }
   ],
   "source": [
    "# Создать строку из списка по разделителю\n",
    "st = ', '.join(cities_list)\n",
    "st"
   ]
  },
  {
   "attachments": {},
   "cell_type": "markdown",
   "metadata": {},
   "source": [
    "## Проверить вхождение элементов в список"
   ]
  },
  {
   "cell_type": "code",
   "execution_count": 12,
   "metadata": {},
   "outputs": [
    {
     "name": "stdout",
     "output_type": "stream",
     "text": [
      "[0, 1, 2, 3, 4]\n",
      "True\n",
      "False\n",
      "True\n"
     ]
    }
   ],
   "source": [
    "v = list(range(5))\n",
    "print(v)\n",
    "print(4 in v)\n",
    "print(5 in v)\n",
    "print(5 not in v)"
   ]
  },
  {
   "attachments": {},
   "cell_type": "markdown",
   "metadata": {},
   "source": [
    "## Получить элементы списка"
   ]
  },
  {
   "cell_type": "code",
   "execution_count": 13,
   "metadata": {},
   "outputs": [
    {
     "data": {
      "text/plain": [
       "['Москва', 'Воронеж', 'Тула', 'Курск']"
      ]
     },
     "execution_count": 13,
     "metadata": {},
     "output_type": "execute_result"
    }
   ],
   "source": [
    "cities = [\"Москва\", \"Воронеж\", \"Тула\", \"Курск\"]\n",
    "cities"
   ]
  },
  {
   "cell_type": "code",
   "execution_count": 14,
   "metadata": {},
   "outputs": [
    {
     "name": "stdout",
     "output_type": "stream",
     "text": [
      "Москва\n",
      "Воронеж\n",
      "Курск\n",
      "Курск\n"
     ]
    }
   ],
   "source": [
    "print(cities[0])\n",
    "print(cities[1])\n",
    "print(cities[-1])\n",
    "print(cities[-1])"
   ]
  },
  {
   "attachments": {},
   "cell_type": "markdown",
   "metadata": {},
   "source": [
    "## Итерировать список"
   ]
  },
  {
   "cell_type": "code",
   "execution_count": 15,
   "metadata": {},
   "outputs": [
    {
     "name": "stdout",
     "output_type": "stream",
     "text": [
      "Москва\n",
      "Воронеж\n",
      "Тула\n",
      "Курск\n"
     ]
    }
   ],
   "source": [
    "for city in cities:\n",
    "    print(city)"
   ]
  },
  {
   "cell_type": "code",
   "execution_count": 17,
   "metadata": {},
   "outputs": [
    {
     "name": "stdout",
     "output_type": "stream",
     "text": [
      "Город: Москва\n",
      "Город: Воронеж\n",
      "Город: Тула\n",
      "Город: Курск\n"
     ]
    }
   ],
   "source": [
    "for city in cities:\n",
    "    print(f\"Город: {city}\")"
   ]
  },
  {
   "cell_type": "code",
   "execution_count": 20,
   "metadata": {},
   "outputs": [
    {
     "name": "stdout",
     "output_type": "stream",
     "text": [
      "Город: (0, 'Москва')\n",
      "Город: (1, 'Воронеж')\n",
      "Город: (2, 'Тула')\n",
      "Город: (3, 'Курск')\n",
      "Город №0: Москва\n",
      "Город №1: Воронеж\n",
      "Город №2: Тула\n",
      "Город №3: Курск\n"
     ]
    }
   ],
   "source": [
    "for city in enumerate(cities):\n",
    "    print(f\"Город: {city}\")\n",
    "\n",
    "for index, city in enumerate(cities):\n",
    "    print(f\"Город №{index}: {city}\")"
   ]
  },
  {
   "cell_type": "code",
   "execution_count": 21,
   "metadata": {},
   "outputs": [
    {
     "name": "stdout",
     "output_type": "stream",
     "text": [
      "Город №1: Москва\n",
      "Город №2: Воронеж\n",
      "Город №3: Тула\n",
      "Город №4: Курск\n"
     ]
    }
   ],
   "source": [
    "for index, city in enumerate(cities):\n",
    "    print(f\"Город №{index + 1}: {city}\")"
   ]
  },
  {
   "cell_type": "code",
   "execution_count": 22,
   "metadata": {},
   "outputs": [
    {
     "name": "stdout",
     "output_type": "stream",
     "text": [
      "Город №1: Москва\n",
      "Город №2: Воронеж\n",
      "Город №3: Тула\n",
      "Город №4: Курск\n"
     ]
    }
   ],
   "source": [
    "for index, city in enumerate(cities, start=1):\n",
    "    print(f\"Город №{index}: {city}\")"
   ]
  },
  {
   "attachments": {},
   "cell_type": "markdown",
   "metadata": {},
   "source": [
    "## Срезы"
   ]
  },
  {
   "cell_type": "code",
   "execution_count": 24,
   "metadata": {},
   "outputs": [
    {
     "name": "stdout",
     "output_type": "stream",
     "text": [
      "[10, 11, 12, 13, 14, 15, 16, 17, 18, 19]\n",
      "[10, 11]\n",
      "[10, 12, 14, 16, 18]\n",
      "[19, 18, 17, 16, 15, 14, 13, 12, 11, 10]\n"
     ]
    }
   ],
   "source": [
    "# list[start:stop]\n",
    "# list[start:stop:step]\n",
    "numbers = list(range(10, 20))\n",
    "print(numbers)\n",
    "print(numbers[0:2])\n",
    "print(numbers[::2])\n",
    "print(numbers[::-1])"
   ]
  },
  {
   "cell_type": "code",
   "execution_count": 26,
   "metadata": {},
   "outputs": [
    {
     "name": "stdout",
     "output_type": "stream",
     "text": [
      "[10, 11, 12, 13, 14, 15, 16, 17, 18, 19]\n",
      "[10, -1, 12]\n"
     ]
    }
   ],
   "source": [
    "# Проверяем создается новый список в b или идет ссылка на a\n",
    "a = list(range(10, 20))\n",
    "b = a[:3]\n",
    "b[1] = -1\n",
    "print(a)\n",
    "print(b)\n",
    "# Итог: создается новый объект b и в него копируются данные из a\n",
    "# Вывод: т.е. срезы в списках создают копию данных\n"
   ]
  },
  {
   "attachments": {},
   "cell_type": "markdown",
   "metadata": {},
   "source": [
    "## Изменить список"
   ]
  },
  {
   "cell_type": "code",
   "execution_count": 29,
   "metadata": {},
   "outputs": [
    {
     "name": "stdout",
     "output_type": "stream",
     "text": [
      "['Москва', 'Тверь', 'Воронеж', 'Курск']\n",
      "['Москва', 'Тверь', 'Воронеж', 'Курск', 'Владивосток']\n"
     ]
    }
   ],
   "source": [
    "cities = \"Москва, Тверь, Воронеж, Курск\".split(', ')\n",
    "print(cities)\n",
    "\n",
    "cities.append(\"Владивосток\")\n",
    "print(cities)"
   ]
  }
 ],
 "metadata": {
  "kernelspec": {
   "display_name": "Python 3",
   "language": "python",
   "name": "python3"
  },
  "language_info": {
   "codemirror_mode": {
    "name": "ipython",
    "version": 3
   },
   "file_extension": ".py",
   "mimetype": "text/x-python",
   "name": "python",
   "nbconvert_exporter": "python",
   "pygments_lexer": "ipython3",
   "version": "3.10.7"
  },
  "orig_nbformat": 4,
  "vscode": {
   "interpreter": {
    "hash": "943c6ee01c10f5cc3c57caccbb7ab83aef6e579cc7a0aa252d51d555fb6a6bce"
   }
  }
 },
 "nbformat": 4,
 "nbformat_minor": 2
}
