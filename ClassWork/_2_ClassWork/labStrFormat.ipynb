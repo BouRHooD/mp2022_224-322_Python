{
 "cells": [
  {
   "attachments": {},
   "cell_type": "markdown",
   "metadata": {},
   "source": [
    "# Формирование строк\n",
    "\n",
    "* Конкатенация строк\n",
    "* Строковые методы format\n",
    "* %-форматирования\n",
    "* f-строки\n",
    "* Template-строки"
   ]
  },
  {
   "attachments": {},
   "cell_type": "markdown",
   "metadata": {},
   "source": [
    "## Конкатенация строк"
   ]
  },
  {
   "cell_type": "code",
   "execution_count": 3,
   "metadata": {},
   "outputs": [
    {
     "name": "stdout",
     "output_type": "stream",
     "text": [
      "Привет, меня зовут Владислав. Мне 22 года.\n"
     ]
    }
   ],
   "source": [
    "print(\"Привет, меня зовут \" + \"Владислав. \" + \"Мне \" + str(22) + \" года.\")"
   ]
  },
  {
   "attachments": {},
   "cell_type": "markdown",
   "metadata": {},
   "source": [
    "## Строковый мотод format"
   ]
  },
  {
   "cell_type": "code",
   "execution_count": 9,
   "metadata": {},
   "outputs": [
    {
     "name": "stdout",
     "output_type": "stream",
     "text": [
      "Привет, Наташа!\n",
      "Привет, меня зовут Владислав. Мне 19 года.\n",
      "Привет, меня зовут Владислав, Владислав. Мне 19 года.\n",
      "pi = 3.14\n",
      "pi = 3.14\n",
      "буквы: e, w, q\n"
     ]
    }
   ],
   "source": [
    "print(\"Привет, {}!\".format(\"Наташа\"))\n",
    "print(\"Привет, меня зовут {}. Мне {} года.\".format(\"Владислав\", 19))\n",
    "print(\"Привет, меня зовут {0}, {0}. Мне {1} года.\".format(\"Владислав\", 19))\n",
    "print(\"{} = {}\".format(\"pi\", 3.14))\n",
    "print(\"{var} = {value}\".format(var=\"pi\", value=3.14))\n",
    "print(\"буквы: {2}, {1}, {0}\".format(*\"qwerty\"))"
   ]
  },
  {
   "cell_type": "code",
   "execution_count": 10,
   "metadata": {},
   "outputs": [
    {
     "name": "stdout",
     "output_type": "stream",
     "text": [
      "q w e r t y\n"
     ]
    }
   ],
   "source": [
    "print(*\"qwerty\")"
   ]
  },
  {
   "attachments": {},
   "cell_type": "markdown",
   "metadata": {},
   "source": [
    "## % - форматирования\n",
    "\n",
    "Синтаксис: %[(флаг)][ширина][.точность]тип\n",
    "\n",
    "* %d, %i, %u - десятичное число\n",
    "* %f - число с плавабщей точкой\n",
    "* %s - строки"
   ]
  },
  {
   "cell_type": "code",
   "execution_count": 15,
   "metadata": {},
   "outputs": [
    {
     "name": "stdout",
     "output_type": "stream",
     "text": [
      "col_12345\n",
      "Автобус № 35\n",
      "   25\n",
      "25   \n",
      "pi = 3.141500\n",
      "pi = 3.1415\n",
      "pi = 3.142\n"
     ]
    }
   ],
   "source": [
    "print(\"col_%d\" % 12345)\n",
    "print(\"%s № %d\" % (\"Автобус\", 35))\n",
    "\n",
    "# Ширина (выравнивание)\n",
    "print(\"%5d\" % 25)\n",
    "print(\"%-5d\" % 25)\n",
    "\n",
    "# Точность (математ. округление)\n",
    "print(\"pi = %f\" % 3.1415)\n",
    "print(\"pi = %.4f\" % 3.1415)\n",
    "print(\"pi = %.3f\" % 3.1415)\n"
   ]
  },
  {
   "attachments": {},
   "cell_type": "markdown",
   "metadata": {},
   "source": [
    "## f - строки (интерпалированные строки) (форматированные строчные литералы)"
   ]
  },
  {
   "cell_type": "code",
   "execution_count": 17,
   "metadata": {},
   "outputs": [
    {
     "name": "stdout",
     "output_type": "stream",
     "text": [
      "Я - Владислав!\n",
      "5\n",
      "5\n"
     ]
    }
   ],
   "source": [
    "name = \"Владислав\"\n",
    "print(f\"Я - {name}!\")\n",
    "\n",
    "a = 5; b = 3\n",
    "print(f\"{(a if a > b else b)}\")\n",
    "\n",
    "a = 3; b = 5\n",
    "print(f\"{(a if a > b else b)}\")\n"
   ]
  },
  {
   "attachments": {},
   "cell_type": "markdown",
   "metadata": {},
   "source": [
    "## f - строки совместимы с Mini-Language"
   ]
  },
  {
   "cell_type": "code",
   "execution_count": 23,
   "metadata": {},
   "outputs": [
    {
     "name": "stdout",
     "output_type": "stream",
     "text": [
      "Привет\n",
      "       Привет       \n",
      "Привет              \n",
      "              Привет\n",
      "_______Привет_______\n",
      "Привет______________\n",
      "______________Привет\n"
     ]
    }
   ],
   "source": [
    "# Выравнивание\n",
    "print(f\"{'Привет'}\")\n",
    "print(f\"{'Привет':^20}\") # Выравние по центру из строки 20 символов\n",
    "print(f\"{'Привет':<20}\") # Выравние по левой стороне из строки 20 символов\n",
    "print(f\"{'Привет':>20}\") # Выравние по правой стороне из строки 20 символов\n",
    "print(f\"{'Привет':_^20}\") \n",
    "print(f\"{'Привет':_<20}\") \n",
    "print(f\"{'Привет':_>20}\") "
   ]
  },
  {
   "cell_type": "code",
   "execution_count": 26,
   "metadata": {},
   "outputs": [
    {
     "name": "stdout",
     "output_type": "stream",
     "text": [
      "Двоичная система счисления\n",
      "11111111\n",
      "0b11111111\n",
      "Шестнадцеричная система счисления\n",
      "ff\n",
      "0xff\n",
      "Восьмеричная система счисления\n",
      "377\n",
      "0o377\n"
     ]
    }
   ],
   "source": [
    "# Двоичная система счисления\n",
    "print(f\"Двоичная система счисления\")\n",
    "print(f\"{255:b}\")\n",
    "print(f\"{255:#b}\")\n",
    "# Шестнадцеричная система счисления\n",
    "print(f\"Шестнадцеричная система счисления\")\n",
    "print(f\"{255:x}\")\n",
    "print(f\"{255:#x}\")\n",
    "# Восьмеричная система счисления\n",
    "print(f\"Восьмеричная система счисления\")\n",
    "print(f\"{255:o}\")\n",
    "print(f\"{255:#o}\")"
   ]
  },
  {
   "cell_type": "code",
   "execution_count": 29,
   "metadata": {},
   "outputs": [
    {
     "name": "stdout",
     "output_type": "stream",
     "text": [
      "00255\n",
      "00255\n",
      "__255\n",
      "123_456_789\n",
      "1_234_567\n"
     ]
    }
   ],
   "source": [
    "# Ведущие нули\n",
    "print(f\"{255:05}\")\n",
    "print(f\"{255:0=5}\")\n",
    "print(f\"{255:_=5}\")\n",
    "# Тысячный разделитель\n",
    "print(f\"{123456789:_}\")\n",
    "print(f\"{1234567:_}\")"
   ]
  },
  {
   "attachments": {},
   "cell_type": "markdown",
   "metadata": {},
   "source": [
    "##  Template - строки (в PHP стиле)"
   ]
  },
  {
   "cell_type": "code",
   "execution_count": 30,
   "metadata": {},
   "outputs": [
    {
     "name": "stdout",
     "output_type": "stream",
     "text": [
      "Меня зовут Сергей. Мне 19 лет.\n"
     ]
    }
   ],
   "source": [
    "from string import Template\n",
    "\n",
    "_name = \"Сергей\"\n",
    "_age = 19\n",
    "_v = Template(\"Меня зовут $name. Мне $age лет.\")\n",
    "print(_v.substitute(name=_name, age=_age))"
   ]
  },
  {
   "attachments": {},
   "cell_type": "markdown",
   "metadata": {},
   "source": [
    "##  HW:\n",
    "\n",
    " - Придумать свои примеры \n",
    " - Разобраться с Mini-Language"
   ]
  }
 ],
 "metadata": {
  "kernelspec": {
   "display_name": "Python 3",
   "language": "python",
   "name": "python3"
  },
  "language_info": {
   "codemirror_mode": {
    "name": "ipython",
    "version": 3
   },
   "file_extension": ".py",
   "mimetype": "text/x-python",
   "name": "python",
   "nbconvert_exporter": "python",
   "pygments_lexer": "ipython3",
   "version": "3.10.7 (tags/v3.10.7:6cc6b13, Sep  5 2022, 14:08:36) [MSC v.1933 64 bit (AMD64)]"
  },
  "orig_nbformat": 4,
  "vscode": {
   "interpreter": {
    "hash": "943c6ee01c10f5cc3c57caccbb7ab83aef6e579cc7a0aa252d51d555fb6a6bce"
   }
  }
 },
 "nbformat": 4,
 "nbformat_minor": 2
}
