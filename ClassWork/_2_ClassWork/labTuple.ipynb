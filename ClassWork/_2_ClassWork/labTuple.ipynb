{
 "cells": [
  {
   "attachments": {},
   "cell_type": "markdown",
   "metadata": {},
   "source": [
    "# Кортеж (tuple)\n",
    "\n",
    "Кортеж (tuple) - упорядоченный неизменяемый список\n",
    "* (...)\n",
    "* ...\n",
    "* tuple(...)\n",
    "\n",
    "Зачем нужные кортежи в Python?\n",
    "* Обезопасить данные от случайного редактирования.\n",
    "* Экономия места в ОЗУ.\n",
    "* Приросто производительности.\n",
    "* Кортеж можно использовать в качестве ключа у словаря."
   ]
  },
  {
   "attachments": {},
   "cell_type": "markdown",
   "metadata": {},
   "source": [
    "## Создать кортеж"
   ]
  },
  {
   "cell_type": "code",
   "execution_count": 1,
   "metadata": {},
   "outputs": [
    {
     "data": {
      "text/plain": [
       "tuple"
      ]
     },
     "execution_count": 1,
     "metadata": {},
     "output_type": "execute_result"
    }
   ],
   "source": [
    "v = (1, 2, 3, 4, 5)\n",
    "type(v)"
   ]
  },
  {
   "cell_type": "code",
   "execution_count": 2,
   "metadata": {},
   "outputs": [
    {
     "data": {
      "text/plain": [
       "tuple"
      ]
     },
     "execution_count": 2,
     "metadata": {},
     "output_type": "execute_result"
    }
   ],
   "source": [
    "v = 1, 2, 3, 4, 5\n",
    "type(v)"
   ]
  },
  {
   "cell_type": "code",
   "execution_count": 3,
   "metadata": {},
   "outputs": [
    {
     "data": {
      "text/plain": [
       "(1, 2, 3, 4, 5)"
      ]
     },
     "execution_count": 3,
     "metadata": {},
     "output_type": "execute_result"
    }
   ],
   "source": [
    "v = tuple([1, 2, 3, 4, 5])\n",
    "v"
   ]
  },
  {
   "cell_type": "code",
   "execution_count": 4,
   "metadata": {},
   "outputs": [
    {
     "data": {
      "text/plain": [
       "(1, 2, 3, 4, 5)"
      ]
     },
     "execution_count": 4,
     "metadata": {},
     "output_type": "execute_result"
    }
   ],
   "source": [
    "v = tuple((1, 2, 3, 4, 5))\n",
    "v"
   ]
  },
  {
   "cell_type": "code",
   "execution_count": 5,
   "metadata": {},
   "outputs": [
    {
     "data": {
      "text/plain": [
       "(0, 1, 2, 3, 4)"
      ]
     },
     "execution_count": 5,
     "metadata": {},
     "output_type": "execute_result"
    }
   ],
   "source": [
    "v = tuple(range(5))\n",
    "v"
   ]
  },
  {
   "cell_type": "code",
   "execution_count": 7,
   "metadata": {},
   "outputs": [
    {
     "name": "stdout",
     "output_type": "stream",
     "text": [
      "1\n",
      "<class 'int'>\n",
      "(1,)\n",
      "<class 'tuple'>\n"
     ]
    }
   ],
   "source": [
    "# Помним, что если кортеж состоит из 1 элемента, то в конце добавить запятую\n",
    "v = 1\n",
    "print(v)\n",
    "print(type(v))\n",
    "\n",
    "v = 1,\n",
    "print(v)\n",
    "print(type(v))"
   ]
  },
  {
   "attachments": {},
   "cell_type": "markdown",
   "metadata": {},
   "source": [
    "## Получить элементы кортежа"
   ]
  },
  {
   "cell_type": "code",
   "execution_count": 8,
   "metadata": {},
   "outputs": [
    {
     "data": {
      "text/plain": [
       "(1, 2, 3, 4, 5)"
      ]
     },
     "execution_count": 8,
     "metadata": {},
     "output_type": "execute_result"
    }
   ],
   "source": [
    "params = tuple(range(1, 6))\n",
    "params"
   ]
  },
  {
   "cell_type": "code",
   "execution_count": 9,
   "metadata": {},
   "outputs": [
    {
     "name": "stdout",
     "output_type": "stream",
     "text": [
      "1\n",
      "(2, 3)\n"
     ]
    }
   ],
   "source": [
    "# По индексу\n",
    "print(params[0])\n",
    "# Срезы\n",
    "print(params[1:3])"
   ]
  },
  {
   "cell_type": "code",
   "execution_count": 18,
   "metadata": {},
   "outputs": [
    {
     "name": "stdout",
     "output_type": "stream",
     "text": [
      "1\n",
      "2\n",
      "[3, 4, 5]\n",
      "----------\n",
      "[1, 2, 3, 4]\n",
      "5\n",
      "----------\n",
      "(1, 2, 3, 4, 5)\n",
      "1 2 3 4 5\n"
     ]
    }
   ],
   "source": [
    "a, b, c, d, f = params\n",
    "a, b, *rest = params\n",
    "\n",
    "print(a)\n",
    "print(b)\n",
    "print(rest)\n",
    "print(\"-\"*10)\n",
    "\n",
    "*rest, f = params\n",
    "print(rest)\n",
    "print(f)\n",
    "print(\"-\"*10)\n",
    "\n",
    "print(params)\n",
    "print(*params)\n"
   ]
  },
  {
   "attachments": {},
   "cell_type": "markdown",
   "metadata": {},
   "source": [
    "## Преобразование список в кортеж и обратно"
   ]
  },
  {
   "cell_type": "code",
   "execution_count": 21,
   "metadata": {},
   "outputs": [
    {
     "name": "stdout",
     "output_type": "stream",
     "text": [
      "[1, 2, 3] - <class 'list'>\n",
      "(1, 2, 3) - <class 'tuple'>\n",
      "[1, 2, 3] - <class 'list'>\n"
     ]
    }
   ],
   "source": [
    "a = [1, 2, 3]\n",
    "b = tuple(a)\n",
    "c = list(b)\n",
    "print(f\"{a} - {type(a)}\")\n",
    "print(f\"{b} - {type(b)}\")\n",
    "print(f\"{c} - {type(c)}\")"
   ]
  },
  {
   "cell_type": "code",
   "execution_count": 22,
   "metadata": {},
   "outputs": [
    {
     "name": "stdout",
     "output_type": "stream",
     "text": [
      "[(2, 3), (1, 4), (3, 5)]\n"
     ]
    }
   ],
   "source": [
    "points = [(2, 3), (1, 4), (3, 5)]\n",
    "print(points)"
   ]
  },
  {
   "cell_type": "code",
   "execution_count": 23,
   "metadata": {},
   "outputs": [
    {
     "name": "stdout",
     "output_type": "stream",
     "text": [
      "(2, 3)\n",
      "(1, 4)\n",
      "(3, 5)\n"
     ]
    }
   ],
   "source": [
    "# (1)\n",
    "for point in points:\n",
    "    print(point)"
   ]
  },
  {
   "cell_type": "code",
   "execution_count": 24,
   "metadata": {},
   "outputs": [
    {
     "name": "stdout",
     "output_type": "stream",
     "text": [
      "x=2, y=3\n",
      "x=1, y=4\n",
      "x=3, y=5\n"
     ]
    }
   ],
   "source": [
    "# (1)\n",
    "for point in points:\n",
    "    x, y = point\n",
    "    print(f\"{x=}, {y=}\")"
   ]
  }
 ],
 "metadata": {
  "kernelspec": {
   "display_name": "Python 3",
   "language": "python",
   "name": "python3"
  },
  "language_info": {
   "codemirror_mode": {
    "name": "ipython",
    "version": 3
   },
   "file_extension": ".py",
   "mimetype": "text/x-python",
   "name": "python",
   "nbconvert_exporter": "python",
   "pygments_lexer": "ipython3",
   "version": "3.10.7"
  },
  "orig_nbformat": 4,
  "vscode": {
   "interpreter": {
    "hash": "943c6ee01c10f5cc3c57caccbb7ab83aef6e579cc7a0aa252d51d555fb6a6bce"
   }
  }
 },
 "nbformat": 4,
 "nbformat_minor": 2
}
