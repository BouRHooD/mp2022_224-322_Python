{
 "cells": [
  {
   "attachments": {},
   "cell_type": "markdown",
   "metadata": {},
   "source": [
    "# Переопределение видимости переменных внутри тела функции"
   ]
  },
  {
   "cell_type": "code",
   "execution_count": 6,
   "metadata": {},
   "outputs": [
    {
     "name": "stdout",
     "output_type": "stream",
     "text": [
      "x=1, y=10, z=30\n"
     ]
    }
   ],
   "source": [
    "x = 1\n",
    "y = 1\n",
    "\n",
    "def func():\n",
    "    global y # обращение к глобальной переменной\n",
    "    global z # объявление глобальной переменной внутри функции\n",
    "    x = 10\n",
    "    y = 10\n",
    "    z = 30\n",
    "\n",
    "func()\n",
    "print(f\"{x=}, {y=}, {z=}\")"
   ]
  },
  {
   "cell_type": "code",
   "execution_count": 11,
   "metadata": {},
   "outputs": [
    {
     "name": "stdout",
     "output_type": "stream",
     "text": [
      "in: x=111, y=222, z=333\n",
      "out: x=11, y=22, z=333\n",
      "global: x=1, y=222, z=3\n"
     ]
    }
   ],
   "source": [
    "x = 1\n",
    "y = 2\n",
    "z = 3\n",
    "\n",
    "def func_outer(): # внешний\n",
    "    x = 11\n",
    "    y = 22\n",
    "    z = 33\n",
    "    def func_inner():\n",
    "        global y\n",
    "        nonlocal z\n",
    "        x = 111\n",
    "        y = 222\n",
    "        z = 333\n",
    "        print(f\"in: {x=}, {y=}, {z=}\")\n",
    "    func_inner()\n",
    "    print(f\"out: {x=}, {y=}, {z=}\")\n",
    "\n",
    "\n",
    "func_outer()\n",
    "print(f\"global: {x=}, {y=}, {z=}\")"
   ]
  },
  {
   "cell_type": "code",
   "execution_count": 12,
   "metadata": {},
   "outputs": [
    {
     "data": {
      "text/plain": [
       "{'__name__': '__main__',\n",
       " '__doc__': 'Automatically created module for IPython interactive environment',\n",
       " '__package__': None,\n",
       " '__loader__': None,\n",
       " '__spec__': None,\n",
       " '__builtin__': <module 'builtins' (built-in)>,\n",
       " '__builtins__': <module 'builtins' (built-in)>,\n",
       " '_ih': ['',\n",
       "  'x = 1\\ny = 1\\n\\ndef func():\\n    x = 10\\n    y = 10\\n\\nfunc()\\nprint(f\"{x=}, {y=}\")',\n",
       "  'x = 1\\ny = 1\\n\\ndef func():\\n    x = 10\\n    global y # обращение к глобальной переменной\\n    y = 10\\n\\nfunc()\\nprint(f\"{x=}, {y=}\")',\n",
       "  'x = 1\\ny = 1\\n\\ndef func():\\n    global y # обращение к глобальной переменной\\n    x = 10\\n    y = 10\\n    z = 30\\n\\nfunc()\\nprint(f\"{x=}, {y=}, {z=}\")',\n",
       "  'x = 1\\ny = 1\\n\\ndef func():\\n    global y # обращение к глобальной переменной\\n    x = 10\\n    y = 10\\n    global z # обращение к глобальной переменной внутри функции\\n    z = 30\\n\\nfunc()\\nprint(f\"{x=}, {y=}, {z=}\")',\n",
       "  'x = 1\\ny = 1\\n\\ndef func():\\n    global y # обращение к глобальной переменной\\n    x = 10\\n    y = 10\\n    global z # объявление глобальной переменной внутри функции\\n    z = 30\\n\\nfunc()\\nprint(f\"{x=}, {y=}, {z=}\")',\n",
       "  'x = 1\\ny = 1\\n\\ndef func():\\n    global y # обращение к глобальной переменной\\n    global z # объявление глобальной переменной внутри функции\\n    x = 10\\n    y = 10\\n    z = 30\\n\\nfunc()\\nprint(f\"{x=}, {y=}, {z=}\")',\n",
       "  'x = 1\\ny = 2\\nz = 3\\n\\ndef func_outer(): # внешний\\n    x = 11\\n    y = 22\\n    z = 33\\n\\nfunc_outer()\\nprint(f\"global {x=}, {y=}, {z=}\")',\n",
       "  'x = 1\\ny = 2\\nz = 3\\n\\ndef func_outer(): # внешний\\n    x = 11\\n    y = 22\\n    z = 33\\n\\nfunc_outer()\\nprint(f\"global: {x=}, {y=}, {z=}\")',\n",
       "  'x = 1\\ny = 2\\nz = 3\\n\\ndef func_outer(): # внешний\\n    x = 11\\n    y = 22\\n    z = 33\\n    def func_inner():\\n        x = 111\\n        y = 222\\n        z = 333\\n        print(f\"in: {x=}, {y=}, {z=}\")\\n    func_inner()\\n    print(f\"out: {x=}, {y=}, {z=}\")\\n\\n\\nfunc_outer()\\nprint(f\"global: {x=}, {y=}, {z=}\")',\n",
       "  'x = 1\\ny = 2\\nz = 3\\n\\ndef func_outer(): # внешний\\n    x = 11\\n    y = 22\\n    z = 33\\n    def func_inner():\\n        global y\\n        x = 111\\n        y = 222\\n        z = 333\\n        print(f\"in: {x=}, {y=}, {z=}\")\\n    func_inner()\\n    print(f\"out: {x=}, {y=}, {z=}\")\\n\\n\\nfunc_outer()\\nprint(f\"global: {x=}, {y=}, {z=}\")',\n",
       "  'x = 1\\ny = 2\\nz = 3\\n\\ndef func_outer(): # внешний\\n    x = 11\\n    y = 22\\n    z = 33\\n    def func_inner():\\n        global y\\n        nonlocal z\\n        x = 111\\n        y = 222\\n        z = 333\\n        print(f\"in: {x=}, {y=}, {z=}\")\\n    func_inner()\\n    print(f\"out: {x=}, {y=}, {z=}\")\\n\\n\\nfunc_outer()\\nprint(f\"global: {x=}, {y=}, {z=}\")',\n",
       "  'globals()'],\n",
       " '_oh': {},\n",
       " '_dh': [WindowsPath('d:/_All/BouRHooD/_University/Магистратура/1 семестр/Современнные технологии программирования/mp2022_224-321_Python/mp2022_224-322_Python/ClassWork/_4_ClassWork'),\n",
       "  WindowsPath('d:/_All/BouRHooD/_University/Магистратура/1 семестр/Современнные технологии программирования/mp2022_224-321_Python/mp2022_224-322_Python/ClassWork/_4_ClassWork')],\n",
       " 'In': ['',\n",
       "  'x = 1\\ny = 1\\n\\ndef func():\\n    x = 10\\n    y = 10\\n\\nfunc()\\nprint(f\"{x=}, {y=}\")',\n",
       "  'x = 1\\ny = 1\\n\\ndef func():\\n    x = 10\\n    global y # обращение к глобальной переменной\\n    y = 10\\n\\nfunc()\\nprint(f\"{x=}, {y=}\")',\n",
       "  'x = 1\\ny = 1\\n\\ndef func():\\n    global y # обращение к глобальной переменной\\n    x = 10\\n    y = 10\\n    z = 30\\n\\nfunc()\\nprint(f\"{x=}, {y=}, {z=}\")',\n",
       "  'x = 1\\ny = 1\\n\\ndef func():\\n    global y # обращение к глобальной переменной\\n    x = 10\\n    y = 10\\n    global z # обращение к глобальной переменной внутри функции\\n    z = 30\\n\\nfunc()\\nprint(f\"{x=}, {y=}, {z=}\")',\n",
       "  'x = 1\\ny = 1\\n\\ndef func():\\n    global y # обращение к глобальной переменной\\n    x = 10\\n    y = 10\\n    global z # объявление глобальной переменной внутри функции\\n    z = 30\\n\\nfunc()\\nprint(f\"{x=}, {y=}, {z=}\")',\n",
       "  'x = 1\\ny = 1\\n\\ndef func():\\n    global y # обращение к глобальной переменной\\n    global z # объявление глобальной переменной внутри функции\\n    x = 10\\n    y = 10\\n    z = 30\\n\\nfunc()\\nprint(f\"{x=}, {y=}, {z=}\")',\n",
       "  'x = 1\\ny = 2\\nz = 3\\n\\ndef func_outer(): # внешний\\n    x = 11\\n    y = 22\\n    z = 33\\n\\nfunc_outer()\\nprint(f\"global {x=}, {y=}, {z=}\")',\n",
       "  'x = 1\\ny = 2\\nz = 3\\n\\ndef func_outer(): # внешний\\n    x = 11\\n    y = 22\\n    z = 33\\n\\nfunc_outer()\\nprint(f\"global: {x=}, {y=}, {z=}\")',\n",
       "  'x = 1\\ny = 2\\nz = 3\\n\\ndef func_outer(): # внешний\\n    x = 11\\n    y = 22\\n    z = 33\\n    def func_inner():\\n        x = 111\\n        y = 222\\n        z = 333\\n        print(f\"in: {x=}, {y=}, {z=}\")\\n    func_inner()\\n    print(f\"out: {x=}, {y=}, {z=}\")\\n\\n\\nfunc_outer()\\nprint(f\"global: {x=}, {y=}, {z=}\")',\n",
       "  'x = 1\\ny = 2\\nz = 3\\n\\ndef func_outer(): # внешний\\n    x = 11\\n    y = 22\\n    z = 33\\n    def func_inner():\\n        global y\\n        x = 111\\n        y = 222\\n        z = 333\\n        print(f\"in: {x=}, {y=}, {z=}\")\\n    func_inner()\\n    print(f\"out: {x=}, {y=}, {z=}\")\\n\\n\\nfunc_outer()\\nprint(f\"global: {x=}, {y=}, {z=}\")',\n",
       "  'x = 1\\ny = 2\\nz = 3\\n\\ndef func_outer(): # внешний\\n    x = 11\\n    y = 22\\n    z = 33\\n    def func_inner():\\n        global y\\n        nonlocal z\\n        x = 111\\n        y = 222\\n        z = 333\\n        print(f\"in: {x=}, {y=}, {z=}\")\\n    func_inner()\\n    print(f\"out: {x=}, {y=}, {z=}\")\\n\\n\\nfunc_outer()\\nprint(f\"global: {x=}, {y=}, {z=}\")',\n",
       "  'globals()'],\n",
       " 'Out': {},\n",
       " 'get_ipython': <bound method InteractiveShell.get_ipython of <ipykernel.zmqshell.ZMQInteractiveShell object at 0x0000026CAB550220>>,\n",
       " 'exit': <IPython.core.autocall.ZMQExitAutocall at 0x26cab551750>,\n",
       " 'quit': <IPython.core.autocall.ZMQExitAutocall at 0x26cab551750>,\n",
       " 'open': <function io.open(file, mode='r', buffering=-1, encoding=None, errors=None, newline=None, closefd=True, opener=None)>,\n",
       " '_': '',\n",
       " '__': '',\n",
       " '___': '',\n",
       " 'os': <module 'os' from 'c:\\\\Users\\\\Surflay\\\\AppData\\\\Local\\\\Programs\\\\Python\\\\Python310\\\\lib\\\\os.py'>,\n",
       " 'sys': <module 'sys' (built-in)>,\n",
       " '__vsc_ipynb_file__': 'd:\\\\_All\\\\BouRHooD\\\\_University\\\\Магистратура\\\\1 семестр\\\\Современнные технологии программирования\\\\mp2022_224-321_Python\\\\mp2022_224-322_Python\\\\ClassWork\\\\_4_ClassWork\\\\labFuncVariables.ipynb',\n",
       " '_i': 'x = 1\\ny = 2\\nz = 3\\n\\ndef func_outer(): # внешний\\n    x = 11\\n    y = 22\\n    z = 33\\n    def func_inner():\\n        global y\\n        nonlocal z\\n        x = 111\\n        y = 222\\n        z = 333\\n        print(f\"in: {x=}, {y=}, {z=}\")\\n    func_inner()\\n    print(f\"out: {x=}, {y=}, {z=}\")\\n\\n\\nfunc_outer()\\nprint(f\"global: {x=}, {y=}, {z=}\")',\n",
       " '_ii': 'x = 1\\ny = 2\\nz = 3\\n\\ndef func_outer(): # внешний\\n    x = 11\\n    y = 22\\n    z = 33\\n    def func_inner():\\n        global y\\n        x = 111\\n        y = 222\\n        z = 333\\n        print(f\"in: {x=}, {y=}, {z=}\")\\n    func_inner()\\n    print(f\"out: {x=}, {y=}, {z=}\")\\n\\n\\nfunc_outer()\\nprint(f\"global: {x=}, {y=}, {z=}\")',\n",
       " '_iii': 'x = 1\\ny = 2\\nz = 3\\n\\ndef func_outer(): # внешний\\n    x = 11\\n    y = 22\\n    z = 33\\n    def func_inner():\\n        x = 111\\n        y = 222\\n        z = 333\\n        print(f\"in: {x=}, {y=}, {z=}\")\\n    func_inner()\\n    print(f\"out: {x=}, {y=}, {z=}\")\\n\\n\\nfunc_outer()\\nprint(f\"global: {x=}, {y=}, {z=}\")',\n",
       " '_i1': 'x = 1\\ny = 1\\n\\ndef func():\\n    x = 10\\n    y = 10\\n\\nfunc()\\nprint(f\"{x=}, {y=}\")',\n",
       " 'x': 1,\n",
       " 'y': 222,\n",
       " 'func': <function __main__.func()>,\n",
       " '_i2': 'x = 1\\ny = 1\\n\\ndef func():\\n    x = 10\\n    global y # обращение к глобальной переменной\\n    y = 10\\n\\nfunc()\\nprint(f\"{x=}, {y=}\")',\n",
       " '_i3': 'x = 1\\ny = 1\\n\\ndef func():\\n    global y # обращение к глобальной переменной\\n    x = 10\\n    y = 10\\n    z = 30\\n\\nfunc()\\nprint(f\"{x=}, {y=}, {z=}\")',\n",
       " '_i4': 'x = 1\\ny = 1\\n\\ndef func():\\n    global y # обращение к глобальной переменной\\n    x = 10\\n    y = 10\\n    global z # обращение к глобальной переменной внутри функции\\n    z = 30\\n\\nfunc()\\nprint(f\"{x=}, {y=}, {z=}\")',\n",
       " 'z': 3,\n",
       " '_i5': 'x = 1\\ny = 1\\n\\ndef func():\\n    global y # обращение к глобальной переменной\\n    x = 10\\n    y = 10\\n    global z # объявление глобальной переменной внутри функции\\n    z = 30\\n\\nfunc()\\nprint(f\"{x=}, {y=}, {z=}\")',\n",
       " '_i6': 'x = 1\\ny = 1\\n\\ndef func():\\n    global y # обращение к глобальной переменной\\n    global z # объявление глобальной переменной внутри функции\\n    x = 10\\n    y = 10\\n    z = 30\\n\\nfunc()\\nprint(f\"{x=}, {y=}, {z=}\")',\n",
       " '_i7': 'x = 1\\ny = 2\\nz = 3\\n\\ndef func_outer(): # внешний\\n    x = 11\\n    y = 22\\n    z = 33\\n\\nfunc_outer()\\nprint(f\"global {x=}, {y=}, {z=}\")',\n",
       " 'func_outer': <function __main__.func_outer()>,\n",
       " '_i8': 'x = 1\\ny = 2\\nz = 3\\n\\ndef func_outer(): # внешний\\n    x = 11\\n    y = 22\\n    z = 33\\n\\nfunc_outer()\\nprint(f\"global: {x=}, {y=}, {z=}\")',\n",
       " '_i9': 'x = 1\\ny = 2\\nz = 3\\n\\ndef func_outer(): # внешний\\n    x = 11\\n    y = 22\\n    z = 33\\n    def func_inner():\\n        x = 111\\n        y = 222\\n        z = 333\\n        print(f\"in: {x=}, {y=}, {z=}\")\\n    func_inner()\\n    print(f\"out: {x=}, {y=}, {z=}\")\\n\\n\\nfunc_outer()\\nprint(f\"global: {x=}, {y=}, {z=}\")',\n",
       " '_i10': 'x = 1\\ny = 2\\nz = 3\\n\\ndef func_outer(): # внешний\\n    x = 11\\n    y = 22\\n    z = 33\\n    def func_inner():\\n        global y\\n        x = 111\\n        y = 222\\n        z = 333\\n        print(f\"in: {x=}, {y=}, {z=}\")\\n    func_inner()\\n    print(f\"out: {x=}, {y=}, {z=}\")\\n\\n\\nfunc_outer()\\nprint(f\"global: {x=}, {y=}, {z=}\")',\n",
       " '_i11': 'x = 1\\ny = 2\\nz = 3\\n\\ndef func_outer(): # внешний\\n    x = 11\\n    y = 22\\n    z = 33\\n    def func_inner():\\n        global y\\n        nonlocal z\\n        x = 111\\n        y = 222\\n        z = 333\\n        print(f\"in: {x=}, {y=}, {z=}\")\\n    func_inner()\\n    print(f\"out: {x=}, {y=}, {z=}\")\\n\\n\\nfunc_outer()\\nprint(f\"global: {x=}, {y=}, {z=}\")',\n",
       " '_i12': 'globals()'}"
      ]
     },
     "execution_count": 12,
     "metadata": {},
     "output_type": "execute_result"
    }
   ],
   "source": [
    "globals()"
   ]
  },
  {
   "cell_type": "code",
   "execution_count": 13,
   "metadata": {},
   "outputs": [
    {
     "data": {
      "text/plain": [
       "{'__name__': '__main__',\n",
       " '__doc__': 'Automatically created module for IPython interactive environment',\n",
       " '__package__': None,\n",
       " '__loader__': None,\n",
       " '__spec__': None,\n",
       " '__builtin__': <module 'builtins' (built-in)>,\n",
       " '__builtins__': <module 'builtins' (built-in)>,\n",
       " '_ih': ['',\n",
       "  'x = 1\\ny = 1\\n\\ndef func():\\n    x = 10\\n    y = 10\\n\\nfunc()\\nprint(f\"{x=}, {y=}\")',\n",
       "  'x = 1\\ny = 1\\n\\ndef func():\\n    x = 10\\n    global y # обращение к глобальной переменной\\n    y = 10\\n\\nfunc()\\nprint(f\"{x=}, {y=}\")',\n",
       "  'x = 1\\ny = 1\\n\\ndef func():\\n    global y # обращение к глобальной переменной\\n    x = 10\\n    y = 10\\n    z = 30\\n\\nfunc()\\nprint(f\"{x=}, {y=}, {z=}\")',\n",
       "  'x = 1\\ny = 1\\n\\ndef func():\\n    global y # обращение к глобальной переменной\\n    x = 10\\n    y = 10\\n    global z # обращение к глобальной переменной внутри функции\\n    z = 30\\n\\nfunc()\\nprint(f\"{x=}, {y=}, {z=}\")',\n",
       "  'x = 1\\ny = 1\\n\\ndef func():\\n    global y # обращение к глобальной переменной\\n    x = 10\\n    y = 10\\n    global z # объявление глобальной переменной внутри функции\\n    z = 30\\n\\nfunc()\\nprint(f\"{x=}, {y=}, {z=}\")',\n",
       "  'x = 1\\ny = 1\\n\\ndef func():\\n    global y # обращение к глобальной переменной\\n    global z # объявление глобальной переменной внутри функции\\n    x = 10\\n    y = 10\\n    z = 30\\n\\nfunc()\\nprint(f\"{x=}, {y=}, {z=}\")',\n",
       "  'x = 1\\ny = 2\\nz = 3\\n\\ndef func_outer(): # внешний\\n    x = 11\\n    y = 22\\n    z = 33\\n\\nfunc_outer()\\nprint(f\"global {x=}, {y=}, {z=}\")',\n",
       "  'x = 1\\ny = 2\\nz = 3\\n\\ndef func_outer(): # внешний\\n    x = 11\\n    y = 22\\n    z = 33\\n\\nfunc_outer()\\nprint(f\"global: {x=}, {y=}, {z=}\")',\n",
       "  'x = 1\\ny = 2\\nz = 3\\n\\ndef func_outer(): # внешний\\n    x = 11\\n    y = 22\\n    z = 33\\n    def func_inner():\\n        x = 111\\n        y = 222\\n        z = 333\\n        print(f\"in: {x=}, {y=}, {z=}\")\\n    func_inner()\\n    print(f\"out: {x=}, {y=}, {z=}\")\\n\\n\\nfunc_outer()\\nprint(f\"global: {x=}, {y=}, {z=}\")',\n",
       "  'x = 1\\ny = 2\\nz = 3\\n\\ndef func_outer(): # внешний\\n    x = 11\\n    y = 22\\n    z = 33\\n    def func_inner():\\n        global y\\n        x = 111\\n        y = 222\\n        z = 333\\n        print(f\"in: {x=}, {y=}, {z=}\")\\n    func_inner()\\n    print(f\"out: {x=}, {y=}, {z=}\")\\n\\n\\nfunc_outer()\\nprint(f\"global: {x=}, {y=}, {z=}\")',\n",
       "  'x = 1\\ny = 2\\nz = 3\\n\\ndef func_outer(): # внешний\\n    x = 11\\n    y = 22\\n    z = 33\\n    def func_inner():\\n        global y\\n        nonlocal z\\n        x = 111\\n        y = 222\\n        z = 333\\n        print(f\"in: {x=}, {y=}, {z=}\")\\n    func_inner()\\n    print(f\"out: {x=}, {y=}, {z=}\")\\n\\n\\nfunc_outer()\\nprint(f\"global: {x=}, {y=}, {z=}\")',\n",
       "  'globals()',\n",
       "  'locals()'],\n",
       " '_oh': {12: {...}},\n",
       " '_dh': [WindowsPath('d:/_All/BouRHooD/_University/Магистратура/1 семестр/Современнные технологии программирования/mp2022_224-321_Python/mp2022_224-322_Python/ClassWork/_4_ClassWork'),\n",
       "  WindowsPath('d:/_All/BouRHooD/_University/Магистратура/1 семестр/Современнные технологии программирования/mp2022_224-321_Python/mp2022_224-322_Python/ClassWork/_4_ClassWork')],\n",
       " 'In': ['',\n",
       "  'x = 1\\ny = 1\\n\\ndef func():\\n    x = 10\\n    y = 10\\n\\nfunc()\\nprint(f\"{x=}, {y=}\")',\n",
       "  'x = 1\\ny = 1\\n\\ndef func():\\n    x = 10\\n    global y # обращение к глобальной переменной\\n    y = 10\\n\\nfunc()\\nprint(f\"{x=}, {y=}\")',\n",
       "  'x = 1\\ny = 1\\n\\ndef func():\\n    global y # обращение к глобальной переменной\\n    x = 10\\n    y = 10\\n    z = 30\\n\\nfunc()\\nprint(f\"{x=}, {y=}, {z=}\")',\n",
       "  'x = 1\\ny = 1\\n\\ndef func():\\n    global y # обращение к глобальной переменной\\n    x = 10\\n    y = 10\\n    global z # обращение к глобальной переменной внутри функции\\n    z = 30\\n\\nfunc()\\nprint(f\"{x=}, {y=}, {z=}\")',\n",
       "  'x = 1\\ny = 1\\n\\ndef func():\\n    global y # обращение к глобальной переменной\\n    x = 10\\n    y = 10\\n    global z # объявление глобальной переменной внутри функции\\n    z = 30\\n\\nfunc()\\nprint(f\"{x=}, {y=}, {z=}\")',\n",
       "  'x = 1\\ny = 1\\n\\ndef func():\\n    global y # обращение к глобальной переменной\\n    global z # объявление глобальной переменной внутри функции\\n    x = 10\\n    y = 10\\n    z = 30\\n\\nfunc()\\nprint(f\"{x=}, {y=}, {z=}\")',\n",
       "  'x = 1\\ny = 2\\nz = 3\\n\\ndef func_outer(): # внешний\\n    x = 11\\n    y = 22\\n    z = 33\\n\\nfunc_outer()\\nprint(f\"global {x=}, {y=}, {z=}\")',\n",
       "  'x = 1\\ny = 2\\nz = 3\\n\\ndef func_outer(): # внешний\\n    x = 11\\n    y = 22\\n    z = 33\\n\\nfunc_outer()\\nprint(f\"global: {x=}, {y=}, {z=}\")',\n",
       "  'x = 1\\ny = 2\\nz = 3\\n\\ndef func_outer(): # внешний\\n    x = 11\\n    y = 22\\n    z = 33\\n    def func_inner():\\n        x = 111\\n        y = 222\\n        z = 333\\n        print(f\"in: {x=}, {y=}, {z=}\")\\n    func_inner()\\n    print(f\"out: {x=}, {y=}, {z=}\")\\n\\n\\nfunc_outer()\\nprint(f\"global: {x=}, {y=}, {z=}\")',\n",
       "  'x = 1\\ny = 2\\nz = 3\\n\\ndef func_outer(): # внешний\\n    x = 11\\n    y = 22\\n    z = 33\\n    def func_inner():\\n        global y\\n        x = 111\\n        y = 222\\n        z = 333\\n        print(f\"in: {x=}, {y=}, {z=}\")\\n    func_inner()\\n    print(f\"out: {x=}, {y=}, {z=}\")\\n\\n\\nfunc_outer()\\nprint(f\"global: {x=}, {y=}, {z=}\")',\n",
       "  'x = 1\\ny = 2\\nz = 3\\n\\ndef func_outer(): # внешний\\n    x = 11\\n    y = 22\\n    z = 33\\n    def func_inner():\\n        global y\\n        nonlocal z\\n        x = 111\\n        y = 222\\n        z = 333\\n        print(f\"in: {x=}, {y=}, {z=}\")\\n    func_inner()\\n    print(f\"out: {x=}, {y=}, {z=}\")\\n\\n\\nfunc_outer()\\nprint(f\"global: {x=}, {y=}, {z=}\")',\n",
       "  'globals()',\n",
       "  'locals()'],\n",
       " 'Out': {12: {...}},\n",
       " 'get_ipython': <bound method InteractiveShell.get_ipython of <ipykernel.zmqshell.ZMQInteractiveShell object at 0x0000026CAB550220>>,\n",
       " 'exit': <IPython.core.autocall.ZMQExitAutocall at 0x26cab551750>,\n",
       " 'quit': <IPython.core.autocall.ZMQExitAutocall at 0x26cab551750>,\n",
       " 'open': <function io.open(file, mode='r', buffering=-1, encoding=None, errors=None, newline=None, closefd=True, opener=None)>,\n",
       " '_': {...},\n",
       " '__': '',\n",
       " '___': '',\n",
       " 'os': <module 'os' from 'c:\\\\Users\\\\Surflay\\\\AppData\\\\Local\\\\Programs\\\\Python\\\\Python310\\\\lib\\\\os.py'>,\n",
       " 'sys': <module 'sys' (built-in)>,\n",
       " '__vsc_ipynb_file__': 'd:\\\\_All\\\\BouRHooD\\\\_University\\\\Магистратура\\\\1 семестр\\\\Современнные технологии программирования\\\\mp2022_224-321_Python\\\\mp2022_224-322_Python\\\\ClassWork\\\\_4_ClassWork\\\\labFuncVariables.ipynb',\n",
       " '_i': 'globals()',\n",
       " '_ii': 'x = 1\\ny = 2\\nz = 3\\n\\ndef func_outer(): # внешний\\n    x = 11\\n    y = 22\\n    z = 33\\n    def func_inner():\\n        global y\\n        nonlocal z\\n        x = 111\\n        y = 222\\n        z = 333\\n        print(f\"in: {x=}, {y=}, {z=}\")\\n    func_inner()\\n    print(f\"out: {x=}, {y=}, {z=}\")\\n\\n\\nfunc_outer()\\nprint(f\"global: {x=}, {y=}, {z=}\")',\n",
       " '_iii': 'x = 1\\ny = 2\\nz = 3\\n\\ndef func_outer(): # внешний\\n    x = 11\\n    y = 22\\n    z = 33\\n    def func_inner():\\n        global y\\n        x = 111\\n        y = 222\\n        z = 333\\n        print(f\"in: {x=}, {y=}, {z=}\")\\n    func_inner()\\n    print(f\"out: {x=}, {y=}, {z=}\")\\n\\n\\nfunc_outer()\\nprint(f\"global: {x=}, {y=}, {z=}\")',\n",
       " '_i1': 'x = 1\\ny = 1\\n\\ndef func():\\n    x = 10\\n    y = 10\\n\\nfunc()\\nprint(f\"{x=}, {y=}\")',\n",
       " 'x': 1,\n",
       " 'y': 222,\n",
       " 'func': <function __main__.func()>,\n",
       " '_i2': 'x = 1\\ny = 1\\n\\ndef func():\\n    x = 10\\n    global y # обращение к глобальной переменной\\n    y = 10\\n\\nfunc()\\nprint(f\"{x=}, {y=}\")',\n",
       " '_i3': 'x = 1\\ny = 1\\n\\ndef func():\\n    global y # обращение к глобальной переменной\\n    x = 10\\n    y = 10\\n    z = 30\\n\\nfunc()\\nprint(f\"{x=}, {y=}, {z=}\")',\n",
       " '_i4': 'x = 1\\ny = 1\\n\\ndef func():\\n    global y # обращение к глобальной переменной\\n    x = 10\\n    y = 10\\n    global z # обращение к глобальной переменной внутри функции\\n    z = 30\\n\\nfunc()\\nprint(f\"{x=}, {y=}, {z=}\")',\n",
       " 'z': 3,\n",
       " '_i5': 'x = 1\\ny = 1\\n\\ndef func():\\n    global y # обращение к глобальной переменной\\n    x = 10\\n    y = 10\\n    global z # объявление глобальной переменной внутри функции\\n    z = 30\\n\\nfunc()\\nprint(f\"{x=}, {y=}, {z=}\")',\n",
       " '_i6': 'x = 1\\ny = 1\\n\\ndef func():\\n    global y # обращение к глобальной переменной\\n    global z # объявление глобальной переменной внутри функции\\n    x = 10\\n    y = 10\\n    z = 30\\n\\nfunc()\\nprint(f\"{x=}, {y=}, {z=}\")',\n",
       " '_i7': 'x = 1\\ny = 2\\nz = 3\\n\\ndef func_outer(): # внешний\\n    x = 11\\n    y = 22\\n    z = 33\\n\\nfunc_outer()\\nprint(f\"global {x=}, {y=}, {z=}\")',\n",
       " 'func_outer': <function __main__.func_outer()>,\n",
       " '_i8': 'x = 1\\ny = 2\\nz = 3\\n\\ndef func_outer(): # внешний\\n    x = 11\\n    y = 22\\n    z = 33\\n\\nfunc_outer()\\nprint(f\"global: {x=}, {y=}, {z=}\")',\n",
       " '_i9': 'x = 1\\ny = 2\\nz = 3\\n\\ndef func_outer(): # внешний\\n    x = 11\\n    y = 22\\n    z = 33\\n    def func_inner():\\n        x = 111\\n        y = 222\\n        z = 333\\n        print(f\"in: {x=}, {y=}, {z=}\")\\n    func_inner()\\n    print(f\"out: {x=}, {y=}, {z=}\")\\n\\n\\nfunc_outer()\\nprint(f\"global: {x=}, {y=}, {z=}\")',\n",
       " '_i10': 'x = 1\\ny = 2\\nz = 3\\n\\ndef func_outer(): # внешний\\n    x = 11\\n    y = 22\\n    z = 33\\n    def func_inner():\\n        global y\\n        x = 111\\n        y = 222\\n        z = 333\\n        print(f\"in: {x=}, {y=}, {z=}\")\\n    func_inner()\\n    print(f\"out: {x=}, {y=}, {z=}\")\\n\\n\\nfunc_outer()\\nprint(f\"global: {x=}, {y=}, {z=}\")',\n",
       " '_i11': 'x = 1\\ny = 2\\nz = 3\\n\\ndef func_outer(): # внешний\\n    x = 11\\n    y = 22\\n    z = 33\\n    def func_inner():\\n        global y\\n        nonlocal z\\n        x = 111\\n        y = 222\\n        z = 333\\n        print(f\"in: {x=}, {y=}, {z=}\")\\n    func_inner()\\n    print(f\"out: {x=}, {y=}, {z=}\")\\n\\n\\nfunc_outer()\\nprint(f\"global: {x=}, {y=}, {z=}\")',\n",
       " '_i12': 'globals()',\n",
       " '_12': {...},\n",
       " '_i13': 'locals()'}"
      ]
     },
     "execution_count": 13,
     "metadata": {},
     "output_type": "execute_result"
    }
   ],
   "source": [
    "locals()"
   ]
  }
 ],
 "metadata": {
  "kernelspec": {
   "display_name": "Python 3",
   "language": "python",
   "name": "python3"
  },
  "language_info": {
   "codemirror_mode": {
    "name": "ipython",
    "version": 3
   },
   "file_extension": ".py",
   "mimetype": "text/x-python",
   "name": "python",
   "nbconvert_exporter": "python",
   "pygments_lexer": "ipython3",
   "version": "3.10.7"
  },
  "orig_nbformat": 4,
  "vscode": {
   "interpreter": {
    "hash": "943c6ee01c10f5cc3c57caccbb7ab83aef6e579cc7a0aa252d51d555fb6a6bce"
   }
  }
 },
 "nbformat": 4,
 "nbformat_minor": 2
}
