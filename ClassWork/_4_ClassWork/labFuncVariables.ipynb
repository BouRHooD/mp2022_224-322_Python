{
 "cells": [
  {
   "attachments": {},
   "cell_type": "markdown",
   "metadata": {},
   "source": [
    "# Переопределение видимости переменных внутри тела функции"
   ]
  },
  {
   "cell_type": "code",
   "execution_count": 6,
   "metadata": {},
   "outputs": [
    {
     "name": "stdout",
     "output_type": "stream",
     "text": [
      "x=1, y=10, z=30\n"
     ]
    }
   ],
   "source": [
    "x = 1\n",
    "y = 1\n",
    "\n",
    "def func():\n",
    "    global y # обращение к глобальной переменной\n",
    "    global z # объявление глобальной переменной внутри функции\n",
    "    x = 10\n",
    "    y = 10\n",
    "    z = 30\n",
    "\n",
    "func()\n",
    "print(f\"{x=}, {y=}, {z=}\")"
   ]
  },
  {
   "cell_type": "code",
   "execution_count": 10,
   "metadata": {},
   "outputs": [
    {
     "name": "stdout",
     "output_type": "stream",
     "text": [
      "in: x=111, y=222, z=333\n",
      "out: x=11, y=22, z=33\n",
      "global: x=1, y=222, z=3\n"
     ]
    }
   ],
   "source": [
    "x = 1\n",
    "y = 2\n",
    "z = 3\n",
    "\n",
    "def func_outer(): # внешний\n",
    "    x = 11\n",
    "    y = 22\n",
    "    z = 33\n",
    "    def func_inner():\n",
    "        global y\n",
    "        nonlocal z\n",
    "        x = 111\n",
    "        y = 222\n",
    "        z = 333\n",
    "        print(f\"in: {x=}, {y=}, {z=}\")\n",
    "    func_inner()\n",
    "    print(f\"out: {x=}, {y=}, {z=}\")\n",
    "\n",
    "\n",
    "func_outer()\n",
    "print(f\"global: {x=}, {y=}, {z=}\")"
   ]
  }
 ],
 "metadata": {
  "kernelspec": {
   "display_name": "Python 3",
   "language": "python",
   "name": "python3"
  },
  "language_info": {
   "codemirror_mode": {
    "name": "ipython",
    "version": 3
   },
   "file_extension": ".py",
   "mimetype": "text/x-python",
   "name": "python",
   "nbconvert_exporter": "python",
   "pygments_lexer": "ipython3",
   "version": "3.10.7"
  },
  "orig_nbformat": 4,
  "vscode": {
   "interpreter": {
    "hash": "943c6ee01c10f5cc3c57caccbb7ab83aef6e579cc7a0aa252d51d555fb6a6bce"
   }
  }
 },
 "nbformat": 4,
 "nbformat_minor": 2
}
