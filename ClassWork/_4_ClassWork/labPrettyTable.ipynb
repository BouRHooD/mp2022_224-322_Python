{
 "cells": [
  {
   "attachments": {},
   "cell_type": "markdown",
   "metadata": {},
   "source": [
    "# PrettyTable - красивый вывод таблицы в терминал или текстовый файл"
   ]
  },
  {
   "cell_type": "code",
   "execution_count": 3,
   "metadata": {},
   "outputs": [],
   "source": [
    "# py -m pip install prettytable\n",
    "from prettytable import PrettyTable"
   ]
  },
  {
   "attachments": {},
   "cell_type": "markdown",
   "metadata": {},
   "source": [
    "## Добавление данных в таблицу"
   ]
  },
  {
   "cell_type": "code",
   "execution_count": 4,
   "metadata": {},
   "outputs": [
    {
     "name": "stdout",
     "output_type": "stream",
     "text": [
      "+---------+------+---------+--------+\n",
      "| Фамилия | Имя  | Возраст |   ЗП   |\n",
      "+---------+------+---------+--------+\n",
      "|  Иванов | Иван |    19   | 50000  |\n",
      "|  Петров | Петр |    27   | 150000 |\n",
      "| Сидоров |  Ян  |    16   |  5000  |\n",
      "+---------+------+---------+--------+\n"
     ]
    }
   ],
   "source": [
    "# (1) Добавление данных построчно\n",
    "ta = PrettyTable()\n",
    "# Поля\n",
    "ta.field_names = [\"Фамилия\", \"Имя\", \"Возраст\", \"ЗП\"]\n",
    "# Данные\n",
    "ta.add_row([\"Иванов\", \"Иван\", 19, 50000])\n",
    "ta.add_row([\"Петров\", \"Петр\", 27, 150000])\n",
    "ta.add_row([\"Сидоров\", \"Ян\", 16, 5000])\n",
    "# Печать\n",
    "print(ta)"
   ]
  },
  {
   "cell_type": "code",
   "execution_count": 5,
   "metadata": {},
   "outputs": [
    {
     "name": "stdout",
     "output_type": "stream",
     "text": [
      "+---------+------+---------+--------+\n",
      "| Фамилия | Имя  | Возраст |   ЗП   |\n",
      "+---------+------+---------+--------+\n",
      "|  Иванов | Иван |    19   | 50000  |\n",
      "|  Петров | Петр |    27   | 150000 |\n",
      "| Сидоров |  Ян  |    16   |  5000  |\n",
      "+---------+------+---------+--------+\n"
     ]
    }
   ],
   "source": [
    "# (2) Добавление данных сразу всех\n",
    "ta = PrettyTable()\n",
    "# Поля\n",
    "ta.field_names = [\"Фамилия\", \"Имя\", \"Возраст\", \"ЗП\"]\n",
    "# Данные\n",
    "ta.add_rows(\n",
    "    [\n",
    "        [\"Иванов\", \"Иван\", 19, 50000],\n",
    "        [\"Петров\", \"Петр\", 27, 150000],\n",
    "        [\"Сидоров\", \"Ян\", 16, 5000],\n",
    "    ]\n",
    ")\n",
    "# Печать\n",
    "print(ta)"
   ]
  },
  {
   "cell_type": "code",
   "execution_count": 6,
   "metadata": {},
   "outputs": [
    {
     "data": {
      "text/html": [
       "<table>\n",
       "    <thead>\n",
       "        <tr>\n",
       "            <th>Фамилия</th>\n",
       "            <th>Имя</th>\n",
       "            <th>Возраст</th>\n",
       "            <th>ЗП</th>\n",
       "        </tr>\n",
       "    </thead>\n",
       "    <tbody>\n",
       "        <tr>\n",
       "            <td>Иванов</td>\n",
       "            <td>Иван</td>\n",
       "            <td>19</td>\n",
       "            <td>50000</td>\n",
       "        </tr>\n",
       "        <tr>\n",
       "            <td>Петров</td>\n",
       "            <td>Петр</td>\n",
       "            <td>27</td>\n",
       "            <td>150000</td>\n",
       "        </tr>\n",
       "        <tr>\n",
       "            <td>Сидоров</td>\n",
       "            <td>Ян</td>\n",
       "            <td>16</td>\n",
       "            <td>5000</td>\n",
       "        </tr>\n",
       "    </tbody>\n",
       "</table>"
      ],
      "text/plain": [
       "+---------+------+---------+--------+\n",
       "| Фамилия | Имя  | Возраст |   ЗП   |\n",
       "+---------+------+---------+--------+\n",
       "|  Иванов | Иван |    19   | 50000  |\n",
       "|  Петров | Петр |    27   | 150000 |\n",
       "| Сидоров |  Ян  |    16   |  5000  |\n",
       "+---------+------+---------+--------+"
      ]
     },
     "execution_count": 6,
     "metadata": {},
     "output_type": "execute_result"
    }
   ],
   "source": [
    "ta"
   ]
  },
  {
   "cell_type": "code",
   "execution_count": 7,
   "metadata": {},
   "outputs": [
    {
     "data": {
      "text/plain": [
       "'+---------+------+---------+--------+\\n| Фамилия | Имя  | Возраст |   ЗП   |\\n+---------+------+---------+--------+\\n|  Иванов | Иван |    19   | 50000  |\\n|  Петров | Петр |    27   | 150000 |\\n| Сидоров |  Ян  |    16   |  5000  |\\n+---------+------+---------+--------+'"
      ]
     },
     "execution_count": 7,
     "metadata": {},
     "output_type": "execute_result"
    }
   ],
   "source": [
    "ta.get_string()"
   ]
  },
  {
   "cell_type": "code",
   "execution_count": 8,
   "metadata": {},
   "outputs": [
    {
     "name": "stdout",
     "output_type": "stream",
     "text": [
      "+---------+------+---------+--------+\n",
      "| Фамилия | Имя  | Возраст |   ЗП   |\n",
      "+---------+------+---------+--------+\n",
      "|  Иванов | Иван |    19   | 50000  |\n",
      "|  Петров | Петр |    27   | 150000 |\n",
      "| Сидоров |  Ян  |    16   |  5000  |\n",
      "+---------+------+---------+--------+\n"
     ]
    }
   ],
   "source": [
    "print(ta.get_string())"
   ]
  },
  {
   "attachments": {},
   "cell_type": "markdown",
   "metadata": {},
   "source": [
    "## Копия таблицы"
   ]
  },
  {
   "cell_type": "code",
   "execution_count": 9,
   "metadata": {},
   "outputs": [],
   "source": [
    "ta_2 = ta\n",
    "ta_3 = ta[:-1]"
   ]
  },
  {
   "cell_type": "code",
   "execution_count": 10,
   "metadata": {},
   "outputs": [
    {
     "name": "stdout",
     "output_type": "stream",
     "text": [
      "+---------+------+---------+--------+\n",
      "| Фамилия | Имя  | Возраст |   ЗП   |\n",
      "+---------+------+---------+--------+\n",
      "|  Иванов | Иван |    19   | 50000  |\n",
      "|  Петров | Петр |    27   | 150000 |\n",
      "+---------+------+---------+--------+\n"
     ]
    }
   ],
   "source": [
    "print(ta_3)"
   ]
  },
  {
   "cell_type": "code",
   "execution_count": 11,
   "metadata": {},
   "outputs": [
    {
     "name": "stdout",
     "output_type": "stream",
     "text": [
      "2743776570448\n",
      "2743776570448\n",
      "2743795198816\n"
     ]
    }
   ],
   "source": [
    "print(id(ta))\n",
    "print(id(ta_2))\n",
    "print(id(ta_3))"
   ]
  },
  {
   "attachments": {},
   "cell_type": "markdown",
   "metadata": {},
   "source": [
    "## Выравнивание данных в таблице"
   ]
  },
  {
   "cell_type": "code",
   "execution_count": 12,
   "metadata": {},
   "outputs": [
    {
     "name": "stdout",
     "output_type": "stream",
     "text": [
      "+---------+------+---------+--------+\n",
      "| Фамилия |  Имя | Возраст |     ЗП |\n",
      "+---------+------+---------+--------+\n",
      "|  Иванов | Иван |      19 |  50000 |\n",
      "|  Петров | Петр |      27 | 150000 |\n",
      "| Сидоров |   Ян |      16 |   5000 |\n",
      "+---------+------+---------+--------+\n"
     ]
    }
   ],
   "source": [
    "# Выравнивание всех столбцов таблицы: 'l', 'c', 'r'\n",
    "ta.align = 'r'\n",
    "print(ta)"
   ]
  },
  {
   "cell_type": "code",
   "execution_count": 13,
   "metadata": {},
   "outputs": [
    {
     "name": "stdout",
     "output_type": "stream",
     "text": [
      "+---------+------+---------+--------+\n",
      "| Фамилия |  Имя | Возраст |     ЗП |\n",
      "+---------+------+---------+--------+\n",
      "| Иванов  | Иван |    19   |  50000 |\n",
      "| Петров  | Петр |    27   | 150000 |\n",
      "| Сидоров |   Ян |    16   |   5000 |\n",
      "+---------+------+---------+--------+\n"
     ]
    }
   ],
   "source": [
    "ta.align[\"Фамилия\"] = 'l'\n",
    "ta.align[\"Возраст\"] = 'c'\n",
    "print(ta)"
   ]
  },
  {
   "attachments": {},
   "cell_type": "markdown",
   "metadata": {},
   "source": [
    "## Сортировка данных таблицы"
   ]
  },
  {
   "cell_type": "code",
   "execution_count": 14,
   "metadata": {},
   "outputs": [
    {
     "name": "stdout",
     "output_type": "stream",
     "text": [
      "+---------+------+---------+--------+\n",
      "| Фамилия |  Имя | Возраст |     ЗП |\n",
      "+---------+------+---------+--------+\n",
      "| Сидоров |   Ян |    16   |   5000 |\n",
      "| Иванов  | Иван |    19   |  50000 |\n",
      "| Петров  | Петр |    27   | 150000 |\n",
      "+---------+------+---------+--------+\n"
     ]
    }
   ],
   "source": [
    "print(ta.get_string(sortby=\"Возраст\"))"
   ]
  },
  {
   "cell_type": "code",
   "execution_count": 15,
   "metadata": {},
   "outputs": [
    {
     "name": "stdout",
     "output_type": "stream",
     "text": [
      "+---------+------+---------+--------+\n",
      "| Фамилия |  Имя | Возраст |     ЗП |\n",
      "+---------+------+---------+--------+\n",
      "| Петров  | Петр |    27   | 150000 |\n",
      "| Иванов  | Иван |    19   |  50000 |\n",
      "| Сидоров |   Ян |    16   |   5000 |\n",
      "+---------+------+---------+--------+\n"
     ]
    }
   ],
   "source": [
    "print(ta.get_string(sortby=\"Возраст\", reversesort=True))"
   ]
  },
  {
   "attachments": {},
   "cell_type": "markdown",
   "metadata": {},
   "source": [
    "## Изменить отображение столбцов и кол-во строк"
   ]
  },
  {
   "cell_type": "code",
   "execution_count": 16,
   "metadata": {},
   "outputs": [
    {
     "name": "stdout",
     "output_type": "stream",
     "text": [
      "+------+---------+\n",
      "|  Имя | Возраст |\n",
      "+------+---------+\n",
      "| Иван |    19   |\n",
      "| Петр |    27   |\n",
      "|   Ян |    16   |\n",
      "+------+---------+\n"
     ]
    }
   ],
   "source": [
    "print(ta.get_string(fields=[\"Имя\", \"Возраст\"]))"
   ]
  },
  {
   "cell_type": "code",
   "execution_count": 17,
   "metadata": {},
   "outputs": [
    {
     "name": "stdout",
     "output_type": "stream",
     "text": [
      "+---------+------+---------+--------+\n",
      "| Фамилия |  Имя | Возраст |     ЗП |\n",
      "+---------+------+---------+--------+\n",
      "| Петров  | Петр |    27   | 150000 |\n",
      "| Сидоров |   Ян |    16   |   5000 |\n",
      "+---------+------+---------+--------+\n"
     ]
    }
   ],
   "source": [
    "print(ta.get_string(start=1, end=3))"
   ]
  },
  {
   "attachments": {},
   "cell_type": "markdown",
   "metadata": {},
   "source": [
    "## Экспортировать таблицу в другой формат"
   ]
  },
  {
   "cell_type": "code",
   "execution_count": 18,
   "metadata": {},
   "outputs": [
    {
     "name": "stdout",
     "output_type": "stream",
     "text": [
      "Фамилия,Имя,Возраст,ЗП\n",
      "Иванов,Иван,19,50000\n",
      "Петров,Петр,27,150000\n",
      "Сидоров,Ян,16,5000\n",
      "\n"
     ]
    }
   ],
   "source": [
    "print(ta.get_csv_string())"
   ]
  },
  {
   "cell_type": "code",
   "execution_count": 20,
   "metadata": {},
   "outputs": [
    {
     "name": "stdout",
     "output_type": "stream",
     "text": [
      "[\n",
      "    [\n",
      "        \"Фамилия\",\n",
      "        \"Имя\",\n",
      "        \"Возраст\",\n",
      "        \"ЗП\"\n",
      "    ],\n",
      "    {\n",
      "        \"Возраст\": 19,\n",
      "        \"ЗП\": 50000,\n",
      "        \"Имя\": \"Иван\",\n",
      "        \"Фамилия\": \"Иванов\"\n",
      "    },\n",
      "    {\n",
      "        \"Возраст\": 27,\n",
      "        \"ЗП\": 150000,\n",
      "        \"Имя\": \"Петр\",\n",
      "        \"Фамилия\": \"Петров\"\n",
      "    },\n",
      "    {\n",
      "        \"Возраст\": 16,\n",
      "        \"ЗП\": 5000,\n",
      "        \"Имя\": \"Ян\",\n",
      "        \"Фамилия\": \"Сидоров\"\n",
      "    }\n",
      "]\n"
     ]
    }
   ],
   "source": [
    "print(ta.get_json_string(ensure_ascii=False))"
   ]
  },
  {
   "cell_type": "code",
   "execution_count": 21,
   "metadata": {},
   "outputs": [
    {
     "name": "stdout",
     "output_type": "stream",
     "text": [
      "<table>\n",
      "    <thead>\n",
      "        <tr>\n",
      "            <th>Фамилия</th>\n",
      "            <th>Имя</th>\n",
      "            <th>Возраст</th>\n",
      "            <th>ЗП</th>\n",
      "        </tr>\n",
      "    </thead>\n",
      "    <tbody>\n",
      "        <tr>\n",
      "            <td>Иванов</td>\n",
      "            <td>Иван</td>\n",
      "            <td>19</td>\n",
      "            <td>50000</td>\n",
      "        </tr>\n",
      "        <tr>\n",
      "            <td>Петров</td>\n",
      "            <td>Петр</td>\n",
      "            <td>27</td>\n",
      "            <td>150000</td>\n",
      "        </tr>\n",
      "        <tr>\n",
      "            <td>Сидоров</td>\n",
      "            <td>Ян</td>\n",
      "            <td>16</td>\n",
      "            <td>5000</td>\n",
      "        </tr>\n",
      "    </tbody>\n",
      "</table>\n"
     ]
    }
   ],
   "source": [
    "print(ta.get_html_string())"
   ]
  },
  {
   "cell_type": "code",
   "execution_count": 22,
   "metadata": {},
   "outputs": [
    {
     "name": "stdout",
     "output_type": "stream",
     "text": [
      "<table id=\"my_table\" class=\"super_table\">\n",
      "    <thead>\n",
      "        <tr>\n",
      "            <th>Фамилия</th>\n",
      "            <th>Имя</th>\n",
      "            <th>Возраст</th>\n",
      "            <th>ЗП</th>\n",
      "        </tr>\n",
      "    </thead>\n",
      "    <tbody>\n",
      "        <tr>\n",
      "            <td>Иванов</td>\n",
      "            <td>Иван</td>\n",
      "            <td>19</td>\n",
      "            <td>50000</td>\n",
      "        </tr>\n",
      "        <tr>\n",
      "            <td>Петров</td>\n",
      "            <td>Петр</td>\n",
      "            <td>27</td>\n",
      "            <td>150000</td>\n",
      "        </tr>\n",
      "        <tr>\n",
      "            <td>Сидоров</td>\n",
      "            <td>Ян</td>\n",
      "            <td>16</td>\n",
      "            <td>5000</td>\n",
      "        </tr>\n",
      "    </tbody>\n",
      "</table>\n"
     ]
    }
   ],
   "source": [
    "print(ta.get_html_string(attributes={\"id\":\"my_table\", \"class\":\"super_table\"}))"
   ]
  }
 ],
 "metadata": {
  "kernelspec": {
   "display_name": "Python 3",
   "language": "python",
   "name": "python3"
  },
  "language_info": {
   "codemirror_mode": {
    "name": "ipython",
    "version": 3
   },
   "file_extension": ".py",
   "mimetype": "text/x-python",
   "name": "python",
   "nbconvert_exporter": "python",
   "pygments_lexer": "ipython3",
   "version": "3.10.7 (tags/v3.10.7:6cc6b13, Sep  5 2022, 14:08:36) [MSC v.1933 64 bit (AMD64)]"
  },
  "orig_nbformat": 4,
  "vscode": {
   "interpreter": {
    "hash": "943c6ee01c10f5cc3c57caccbb7ab83aef6e579cc7a0aa252d51d555fb6a6bce"
   }
  }
 },
 "nbformat": 4,
 "nbformat_minor": 2
}
