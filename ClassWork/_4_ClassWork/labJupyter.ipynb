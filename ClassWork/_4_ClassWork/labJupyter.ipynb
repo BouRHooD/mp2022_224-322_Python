{
 "cells": [
  {
   "attachments": {},
   "cell_type": "markdown",
   "metadata": {},
   "source": [
    "# Магические возможности Jupyter Notebook\n",
    "\n",
    "- Горячие клавиши:\n",
    "    - в режиме навигации (ячеек)\n",
    "    - в режиме редактирования\n",
    "- Команды:\n",
    "    - ! - начало камандной строки\n",
    "    - % - начало строчной команды\n",
    "    - %% - начало блочной (ячеечной) команды"
   ]
  },
  {
   "cell_type": "code",
   "execution_count": 1,
   "metadata": {},
   "outputs": [],
   "source": [
    "\"\"\"\n",
    "В режиме навигации\n",
    "А -\n",
    "B - \n",
    "M - сделать markdown\n",
    "Y - сделать код\n",
    "D+D - удалить\n",
    "\"\"\"\n",
    "pass"
   ]
  },
  {
   "cell_type": "code",
   "execution_count": null,
   "metadata": {},
   "outputs": [],
   "source": [
    "# qwerty"
   ]
  },
  {
   "attachments": {},
   "cell_type": "markdown",
   "metadata": {},
   "source": [
    "## Команды"
   ]
  },
  {
   "cell_type": "markdown",
   "metadata": {},
   "source": [
    "![jupyter](https://www.python.org/static/img/python-logo@2x.png)"
   ]
  },
  {
   "cell_type": "code",
   "execution_count": 2,
   "metadata": {},
   "outputs": [
    {
     "name": "stdout",
     "output_type": "stream",
     "text": [
      "\n",
      "Microsoft Windows [Version 10.0.22000.1335]\n"
     ]
    }
   ],
   "source": [
    "!ver"
   ]
  },
  {
   "cell_type": "code",
   "execution_count": 5,
   "metadata": {},
   "outputs": [
    {
     "data": {
      "text/plain": [
       "['PATH=c:\\\\Users\\\\Surflay\\\\AppData\\\\Local\\\\Programs\\\\Python\\\\Python310;C:\\\\ProgramData\\\\Oracle\\\\Java\\\\javapath;C:\\\\Windows\\\\system32;C:\\\\Windows;C:\\\\Windows\\\\System32\\\\Wbem;C:\\\\Windows\\\\System32\\\\WindowsPowerShell\\\\v1.0\\\\;C:\\\\Windows\\\\System32\\\\OpenSSH\\\\;C:\\\\Program Files\\\\NVIDIA Corporation\\\\NVIDIA NvDLISR;C:\\\\Program Files (x86)\\\\NVIDIA Corporation\\\\PhysX\\\\Common;C:\\\\Program Files\\\\nodejs\\\\;C:\\\\ProgramData\\\\chocolatey\\\\bin;C:\\\\Program Files\\\\Git\\\\cmd;C:\\\\Program Files\\\\dotnet\\\\;C:\\\\Users\\\\Surflay\\\\AppData\\\\Local\\\\Programs\\\\Python\\\\Python310\\\\Scripts\\\\;C:\\\\Users\\\\Surflay\\\\AppData\\\\Local\\\\Programs\\\\Python\\\\Python310\\\\;C:\\\\Users\\\\Surflay\\\\AppData\\\\Local\\\\Programs\\\\Python\\\\Python39\\\\Scripts\\\\;C:\\\\Users\\\\Surflay\\\\AppData\\\\Local\\\\Programs\\\\Python\\\\Python39\\\\;C:\\\\Users\\\\Surflay\\\\AppData\\\\Local\\\\Microsoft\\\\WindowsApps;C:\\\\Users\\\\Surflay\\\\AppData\\\\Local\\\\Programs\\\\Microsoft VS Code\\\\bin;C:\\\\Users\\\\Surflay\\\\AppData\\\\Roaming\\\\npm;C:\\\\Program Files\\\\JetBrains\\\\PyCharm Community Edition 2022.2.2\\\\bin;;C:\\\\Users\\\\Surflay\\\\.dotnet\\\\tools;C:\\\\ProgramData\\\\Oracle\\\\Java\\\\javapath;C:\\\\Windows\\\\system32;C:\\\\Windows;C:\\\\Windows\\\\System32\\\\Wbem;C:\\\\Windows\\\\System32\\\\WindowsPowerShell\\\\v1.0\\\\;C:\\\\Windows\\\\System32\\\\OpenSSH\\\\;C:\\\\Program Files\\\\NVIDIA Corporation\\\\NVIDIA NvDLISR;C:\\\\Program Files (x86)\\\\NVIDIA Corporation\\\\PhysX\\\\Common;C:\\\\Program Files\\\\nodejs\\\\;C:\\\\ProgramData\\\\chocolatey\\\\bin;C:\\\\Program Files\\\\Git\\\\cmd;C:\\\\Program Files\\\\dotnet\\\\;C:\\\\Users\\\\Surflay\\\\AppData\\\\Local\\\\Programs\\\\Python\\\\Python310\\\\Scripts\\\\;C:\\\\Users\\\\Surflay\\\\AppData\\\\Local\\\\Programs\\\\Python\\\\Python310\\\\;C:\\\\Users\\\\Surflay\\\\AppData\\\\Local\\\\Programs\\\\Python\\\\Python39\\\\Scripts\\\\;C:\\\\Users\\\\Surflay\\\\AppData\\\\Local\\\\Programs\\\\Python\\\\Python39\\\\;C:\\\\Users\\\\Surflay\\\\AppData\\\\Local\\\\Microsoft\\\\WindowsApps;C:\\\\Users\\\\Surflay\\\\AppData\\\\Local\\\\Programs\\\\Microsoft VS Code\\\\bin;C:\\\\Users\\\\Surflay\\\\AppData\\\\Roaming\\\\npm;C:\\\\Program Files\\\\JetBrains\\\\PyCharm Community Edition 2022.2.2\\\\bin;;C:\\\\Users\\\\Surflay\\\\.dotnet\\\\tools']"
      ]
     },
     "execution_count": 5,
     "metadata": {},
     "output_type": "execute_result"
    }
   ],
   "source": [
    "v = !path\n",
    "v"
   ]
  },
  {
   "cell_type": "code",
   "execution_count": 7,
   "metadata": {},
   "outputs": [],
   "source": [
    "x = 1\n",
    "y = 2\n",
    "s = \"Hello\""
   ]
  },
  {
   "cell_type": "code",
   "execution_count": 8,
   "metadata": {},
   "outputs": [
    {
     "name": "stdout",
     "output_type": "stream",
     "text": [
      "os\t s\t sys\t v\t x\t y\t \n"
     ]
    }
   ],
   "source": [
    "%who"
   ]
  },
  {
   "cell_type": "code",
   "execution_count": 11,
   "metadata": {},
   "outputs": [
    {
     "data": {
      "text/plain": [
       "'d:\\\\_All\\\\BouRHooD\\\\_University\\\\Магистратура\\\\1 семестр\\\\Современнные технологии программирования\\\\mp2022_224-321_Python\\\\mp2022_224-322_Python\\\\ClassWork\\\\_4_ClassWork'"
      ]
     },
     "execution_count": 11,
     "metadata": {},
     "output_type": "execute_result"
    }
   ],
   "source": [
    "# Текущая папка\n",
    "%pwd"
   ]
  },
  {
   "cell_type": "code",
   "execution_count": 17,
   "metadata": {},
   "outputs": [
    {
     "name": "stdout",
     "output_type": "stream",
     "text": [
      "CPU times: total: 0 ns\n",
      "Wall time: 1.01 s\n"
     ]
    }
   ],
   "source": [
    "%%time\n",
    "\n",
    "import time\n",
    "time.sleep(1)"
   ]
  },
  {
   "cell_type": "code",
   "execution_count": 24,
   "metadata": {},
   "outputs": [
    {
     "name": "stdout",
     "output_type": "stream",
     "text": [
      "CPU times: total: 734 ms\n",
      "Wall time: 735 ms\n"
     ]
    }
   ],
   "source": [
    "%%time\n",
    "\n",
    "x = 0\n",
    "for i in range(10_000_000):\n",
    "    x += i"
   ]
  },
  {
   "cell_type": "code",
   "execution_count": 25,
   "metadata": {},
   "outputs": [
    {
     "name": "stdout",
     "output_type": "stream",
     "text": [
      "382 ms ± 5.57 ms per loop (mean ± std. dev. of 3 runs, 2 loops each)\n"
     ]
    }
   ],
   "source": [
    "%%timeit -n 2 -r 3\n",
    "\n",
    "x = 0\n",
    "for i in range(10_000_000):\n",
    "    x += i"
   ]
  },
  {
   "cell_type": "code",
   "execution_count": 26,
   "metadata": {},
   "outputs": [
    {
     "data": {
      "text/html": [
       "<h1> Заголовок </h1>\n",
       "<h2> Заголовок </h2>\n",
       "<h3> Заголовок </h3>\n",
       "<h4> Заголовок </h4>\n",
       "<h5> Заголовок </h5>\n"
      ],
      "text/plain": [
       "<IPython.core.display.HTML object>"
      ]
     },
     "metadata": {},
     "output_type": "display_data"
    }
   ],
   "source": [
    "%%HTML\n",
    "<h1> Заголовок </h1>\n",
    "<h2> Заголовок </h2>\n",
    "<h3> Заголовок </h3>\n",
    "<h4> Заголовок </h4>\n",
    "<h5> Заголовок </h5>"
   ]
  },
  {
   "cell_type": "code",
   "execution_count": 38,
   "metadata": {},
   "outputs": [
    {
     "data": {
      "text/html": [
       "Обычный текст\n",
       "\n",
       "<h3> Заголовок </h3>\n",
       "<h4> Заголовок </h4>\n",
       "<h5> Заголовок </h5>\n",
       "\n",
       "<b>Жирный</b>, <i>Курсив</i>\n",
       "\n",
       "<ul>\n",
       " <li> 111 </li>\n",
       " <li> 111 </li>\n",
       " <li> 111 </li>\n",
       "</ul>\n",
       "\n",
       "<p style=\"border:2px solid;\">Рамка</p>\n",
       "<p style=\"background-color:Green;\">Рамка</p>\n"
      ],
      "text/plain": [
       "<IPython.core.display.HTML object>"
      ]
     },
     "metadata": {},
     "output_type": "display_data"
    }
   ],
   "source": [
    "%%HTML\n",
    "Обычный текст\n",
    "\n",
    "<h3> Заголовок </h3>\n",
    "<h4> Заголовок </h4>\n",
    "<h5> Заголовок </h5>\n",
    "\n",
    "<b>Жирный</b>, <i>Курсив</i>\n",
    "\n",
    "<ul>\n",
    " <li> 111 </li>\n",
    " <li> 111 </li>\n",
    " <li> 111 </li>\n",
    "</ul>\n",
    "\n",
    "<p style=\"border:2px solid;\">Рамка</p>\n",
    "<p style=\"background-color:Green;\">Рамка</p>"
   ]
  },
  {
   "cell_type": "code",
   "execution_count": 40,
   "metadata": {},
   "outputs": [
    {
     "data": {
      "text/latex": [
       "$ E = nc^2 $\n",
       "$$ c = \\sqrt{x^2 + b^2} $$\n"
      ],
      "text/plain": [
       "<IPython.core.display.Latex object>"
      ]
     },
     "metadata": {},
     "output_type": "display_data"
    }
   ],
   "source": [
    "%%latex\n",
    "$ E = nc^2 $\n",
    "$$ c = \\sqrt{x^2 + b^2} $$"
   ]
  },
  {
   "cell_type": "code",
   "execution_count": null,
   "metadata": {},
   "outputs": [],
   "source": [
    "a = 123\n",
    "a"
   ]
  }
 ],
 "metadata": {
  "kernelspec": {
   "display_name": "Python 3",
   "language": "python",
   "name": "python3"
  },
  "language_info": {
   "codemirror_mode": {
    "name": "ipython",
    "version": 3
   },
   "file_extension": ".py",
   "mimetype": "text/x-python",
   "name": "python",
   "nbconvert_exporter": "python",
   "pygments_lexer": "ipython3",
   "version": "3.10.7"
  },
  "orig_nbformat": 4,
  "vscode": {
   "interpreter": {
    "hash": "943c6ee01c10f5cc3c57caccbb7ab83aef6e579cc7a0aa252d51d555fb6a6bce"
   }
  }
 },
 "nbformat": 4,
 "nbformat_minor": 2
}
