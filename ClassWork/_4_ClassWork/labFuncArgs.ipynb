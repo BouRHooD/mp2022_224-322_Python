{
 "cells": [
  {
   "attachments": {},
   "cell_type": "markdown",
   "metadata": {},
   "source": [
    "# Аргументы функции (args)\n",
    "\n",
    "Способы:\n",
    "- неизменяемые объекты передаются \"по значению\"\n",
    "- изменяемые объекты передаются \"по ссылке\"\n",
    "\n",
    "Помним, про типы:\n",
    "- неизменяемые объекты (immutable) [int, float, tuple, str, ...]\n",
    "- изменяемые объекты (mutable) [list, set, dict, ...]"
   ]
  },
  {
   "cell_type": "code",
   "execution_count": 3,
   "metadata": {},
   "outputs": [
    {
     "name": "stdout",
     "output_type": "stream",
     "text": [
      "show_int: x=111\n",
      "x=1\n"
     ]
    }
   ],
   "source": [
    "# \"по значению\"\n",
    "def show_int(x):\n",
    "    x = 111\n",
    "    print(f\"show_int: {x=}\")\n",
    "\n",
    "x = 1\n",
    "show_int(x)\n",
    "print(f\"{x=}\")"
   ]
  },
  {
   "cell_type": "code",
   "execution_count": 19,
   "metadata": {},
   "outputs": [
    {
     "name": "stdout",
     "output_type": "stream",
     "text": [
      "show_list: ['Тула', 'Москва']\n",
      "['Тула', 'Москва']\n"
     ]
    }
   ],
   "source": [
    "# \"по ссылке\"\n",
    "def show_list(cities: list):\n",
    "    cities.append(\"Москва\")\n",
    "    print(f\"show_list: {cities}\")\n",
    "\n",
    "cities = [\"Тула\"]\n",
    "show_list(cities)\n",
    "print(f\"{cities}\")"
   ]
  },
  {
   "cell_type": "code",
   "execution_count": 18,
   "metadata": {},
   "outputs": [
    {
     "name": "stdout",
     "output_type": "stream",
     "text": [
      "show_list: ['Тула', 'Москва']\n",
      "['Тула']\n"
     ]
    }
   ],
   "source": [
    "# \"по ссылке\"\n",
    "def show_list(cities: list):\n",
    "    cities.append(\"Москва\")\n",
    "    print(f\"show_list: {cities}\")\n",
    "\n",
    "cities = [\"Тула\"]\n",
    "show_list(cities[:]) # <----- Копия списка\n",
    "print(f\"{cities}\")"
   ]
  },
  {
   "cell_type": "code",
   "execution_count": 32,
   "metadata": {},
   "outputs": [
    {
     "name": "stdout",
     "output_type": "stream",
     "text": [
      "show_list: ['Тула', 'Москва']\n",
      "cities=['Тула', 'Москва']\n"
     ]
    }
   ],
   "source": [
    "def show_list_v2(cities_: list):\n",
    "    cities_local = cities_[:] # <----- Копия списка\n",
    "    cities_local.append(\"Москва\")\n",
    "    print(f\"show_list: {cities_local}\")\n",
    "\n",
    "cities = [\"Тула\"]\n",
    "show_list(cities)\n",
    "print(f\"{cities=}\")"
   ]
  }
 ],
 "metadata": {
  "kernelspec": {
   "display_name": "Python 3",
   "language": "python",
   "name": "python3"
  },
  "language_info": {
   "codemirror_mode": {
    "name": "ipython",
    "version": 3
   },
   "file_extension": ".py",
   "mimetype": "text/x-python",
   "name": "python",
   "nbconvert_exporter": "python",
   "pygments_lexer": "ipython3",
   "version": "3.10.7"
  },
  "orig_nbformat": 4,
  "vscode": {
   "interpreter": {
    "hash": "943c6ee01c10f5cc3c57caccbb7ab83aef6e579cc7a0aa252d51d555fb6a6bce"
   }
  }
 },
 "nbformat": 4,
 "nbformat_minor": 2
}
