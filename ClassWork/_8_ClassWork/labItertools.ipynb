{
 "cells": [
  {
   "attachments": {},
   "cell_type": "markdown",
   "metadata": {},
   "source": [
    "# Сборник итераторов"
   ]
  },
  {
   "attachments": {},
   "cell_type": "markdown",
   "metadata": {},
   "source": [
    "## Бесконечные итераторы"
   ]
  },
  {
   "cell_type": "code",
   "execution_count": 3,
   "metadata": {},
   "outputs": [],
   "source": [
    "import itertools"
   ]
  },
  {
   "cell_type": "code",
   "execution_count": 4,
   "metadata": {},
   "outputs": [
    {
     "name": "stdout",
     "output_type": "stream",
     "text": [
      "A B C D A B C D A B C D A B C D A B C D A B C D A B C D A B "
     ]
    }
   ],
   "source": [
    "n = 0\n",
    "for i in itertools.cycle('ABCD'):\n",
    "    if n >= 30:\n",
    "        break\n",
    "    print(i, end=' ')\n",
    "    n += 1"
   ]
  },
  {
   "cell_type": "code",
   "execution_count": 5,
   "metadata": {},
   "outputs": [
    {
     "name": "stdout",
     "output_type": "stream",
     "text": [
      "A B C D A B C D A B C D A B C D A B C D A B C D A B C D A B "
     ]
    }
   ],
   "source": [
    "# альтернатива itertools.cycle\n",
    "\n",
    "def my_cycle(iterable):\n",
    "    saved = []\n",
    "    for element in iterable:\n",
    "        yield element\n",
    "        saved.append(element)\n",
    "    while saved:\n",
    "        for element in iterable: \n",
    "            yield element\n",
    "\n",
    "n = 0\n",
    "for i in my_cycle(\"ABCD\"):\n",
    "    if n >= 30:\n",
    "        break\n",
    "    print(i, end=' ')\n",
    "    n += 1"
   ]
  },
  {
   "cell_type": "code",
   "execution_count": 6,
   "metadata": {},
   "outputs": [
    {
     "name": "stdout",
     "output_type": "stream",
     "text": [
      "Москва\n",
      "Воронеж\n",
      "Калуга\n",
      "Москва\n",
      "Воронеж\n",
      "Калуга\n"
     ]
    }
   ],
   "source": [
    "it_cities = itertools.cycle(['Москва', \"Воронеж\", \"Калуга\"])\n",
    "print(next(it_cities))\n",
    "print(next(it_cities))\n",
    "print(next(it_cities))\n",
    "print(next(it_cities))\n",
    "print(next(it_cities))\n",
    "print(next(it_cities))"
   ]
  },
  {
   "cell_type": "code",
   "execution_count": 7,
   "metadata": {},
   "outputs": [
    {
     "name": "stdout",
     "output_type": "stream",
     "text": [
      "on\n",
      "off\n",
      "on\n",
      "off\n",
      "on\n"
     ]
    }
   ],
   "source": [
    "it_states = itertools.cycle(['on', \"off\"])\n",
    "for _ in range(5):\n",
    "    print(next(it_states))"
   ]
  },
  {
   "cell_type": "code",
   "execution_count": 8,
   "metadata": {},
   "outputs": [
    {
     "name": "stdout",
     "output_type": "stream",
     "text": [
      "Hello Hello Hello Hello Hello "
     ]
    }
   ],
   "source": [
    "for i in itertools.repeat('Hello', 5):\n",
    "    print(i, end=' ')"
   ]
  },
  {
   "attachments": {},
   "cell_type": "markdown",
   "metadata": {},
   "source": [
    "## Конечные итераторы"
   ]
  },
  {
   "cell_type": "code",
   "execution_count": 16,
   "metadata": {},
   "outputs": [
    {
     "name": "stdout",
     "output_type": "stream",
     "text": [
      "1 2 3 4 5 6 7 8 9\n",
      "1 3 6 10 15 21 28 36 45\n",
      "10 11 13 16 20 25 31 38 46 55\n"
     ]
    }
   ],
   "source": [
    "print(*range(1, 10))\n",
    "print(*itertools.accumulate(range(1, 10))) # Сложение\n",
    "print(*itertools.accumulate(range(1, 10), initial=10))"
   ]
  },
  {
   "cell_type": "code",
   "execution_count": 15,
   "metadata": {},
   "outputs": [
    {
     "name": "stdout",
     "output_type": "stream",
     "text": [
      "1 2 3 4 5 6 7 8 9\n",
      "1 2 6 24 120 720 5040 40320 362880\n",
      "1 2.0 3.5 5.5 8.0 11.0 14.5 18.5 23.0\n"
     ]
    }
   ],
   "source": [
    "import operator\n",
    "\n",
    "print(*range(1, 10))\n",
    "print(*itertools.accumulate(range(1, 10), operator.mul))\n",
    "print(*itertools.accumulate(range(1, 10), func= lambda a, b: a + b / 2))"
   ]
  },
  {
   "cell_type": "code",
   "execution_count": 17,
   "metadata": {},
   "outputs": [
    {
     "name": "stdout",
     "output_type": "stream",
     "text": [
      "A B C 0 1 2 3 4 -1 -2\n"
     ]
    }
   ],
   "source": [
    "print(*itertools.chain('ABC', range(5), [-1, -2]))"
   ]
  },
  {
   "attachments": {},
   "cell_type": "markdown",
   "metadata": {},
   "source": [
    "## Комбинированные итераторы"
   ]
  }
 ],
 "metadata": {
  "kernelspec": {
   "display_name": "Python 3",
   "language": "python",
   "name": "python3"
  },
  "language_info": {
   "codemirror_mode": {
    "name": "ipython",
    "version": 3
   },
   "file_extension": ".py",
   "mimetype": "text/x-python",
   "name": "python",
   "nbconvert_exporter": "python",
   "pygments_lexer": "ipython3",
   "version": "3.10.7 (tags/v3.10.7:6cc6b13, Sep  5 2022, 14:08:36) [MSC v.1933 64 bit (AMD64)]"
  },
  "orig_nbformat": 4,
  "vscode": {
   "interpreter": {
    "hash": "943c6ee01c10f5cc3c57caccbb7ab83aef6e579cc7a0aa252d51d555fb6a6bce"
   }
  }
 },
 "nbformat": 4,
 "nbformat_minor": 2
}
