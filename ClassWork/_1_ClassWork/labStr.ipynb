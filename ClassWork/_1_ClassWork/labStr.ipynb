{
 "cells": [
  {
   "cell_type": "markdown",
   "metadata": {},
   "source": [
    "# Строка (str) \n",
    "\n",
    "Строка (str) - встроенный (вместе с Python) изменяемый тип данных, который предоставляет последовательность символов\n"
   ]
  },
  {
   "cell_type": "code",
   "execution_count": 6,
   "metadata": {},
   "outputs": [
    {
     "name": "stdout",
     "output_type": "stream",
     "text": [
      "Visual Studio CodeVisual Studio CodeVisual Studio Code\n",
      "HiHiHi\n",
      "18\n"
     ]
    }
   ],
   "source": [
    "s = \"Visual Studio Code\"\n",
    "print (s * 3)\n",
    "print(\"Hi\" * 3)\n",
    "print(len(s)) "
   ]
  },
  {
   "cell_type": "code",
   "execution_count": 4,
   "metadata": {},
   "outputs": [
    {
     "data": {
      "text/plain": [
       "'Visual Studio Code'"
      ]
     },
     "execution_count": 4,
     "metadata": {},
     "output_type": "execute_result"
    }
   ],
   "source": [
    "s = \"Visual Studio Code\"\n",
    "s # Говорим интерпертатору сделать print (только 1 раз)\n",
    "s # !Второй раз не сработает!"
   ]
  },
  {
   "cell_type": "code",
   "execution_count": 14,
   "metadata": {},
   "outputs": [
    {
     "name": "stdout",
     "output_type": "stream",
     "text": [
      "VISUAL STUDIO CODE\n",
      "visual studio code\n",
      "Visual Studio Code\n",
      "vISUAL sTUDIO cODE\n",
      "Visual studio code\n",
      "......Visual Studio Code......\n",
      "Visual Studio Code............\n",
      "............Visual Studio Code\n",
      "000000000000Visual Studio Code\n"
     ]
    }
   ],
   "source": [
    "print(s.upper())\n",
    "print(s.lower())\n",
    "print(s.lower().title())\n",
    "print(s.swapcase())\n",
    "print(s.capitalize())    # Метод str.capitalize() вернет копию строки str с первым символом в верхнем регистре, а остальные символы будут в нижнем регистре.\n",
    "print(s.center(30, '.'))\n",
    "print(s.ljust(30, '.'))\n",
    "print(s.rjust(30, '.'))\n",
    "print(s.zfill(30))"
   ]
  },
  {
   "cell_type": "code",
   "execution_count": 21,
   "metadata": {},
   "outputs": [
    {
     "name": "stdout",
     "output_type": "stream",
     "text": [
      "19\n",
      "0\n",
      "-1\n",
      "13\n",
      "True\n",
      "True\n"
     ]
    }
   ],
   "source": [
    "print(s.count(\"\"))\n",
    "print(s.index(\"\"))  # если не найдено, то Error\n",
    "print(s.find(\"ы\"))  # если не найдено, то -1\n",
    "print(s.rfind(\" \")) # Найти с конца строки\n",
    "print(s.startswith(\"Vi\"))\n",
    "print(s.endswith(\"Code\"))"
   ]
  },
  {
   "cell_type": "code",
   "execution_count": 22,
   "metadata": {},
   "outputs": [
    {
     "name": "stdout",
     "output_type": "stream",
     "text": [
      "True\n",
      "False\n",
      "False\n"
     ]
    }
   ],
   "source": [
    "print(\"Qwerty12345\".isalnum()) # true если буквы или цифры\n",
    "print(\"Qwerty12345\".isalpha()) # true если буквы\n",
    "print(\"Qwerty12345\".isdigit()) # true если цифры"
   ]
  },
  {
   "cell_type": "code",
   "execution_count": 25,
   "metadata": {},
   "outputs": [
    {
     "name": "stdout",
     "output_type": "stream",
     "text": [
      "('Vis', 'u', 'al Studio Code')\n",
      "('bourhood', '@', 'gmail.com')\n"
     ]
    }
   ],
   "source": [
    "print(s.partition('u')) # разделяем строку на кортеж (символ разделения u)\n",
    "print(\"bourhood@gmail.com\".partition('@'))"
   ]
  },
  {
   "cell_type": "code",
   "execution_count": 27,
   "metadata": {},
   "outputs": [
    {
     "name": "stdout",
     "output_type": "stream",
     "text": [
      "['Visual', 'Studio', 'Code']\n",
      "['Visual Studio Code']\n",
      "Visual_____Studio_____Code\n"
     ]
    }
   ],
   "source": [
    "print(s.split())\n",
    "print(s.splitlines())\n",
    "print(s.replace(' ', '_____'))"
   ]
  },
  {
   "cell_type": "code",
   "execution_count": 34,
   "metadata": {},
   "outputs": [
    {
     "name": "stdout",
     "output_type": "stream",
     "text": [
      "True\n",
      "False\n"
     ]
    }
   ],
   "source": [
    "print(\"Studio\" in s)\n",
    "print(\"Studio\" not in s)"
   ]
  },
  {
   "cell_type": "code",
   "execution_count": 36,
   "metadata": {},
   "outputs": [
    {
     "name": "stdout",
     "output_type": "stream",
     "text": [
      "V\n",
      "i\n",
      "e\n",
      "d\n"
     ]
    }
   ],
   "source": [
    "# [индекс] - получить значение элемента (символа) по индексу\n",
    "print(s[0])     # 0 символ\n",
    "print(s[1])     # 1 символ\n",
    "print(s[-1])    # 1 символ с конца\n",
    "print(s[-2])    # 2 символ с конца\n"
   ]
  },
  {
   "cell_type": "code",
   "execution_count": 38,
   "metadata": {},
   "outputs": [
    {
     "name": "stdout",
     "output_type": "stream",
     "text": [
      "Visual Studio Code\n",
      "sual Studio Code\n",
      "isua\n",
      "Visual Studio C\n",
      "de\n"
     ]
    }
   ],
   "source": [
    "# [start:end] - получить срез (slices)\n",
    "print(s[:])   # От первого до последнего символа\n",
    "print(s[2:])  # От 2 до последнего символа\n",
    "print(s[1:5]) # От 1 до 5 символа\n",
    "print(s[:-3]) # От 0 до (последний символ - 3) символа\n",
    "print(s[-2:]) # От (последний символ - 2) до последнего символа"
   ]
  },
  {
   "cell_type": "code",
   "execution_count": 39,
   "metadata": {},
   "outputs": [
    {
     "name": "stdout",
     "output_type": "stream",
     "text": [
      "Visual Studio Code\n",
      "Vsa tdoCd\n",
      "edoC oidutS lausiV\n"
     ]
    }
   ],
   "source": [
    "# [start:end:step] - получить срез (slices) с заданным шагом\n",
    "print(s[::])\n",
    "print(s[::2])  # срезаем символы с шагом 2\n",
    "print(s[::-1])"
   ]
  },
  {
   "cell_type": "code",
   "execution_count": 40,
   "metadata": {},
   "outputs": [
    {
     "name": "stdout",
     "output_type": "stream",
     "text": [
      "       Python      \n",
      "Python      \n",
      "       Python\n",
      "Python\n"
     ]
    }
   ],
   "source": [
    "s = \"       Python      \"\n",
    "print(s)\n",
    "print(s.lstrip())   # Удаляем пробелы слева\n",
    "print(s.rstrip())   # Удаляем пробелы справа\n",
    "print(s.strip())    # Удаляем пробелы слева и справа"
   ]
  },
  {
   "cell_type": "code",
   "execution_count": 42,
   "metadata": {},
   "outputs": [
    {
     "name": "stdout",
     "output_type": "stream",
     "text": [
      "Мир Труд Май !\n",
      "Мир, Труд, Май, !\n"
     ]
    }
   ],
   "source": [
    "print(\" \".join([\"Мир\", \"Труд\", \"Май\", \"!\"]))\n",
    "print(\", \".join([\"Мир\", \"Труд\", \"Май\", \"!\"]))"
   ]
  }
 ],
 "metadata": {
  "kernelspec": {
   "display_name": "Python 3.10.7 64-bit",
   "language": "python",
   "name": "python3"
  },
  "language_info": {
   "codemirror_mode": {
    "name": "ipython",
    "version": 3
   },
   "file_extension": ".py",
   "mimetype": "text/x-python",
   "name": "python",
   "nbconvert_exporter": "python",
   "pygments_lexer": "ipython3",
   "version": "3.10.7 (tags/v3.10.7:6cc6b13, Sep  5 2022, 14:08:36) [MSC v.1933 64 bit (AMD64)]"
  },
  "orig_nbformat": 4,
  "vscode": {
   "interpreter": {
    "hash": "943c6ee01c10f5cc3c57caccbb7ab83aef6e579cc7a0aa252d51d555fb6a6bce"
   }
  }
 },
 "nbformat": 4,
 "nbformat_minor": 2
}
